{
 "cells": [
  {
   "cell_type": "markdown",
   "metadata": {
    "pycharm": {
     "name": "#%% md\n"
    }
   },
   "source": [
    "# 在拆分学习中使用通讯压缩方法\n",
    "\n",
    "> 以下代码仅作为示例，请勿在生产环境直接使用。\n",
    "\n",
    "> 本示例基于基于“拆分学习：银行营销”教程制作，建议先观看那个教程。\n",
    "\n",
    "在拆分学习中，由于模型被拆分在多个设备当中，进行训练的时候，各方需要对特征和梯度进行多次传输，带来很高的网络通讯消耗。为了减少通讯过程中的数据量，可以进行一些压缩处理。\n",
    "\n",
    "SecretFlow提供了Compressor对拆分学习中的数据进行压缩。同时也提供了多种基类，可以在此基础上实现自己的压缩算法。\n",
    "\n",
    "下面我们来试试一些算法的可用性，首先，我们在secretflow环境中创造2个实体alice和bob。"
   ]
  },
  {
   "cell_type": "code",
   "execution_count": 10,
   "metadata": {
    "pycharm": {
     "name": "#%%\n"
    }
   },
   "outputs": [
    {
     "name": "stderr",
     "output_type": "stream",
     "text": [
      "2024-01-10 07:47:23,517\tWARNING services.py:1732 -- WARNING: The object store is using /tmp instead of /dev/shm because /dev/shm has only 3300265984 bytes available. This will harm performance! You may be able to free up space by deleting files in /dev/shm. If you are inside a Docker container, you can increase /dev/shm size by passing '--shm-size=4.17gb' to 'docker run' (or add it to the run_options list in a Ray cluster config). Make sure to set this to more than 30% of available RAM.\n",
      "2024-01-10 07:47:23,738\tINFO worker.py:1538 -- Started a local Ray instance.\n"
     ]
    }
   ],
   "source": [
    "import secretflow as sf\n",
    "\n",
    "sf.shutdown()\n",
    "sf.init(['alice', 'bob'], address='local', num_cpus=32)\n",
    "alice, bob = sf.PYU('alice'), sf.PYU('bob')"
   ]
  },
  {
   "cell_type": "markdown",
   "metadata": {
    "pycharm": {
     "name": "#%% md\n"
    }
   },
   "source": [
    "接下来我们准备要学习的数据。\n",
    "\n",
    "我们使用“拆分学习：银行营销”中的数据准备和处理方法，下载银行营销数据集并进行处理。alice和bob的角色和之前的教程完全相同："
   ]
  },
  {
   "cell_type": "code",
   "execution_count": 11,
   "metadata": {
    "pycharm": {
     "name": "#%%\n"
    }
   },
   "outputs": [
    {
     "name": "stderr",
     "output_type": "stream",
     "text": [
      "INFO:root:Create proxy actor <class 'secretflow.data.core.agent.PartitionAgent'> with party alice.\n",
      "INFO:root:Create proxy actor <class 'secretflow.data.core.agent.PartitionAgent'> with party bob.\n",
      "INFO:root:Create proxy actor <class 'secretflow.data.core.agent.PartitionAgent'> with party alice.\n",
      "\u001B[2m\u001B[36m(PartitionAgent pid=42782)\u001B[0m /opt/conda/envs/default/lib/python3.8/site-packages/sklearn/base.py:443: UserWarning: X has feature names, but MinMaxScaler was fitted without feature names\n",
      "\u001B[2m\u001B[36m(PartitionAgent pid=42782)\u001B[0m   warnings.warn(\n",
      "\u001B[2m\u001B[36m(PartitionAgent pid=42784)\u001B[0m /opt/conda/envs/default/lib/python3.8/site-packages/sklearn/base.py:443: UserWarning: X has feature names, but MinMaxScaler was fitted without feature names\n",
      "\u001B[2m\u001B[36m(PartitionAgent pid=42784)\u001B[0m   warnings.warn(\n"
     ]
    }
   ],
   "source": [
    "from secretflow.utils.simulation.datasets import load_bank_marketing\n",
    "from secretflow.preprocessing.scaler import MinMaxScaler\n",
    "from secretflow.preprocessing.encoder import LabelEncoder\n",
    "from secretflow.data.split import train_test_split\n",
    "\n",
    "random_state = 1234\n",
    "\n",
    "data = load_bank_marketing(parts={alice: (0, 4), bob: (4, 16)}, axis=1)\n",
    "label = load_bank_marketing(parts={alice: (16, 17)}, axis=1)\n",
    "\n",
    "encoder = LabelEncoder()\n",
    "data['job'] = encoder.fit_transform(data['job'])\n",
    "data['marital'] = encoder.fit_transform(data['marital'])\n",
    "data['education'] = encoder.fit_transform(data['education'])\n",
    "data['default'] = encoder.fit_transform(data['default'])\n",
    "data['housing'] = encoder.fit_transform(data['housing'])\n",
    "data['loan'] = encoder.fit_transform(data['loan'])\n",
    "data['contact'] = encoder.fit_transform(data['contact'])\n",
    "data['poutcome'] = encoder.fit_transform(data['poutcome'])\n",
    "data['month'] = encoder.fit_transform(data['month'])\n",
    "label = encoder.fit_transform(label)\n",
    "\n",
    "scaler = MinMaxScaler()\n",
    "data = scaler.fit_transform(data)\n",
    "\n",
    "train_data, test_data = train_test_split(\n",
    "    data, train_size=0.8, random_state=random_state\n",
    ")\n",
    "train_label, test_label = train_test_split(\n",
    "    label, train_size=0.8, random_state=random_state\n",
    ")"
   ]
  },
  {
   "cell_type": "markdown",
   "metadata": {
    "pycharm": {
     "name": "#%% md\n"
    }
   },
   "source": [
    "接下来我们创建联邦模型，同样地，我们使用“拆分学习：银行营销”中的建模，构建出base_model和fuse_model，然后就可以定义SLModel用于训练："
   ]
  },
  {
   "cell_type": "code",
   "execution_count": 12,
   "metadata": {
    "pycharm": {
     "name": "#%%\n"
    }
   },
   "outputs": [
    {
     "name": "stderr",
     "output_type": "stream",
     "text": [
      "INFO:root:Create proxy actor <class 'secretflow.ml.nn.sl.backend.tensorflow.sl_base.PYUSLTFModel'> with party alice.\n",
      "INFO:root:Create proxy actor <class 'secretflow.ml.nn.sl.backend.tensorflow.sl_base.PYUSLTFModel'> with party bob.\n"
     ]
    }
   ],
   "source": [
    "def create_base_model(input_dim, output_dim, name='base_model'):\n",
    "    # Create model\n",
    "    def create_model():\n",
    "        from tensorflow import keras\n",
    "        from tensorflow.keras import layers\n",
    "        import tensorflow as tf\n",
    "\n",
    "        model = keras.Sequential(\n",
    "            [\n",
    "                keras.Input(shape=input_dim),\n",
    "                layers.Dense(100, activation=\"relu\"),\n",
    "                layers.Dense(output_dim, activation=\"relu\"),\n",
    "            ]\n",
    "        )\n",
    "        # Compile model\n",
    "        model.summary()\n",
    "        model.compile(\n",
    "            loss='binary_crossentropy',\n",
    "            optimizer='adam',\n",
    "            metrics=[\"accuracy\", tf.keras.metrics.AUC()],\n",
    "        )\n",
    "        return model\n",
    "\n",
    "    return create_model\n",
    "\n",
    "\n",
    "# prepare model\n",
    "hidden_size = 64\n",
    "\n",
    "model_base_alice = create_base_model(4, hidden_size)\n",
    "model_base_bob = create_base_model(12, hidden_size)\n",
    "\n",
    "\n",
    "def create_fuse_model(input_dim, output_dim, party_nums, name='fuse_model'):\n",
    "    def create_model():\n",
    "        from tensorflow import keras\n",
    "        from tensorflow.keras import layers\n",
    "        import tensorflow as tf\n",
    "\n",
    "        # input\n",
    "        input_layers = []\n",
    "        for i in range(party_nums):\n",
    "            input_layers.append(\n",
    "                keras.Input(\n",
    "                    input_dim,\n",
    "                )\n",
    "            )\n",
    "\n",
    "        merged_layer = layers.concatenate(input_layers)\n",
    "        fuse_layer = layers.Dense(64, activation='relu')(merged_layer)\n",
    "        output = layers.Dense(output_dim, activation='sigmoid')(fuse_layer)\n",
    "\n",
    "        model = keras.Model(inputs=input_layers, outputs=output)\n",
    "        model.summary()\n",
    "\n",
    "        model.compile(\n",
    "            loss='binary_crossentropy',\n",
    "            optimizer='adam',\n",
    "            metrics=[\"accuracy\", tf.keras.metrics.AUC()],\n",
    "        )\n",
    "        return model\n",
    "\n",
    "    return create_model\n",
    "\n",
    "\n",
    "model_fuse = create_fuse_model(input_dim=hidden_size, party_nums=2, output_dim=1)\n",
    "\n",
    "base_model_dict = {alice: model_base_alice, bob: model_base_bob}\n",
    "\n",
    "\n",
    "from secretflow.ml.nn import SLModel\n",
    "\n",
    "sl_model_origin = SLModel(\n",
    "    base_model_dict=base_model_dict,\n",
    "    device_y=alice,\n",
    "    model_fuse=model_fuse,\n",
    ")"
   ]
  },
  {
   "cell_type": "markdown",
   "metadata": {
    "pycharm": {
     "name": "#%% md\n"
    }
   },
   "source": [
    "### 使用通讯压缩算法\n",
    "\n",
    "SecretFlow提供了Compressor，里面实现了各种基础的通讯压缩算法，可以直接使用。\n",
    "\n",
    "只要导入想使用的压缩算法并实例化,定义SLModel时将实例化的方法作为参数传入就可以在训练中实现通讯压缩。\n",
    "\n",
    "我们以QuantizedFP为例，该算法会将浮点数量化到8位以降低传输消耗。"
   ]
  },
  {
   "cell_type": "code",
   "execution_count": 13,
   "metadata": {
    "pycharm": {
     "name": "#%%\n"
    }
   },
   "outputs": [
    {
     "name": "stderr",
     "output_type": "stream",
     "text": [
      "INFO:root:Create proxy actor <class 'secretflow.ml.nn.sl.backend.tensorflow.sl_base.PYUSLTFModel'> with party alice.\n",
      "INFO:root:Create proxy actor <class 'secretflow.ml.nn.sl.backend.tensorflow.sl_base.PYUSLTFModel'> with party bob.\n"
     ]
    }
   ],
   "source": [
    "from secretflow.utils.compressor import QuantizedFP\n",
    "\n",
    "qfp = QuantizedFP()\n",
    "\n",
    "sl_model_compress = SLModel(\n",
    "    base_model_dict=base_model_dict,\n",
    "    device_y=alice,\n",
    "    model_fuse=model_fuse,\n",
    "    compressor=qfp,  # 在这里传入实例化的compressor算法\n",
    ")"
   ]
  },
  {
   "cell_type": "markdown",
   "metadata": {
    "pycharm": {
     "name": "#%% md\n"
    }
   },
   "source": [
    "我们分别对没有使用通讯压缩的模型和使用了量化压缩的模型进行训练，并把训练轮次拉高到40轮，看看效果如何。"
   ]
  },
  {
   "cell_type": "code",
   "execution_count": 14,
   "metadata": {
    "pycharm": {
     "name": "#%%\n"
    }
   },
   "outputs": [
    {
     "name": "stderr",
     "output_type": "stream",
     "text": [
      "INFO:root:SL Train Params: {'self': <secretflow.ml.nn.sl.sl_model.SLModel object at 0x7f03a8a102b0>, 'x': VDataFrame(partitions={PYURuntime(alice): <secretflow.data.core.partition.Partition object at 0x7f00f1b610a0>, PYURuntime(bob): <secretflow.data.core.partition.Partition object at 0x7f0338101790>}, aligned=True), 'y': VDataFrame(partitions={PYURuntime(alice): <secretflow.data.core.partition.Partition object at 0x7f033804aa00>}, aligned=True), 'batch_size': 128, 'epochs': 40, 'verbose': 1, 'callbacks': None, 'validation_data': (VDataFrame(partitions={PYURuntime(alice): <secretflow.data.core.partition.Partition object at 0x7f03381012b0>, PYURuntime(bob): <secretflow.data.core.partition.Partition object at 0x7f00f142ad00>}, aligned=True), VDataFrame(partitions={PYURuntime(alice): <secretflow.data.core.partition.Partition object at 0x7f03380a9c10>}, aligned=True)), 'shuffle': True, 'sample_weight': None, 'validation_freq': 1, 'dp_spent_step_freq': None, 'dataset_builder': None, 'audit_log_params': {}, 'early_stopping_batch_step': 0, 'early_stopping_warmup_step': 0, 'random_seed': 78031, 'audit_log_dir': None}\n",
      "\u001B[2m\u001B[36m(pid=43652)\u001B[0m 2024-01-10 07:48:21.740453: W tensorflow/compiler/xla/stream_executor/platform/default/dso_loader.cc:64] Could not load dynamic library 'libcudart.so.11.0'; dlerror: libcudart.so.11.0: cannot open shared object file: No such file or directory\n",
      "\u001B[2m\u001B[36m(pid=43654)\u001B[0m 2024-01-10 07:48:21.817730: W tensorflow/compiler/xla/stream_executor/platform/default/dso_loader.cc:64] Could not load dynamic library 'libcudart.so.11.0'; dlerror: libcudart.so.11.0: cannot open shared object file: No such file or directory\n",
      "Train Processing: :   0%|          | 0/29 [00:00<?, ?it/s]"
     ]
    },
    {
     "name": "stdout",
     "output_type": "stream",
     "text": [
      "Epoch 1/40\n"
     ]
    },
    {
     "name": "stderr",
     "output_type": "stream",
     "text": [
      "\u001B[2m\u001B[36m(pid=43652)\u001B[0m 2024-01-10 07:48:23.444302: W tensorflow/compiler/xla/stream_executor/platform/default/dso_loader.cc:64] Could not load dynamic library 'libnvinfer.so.7'; dlerror: libnvinfer.so.7: cannot open shared object file: No such file or directory\n",
      "\u001B[2m\u001B[36m(pid=43652)\u001B[0m 2024-01-10 07:48:23.444469: W tensorflow/compiler/xla/stream_executor/platform/default/dso_loader.cc:64] Could not load dynamic library 'libnvinfer_plugin.so.7'; dlerror: libnvinfer_plugin.so.7: cannot open shared object file: No such file or directory\n",
      "\u001B[2m\u001B[36m(pid=43652)\u001B[0m 2024-01-10 07:48:23.444485: W tensorflow/compiler/tf2tensorrt/utils/py_utils.cc:38] TF-TRT Warning: Cannot dlopen some TensorRT libraries. If you would like to use Nvidia GPU with TensorRT, please make sure the missing libraries mentioned above are installed properly.\n",
      "\u001B[2m\u001B[36m(pid=43654)\u001B[0m 2024-01-10 07:48:23.487734: W tensorflow/compiler/xla/stream_executor/platform/default/dso_loader.cc:64] Could not load dynamic library 'libnvinfer.so.7'; dlerror: libnvinfer.so.7: cannot open shared object file: No such file or directory\n",
      "\u001B[2m\u001B[36m(pid=43654)\u001B[0m 2024-01-10 07:48:23.487852: W tensorflow/compiler/xla/stream_executor/platform/default/dso_loader.cc:64] Could not load dynamic library 'libnvinfer_plugin.so.7'; dlerror: libnvinfer_plugin.so.7: cannot open shared object file: No such file or directory\n",
      "\u001B[2m\u001B[36m(pid=43654)\u001B[0m 2024-01-10 07:48:23.487864: W tensorflow/compiler/tf2tensorrt/utils/py_utils.cc:38] TF-TRT Warning: Cannot dlopen some TensorRT libraries. If you would like to use Nvidia GPU with TensorRT, please make sure the missing libraries mentioned above are installed properly.\n",
      "2024-01-10 07:48:23.528570: W tensorflow/compiler/xla/stream_executor/platform/default/dso_loader.cc:64] Could not load dynamic library 'libcudart.so.11.0'; dlerror: libcudart.so.11.0: cannot open shared object file: No such file or directory\n",
      "2024-01-10 07:48:23.528870: W tensorflow/compiler/xla/stream_executor/platform/default/dso_loader.cc:64] Could not load dynamic library 'libcublas.so.11'; dlerror: libcublas.so.11: cannot open shared object file: No such file or directory\n",
      "2024-01-10 07:48:23.529039: W tensorflow/compiler/xla/stream_executor/platform/default/dso_loader.cc:64] Could not load dynamic library 'libcublasLt.so.11'; dlerror: libcublasLt.so.11: cannot open shared object file: No such file or directory\n",
      "2024-01-10 07:48:23.529206: W tensorflow/compiler/xla/stream_executor/platform/default/dso_loader.cc:64] Could not load dynamic library 'libcufft.so.10'; dlerror: libcufft.so.10: cannot open shared object file: No such file or directory\n",
      "2024-01-10 07:48:23.529422: W tensorflow/compiler/xla/stream_executor/platform/default/dso_loader.cc:64] Could not load dynamic library 'libcusolver.so.11'; dlerror: libcusolver.so.11: cannot open shared object file: No such file or directory\n",
      "2024-01-10 07:48:23.529564: W tensorflow/compiler/xla/stream_executor/platform/default/dso_loader.cc:64] Could not load dynamic library 'libcusparse.so.11'; dlerror: libcusparse.so.11: cannot open shared object file: No such file or directory\n",
      "2024-01-10 07:48:23.529631: W tensorflow/core/common_runtime/gpu/gpu_device.cc:1934] Cannot dlopen some GPU libraries. Please make sure the missing libraries mentioned above are installed properly if you would like to use GPU. Follow the guide at https://www.tensorflow.org/install/gpu for how to download and setup the required libraries for your platform.\n",
      "Skipping registering GPU devices...\n",
      "Train Processing: :   0%|          | 0/29 [00:01<?, ?it/s]\u001B[2m\u001B[36m(_run pid=41256)\u001B[0m 2024-01-10 07:48:24.350261: W tensorflow/compiler/xla/stream_executor/platform/default/dso_loader.cc:64] Could not load dynamic library 'libcudart.so.11.0'; dlerror: libcudart.so.11.0: cannot open shared object file: No such file or directory\n",
      "\u001B[2m\u001B[36m(_run pid=41256)\u001B[0m 2024-01-10 07:48:25.979613: W tensorflow/compiler/xla/stream_executor/platform/default/dso_loader.cc:64] Could not load dynamic library 'libnvinfer.so.7'; dlerror: libnvinfer.so.7: cannot open shared object file: No such file or directory\n",
      "\u001B[2m\u001B[36m(_run pid=41256)\u001B[0m 2024-01-10 07:48:25.979726: W tensorflow/compiler/xla/stream_executor/platform/default/dso_loader.cc:64] Could not load dynamic library 'libnvinfer_plugin.so.7'; dlerror: libnvinfer_plugin.so.7: cannot open shared object file: No such file or directory\n",
      "\u001B[2m\u001B[36m(_run pid=41256)\u001B[0m 2024-01-10 07:48:25.979738: W tensorflow/compiler/tf2tensorrt/utils/py_utils.cc:38] TF-TRT Warning: Cannot dlopen some TensorRT libraries. If you would like to use Nvidia GPU with TensorRT, please make sure the missing libraries mentioned above are installed properly.\n",
      "\u001B[2m\u001B[36m(PYUSLTFModel pid=43652)\u001B[0m 2024-01-10 07:48:28.497065: E tensorflow/compiler/xla/stream_executor/cuda/cuda_driver.cc:267] failed call to cuInit: CUDA_ERROR_NO_DEVICE: no CUDA-capable device is detected\n",
      "\u001B[2m\u001B[36m(PYUSLTFModel pid=43654)\u001B[0m 2024-01-10 07:48:28.488043: E tensorflow/compiler/xla/stream_executor/cuda/cuda_driver.cc:267] failed call to cuInit: CUDA_ERROR_NO_DEVICE: no CUDA-capable device is detected\n"
     ]
    },
    {
     "name": "stdout",
     "output_type": "stream",
     "text": [
      "\u001B[2m\u001B[36m(PYUSLTFModel pid=43652)\u001B[0m Model: \"sequential\"\n",
      "\u001B[2m\u001B[36m(PYUSLTFModel pid=43652)\u001B[0m _________________________________________________________________\n",
      "\u001B[2m\u001B[36m(PYUSLTFModel pid=43652)\u001B[0m  Layer (type)                Output Shape              Param #   \n",
      "\u001B[2m\u001B[36m(PYUSLTFModel pid=43652)\u001B[0m =================================================================\n",
      "\u001B[2m\u001B[36m(PYUSLTFModel pid=43652)\u001B[0m  dense (Dense)               (None, 100)               500       \n",
      "\u001B[2m\u001B[36m(PYUSLTFModel pid=43652)\u001B[0m                                                                  \n",
      "\u001B[2m\u001B[36m(PYUSLTFModel pid=43652)\u001B[0m  dense_1 (Dense)             (None, 64)                6464      \n",
      "\u001B[2m\u001B[36m(PYUSLTFModel pid=43652)\u001B[0m                                                                  \n",
      "\u001B[2m\u001B[36m(PYUSLTFModel pid=43652)\u001B[0m =================================================================\n",
      "\u001B[2m\u001B[36m(PYUSLTFModel pid=43652)\u001B[0m Total params: 6,964\n",
      "\u001B[2m\u001B[36m(PYUSLTFModel pid=43652)\u001B[0m Trainable params: 6,964\n",
      "\u001B[2m\u001B[36m(PYUSLTFModel pid=43652)\u001B[0m Non-trainable params: 0\n",
      "\u001B[2m\u001B[36m(PYUSLTFModel pid=43652)\u001B[0m _________________________________________________________________\n",
      "\u001B[2m\u001B[36m(PYUSLTFModel pid=43654)\u001B[0m Model: \"sequential\"\n",
      "\u001B[2m\u001B[36m(PYUSLTFModel pid=43654)\u001B[0m _________________________________________________________________\n",
      "\u001B[2m\u001B[36m(PYUSLTFModel pid=43654)\u001B[0m  Layer (type)                Output Shape              Param #   \n",
      "\u001B[2m\u001B[36m(PYUSLTFModel pid=43654)\u001B[0m =================================================================\n",
      "\u001B[2m\u001B[36m(PYUSLTFModel pid=43654)\u001B[0m  dense (Dense)               (None, 100)               1300      \n",
      "\u001B[2m\u001B[36m(PYUSLTFModel pid=43654)\u001B[0m                                                                  \n",
      "\u001B[2m\u001B[36m(PYUSLTFModel pid=43654)\u001B[0m  dense_1 (Dense)             (None, 64)                6464      \n",
      "\u001B[2m\u001B[36m(PYUSLTFModel pid=43654)\u001B[0m                                                                  \n",
      "\u001B[2m\u001B[36m(PYUSLTFModel pid=43654)\u001B[0m =================================================================\n",
      "\u001B[2m\u001B[36m(PYUSLTFModel pid=43654)\u001B[0m Total params: 7,764\n",
      "\u001B[2m\u001B[36m(PYUSLTFModel pid=43654)\u001B[0m Trainable params: 7,764\n",
      "\u001B[2m\u001B[36m(PYUSLTFModel pid=43654)\u001B[0m Non-trainable params: 0\n",
      "\u001B[2m\u001B[36m(PYUSLTFModel pid=43654)\u001B[0m _________________________________________________________________\n",
      "\u001B[2m\u001B[36m(PYUSLTFModel pid=43652)\u001B[0m Model: \"model\"\n",
      "\u001B[2m\u001B[36m(PYUSLTFModel pid=43652)\u001B[0m __________________________________________________________________________________________________\n",
      "\u001B[2m\u001B[36m(PYUSLTFModel pid=43652)\u001B[0m  Layer (type)                   Output Shape         Param #     Connected to                     \n",
      "\u001B[2m\u001B[36m(PYUSLTFModel pid=43652)\u001B[0m ==================================================================================================\n",
      "\u001B[2m\u001B[36m(PYUSLTFModel pid=43652)\u001B[0m  input_2 (InputLayer)           [(None, 64)]         0           []                               \n",
      "\u001B[2m\u001B[36m(PYUSLTFModel pid=43652)\u001B[0m                                                                                                   \n",
      "\u001B[2m\u001B[36m(PYUSLTFModel pid=43652)\u001B[0m  input_3 (InputLayer)           [(None, 64)]         0           []                               \n",
      "\u001B[2m\u001B[36m(PYUSLTFModel pid=43652)\u001B[0m                                                                                                   \n",
      "\u001B[2m\u001B[36m(PYUSLTFModel pid=43652)\u001B[0m  concatenate (Concatenate)      (None, 128)          0           ['input_2[0][0]',                \n",
      "\u001B[2m\u001B[36m(PYUSLTFModel pid=43652)\u001B[0m                                                                   'input_3[0][0]']                \n",
      "\u001B[2m\u001B[36m(PYUSLTFModel pid=43652)\u001B[0m                                                                                                   \n",
      "\u001B[2m\u001B[36m(PYUSLTFModel pid=43652)\u001B[0m  dense_2 (Dense)                (None, 64)           8256        ['concatenate[0][0]']            \n",
      "\u001B[2m\u001B[36m(PYUSLTFModel pid=43652)\u001B[0m                                                                                                   \n",
      "\u001B[2m\u001B[36m(PYUSLTFModel pid=43652)\u001B[0m  dense_3 (Dense)                (None, 1)            65          ['dense_2[0][0]']                \n",
      "\u001B[2m\u001B[36m(PYUSLTFModel pid=43652)\u001B[0m                                                                                                   \n",
      "\u001B[2m\u001B[36m(PYUSLTFModel pid=43652)\u001B[0m ==================================================================================================\n",
      "\u001B[2m\u001B[36m(PYUSLTFModel pid=43652)\u001B[0m Total params: 8,321\n",
      "\u001B[2m\u001B[36m(PYUSLTFModel pid=43652)\u001B[0m Trainable params: 8,321\n",
      "\u001B[2m\u001B[36m(PYUSLTFModel pid=43652)\u001B[0m Non-trainable params: 0\n",
      "\u001B[2m\u001B[36m(PYUSLTFModel pid=43652)\u001B[0m __________________________________________________________________________________________________\n"
     ]
    },
    {
     "name": "stderr",
     "output_type": "stream",
     "text": [
      "\u001B[2m\u001B[36m(_run pid=41256)\u001B[0m 2024-01-10 07:48:30.813294: E tensorflow/compiler/xla/stream_executor/cuda/cuda_driver.cc:267] failed call to cuInit: CUDA_ERROR_NO_DEVICE: no CUDA-capable device is detected\n",
      "Train Processing: :  97%|█████████▋| 28/29 [00:10<00:00,  2.61it/s, {'train_loss': 0.41441518, 'train_accuracy': 0.8852323, 'train_auc_1': 0.5482392, 'val_loss': 0.39135846, 'val_accuracy': 0.8729282, 'val_auc_1': 0.60433125}]\n",
      "Train Processing: :   0%|          | 0/29 [00:00<?, ?it/s]"
     ]
    },
    {
     "name": "stdout",
     "output_type": "stream",
     "text": [
      "Epoch 2/40\n"
     ]
    },
    {
     "name": "stderr",
     "output_type": "stream",
     "text": [
      "Train Processing: :  97%|█████████▋| 28/29 [00:01<00:00, 21.63it/s, {'train_loss': 0.33583158, 'train_accuracy': 0.8898168, 'train_auc_1': 0.6363989, 'val_loss': 0.3679388, 'val_accuracy': 0.8729282, 'val_auc_1': 0.6767143}]\n",
      "Train Processing: :   0%|          | 0/29 [00:00<?, ?it/s]"
     ]
    },
    {
     "name": "stdout",
     "output_type": "stream",
     "text": [
      "Epoch 3/40\n"
     ]
    },
    {
     "name": "stderr",
     "output_type": "stream",
     "text": [
      "Train Processing: :  97%|█████████▋| 28/29 [00:01<00:00, 21.11it/s, {'train_loss': 0.34008572, 'train_accuracy': 0.8760776, 'train_auc_1': 0.72760177, 'val_loss': 0.3553544, 'val_accuracy': 0.8729282, 'val_auc_1': 0.7138965}]\n",
      "Train Processing: :   0%|          | 0/29 [00:00<?, ?it/s]"
     ]
    },
    {
     "name": "stdout",
     "output_type": "stream",
     "text": [
      "Epoch 4/40\n"
     ]
    },
    {
     "name": "stderr",
     "output_type": "stream",
     "text": [
      "Train Processing: :  97%|█████████▋| 28/29 [00:01<00:00, 20.97it/s, {'train_loss': 0.30060443, 'train_accuracy': 0.8898168, 'train_auc_1': 0.7653811, 'val_loss': 0.3323098, 'val_accuracy': 0.8729282, 'val_auc_1': 0.76620257}]\n",
      "Train Processing: :   0%|          | 0/29 [00:00<?, ?it/s]"
     ]
    },
    {
     "name": "stdout",
     "output_type": "stream",
     "text": [
      "Epoch 5/40\n"
     ]
    },
    {
     "name": "stderr",
     "output_type": "stream",
     "text": [
      "Train Processing: :  97%|█████████▋| 28/29 [00:01<00:00, 21.86it/s, {'train_loss': 0.27717295, 'train_accuracy': 0.8914332, 'train_auc_1': 0.8216245, 'val_loss': 0.31113586, 'val_accuracy': 0.8718232, 'val_auc_1': 0.81967527}]\n",
      "Train Processing: :   0%|          | 0/29 [00:00<?, ?it/s]"
     ]
    },
    {
     "name": "stdout",
     "output_type": "stream",
     "text": [
      "Epoch 6/40\n"
     ]
    },
    {
     "name": "stderr",
     "output_type": "stream",
     "text": [
      "Train Processing: :  97%|█████████▋| 28/29 [00:01<00:00, 21.97it/s, {'train_loss': 0.25534952, 'train_accuracy': 0.8980724, 'train_auc_1': 0.86283094, 'val_loss': 0.29999158, 'val_accuracy': 0.8718232, 'val_auc_1': 0.83167857}]\n",
      "Train Processing: :   0%|          | 0/29 [00:00<?, ?it/s]"
     ]
    },
    {
     "name": "stdout",
     "output_type": "stream",
     "text": [
      "Epoch 7/40\n"
     ]
    },
    {
     "name": "stderr",
     "output_type": "stream",
     "text": [
      "Train Processing: :  97%|█████████▋| 28/29 [00:01<00:00, 21.66it/s, {'train_loss': 0.25750634, 'train_accuracy': 0.89517045, 'train_auc_1': 0.8671031, 'val_loss': 0.29485422, 'val_accuracy': 0.8751381, 'val_auc_1': 0.8445019}]\n",
      "Train Processing: :   0%|          | 0/29 [00:00<?, ?it/s]"
     ]
    },
    {
     "name": "stdout",
     "output_type": "stream",
     "text": [
      "Epoch 8/40\n"
     ]
    },
    {
     "name": "stderr",
     "output_type": "stream",
     "text": [
      "Train Processing: :  97%|█████████▋| 28/29 [00:01<00:00, 21.71it/s, {'train_loss': 0.24084525, 'train_accuracy': 0.9019886, 'train_auc_1': 0.88004285, 'val_loss': 0.2839549, 'val_accuracy': 0.879558, 'val_auc_1': 0.8460264}]\n",
      "Train Processing: :   0%|          | 0/29 [00:00<?, ?it/s]"
     ]
    },
    {
     "name": "stdout",
     "output_type": "stream",
     "text": [
      "Epoch 9/40\n"
     ]
    },
    {
     "name": "stderr",
     "output_type": "stream",
     "text": [
      "Train Processing: :  97%|█████████▋| 28/29 [00:01<00:00, 21.75it/s, {'train_loss': 0.23421839, 'train_accuracy': 0.90767044, 'train_auc_1': 0.87527287, 'val_loss': 0.28739336, 'val_accuracy': 0.8751381, 'val_auc_1': 0.8467144}]\n",
      "Train Processing: :   0%|          | 0/29 [00:00<?, ?it/s]"
     ]
    },
    {
     "name": "stdout",
     "output_type": "stream",
     "text": [
      "Epoch 10/40\n"
     ]
    },
    {
     "name": "stderr",
     "output_type": "stream",
     "text": [
      "Train Processing: :  97%|█████████▋| 28/29 [00:01<00:00, 21.53it/s, {'train_loss': 0.24616116, 'train_accuracy': 0.90220904, 'train_auc_1': 0.8750206, 'val_loss': 0.2810886, 'val_accuracy': 0.880663, 'val_auc_1': 0.85074294}]\n",
      "Train Processing: :   0%|          | 0/29 [00:00<?, ?it/s]"
     ]
    },
    {
     "name": "stdout",
     "output_type": "stream",
     "text": [
      "Epoch 11/40\n"
     ]
    },
    {
     "name": "stderr",
     "output_type": "stream",
     "text": [
      "Train Processing: :  97%|█████████▋| 28/29 [00:01<00:00, 22.29it/s, {'train_loss': 0.23528302, 'train_accuracy': 0.90486723, 'train_auc_1': 0.88449097, 'val_loss': 0.28660113, 'val_accuracy': 0.8762431, 'val_auc_1': 0.8494001}]\n",
      "Train Processing: :   0%|          | 0/29 [00:00<?, ?it/s]"
     ]
    },
    {
     "name": "stdout",
     "output_type": "stream",
     "text": [
      "Epoch 12/40\n"
     ]
    },
    {
     "name": "stderr",
     "output_type": "stream",
     "text": [
      "Train Processing: :   0%|          | 0/29 [00:00<?, ?it/s]\u001B[2m\u001B[36m(_run pid=41258)\u001B[0m 2024-01-10 07:48:46.906408: W tensorflow/compiler/xla/stream_executor/platform/default/dso_loader.cc:64] Could not load dynamic library 'libcudart.so.11.0'; dlerror: libcudart.so.11.0: cannot open shared object file: No such file or directory\n",
      "\u001B[2m\u001B[36m(_run pid=41258)\u001B[0m 2024-01-10 07:48:48.615050: W tensorflow/compiler/xla/stream_executor/platform/default/dso_loader.cc:64] Could not load dynamic library 'libnvinfer.so.7'; dlerror: libnvinfer.so.7: cannot open shared object file: No such file or directory\n",
      "\u001B[2m\u001B[36m(_run pid=41258)\u001B[0m 2024-01-10 07:48:48.615246: W tensorflow/compiler/xla/stream_executor/platform/default/dso_loader.cc:64] Could not load dynamic library 'libnvinfer_plugin.so.7'; dlerror: libnvinfer_plugin.so.7: cannot open shared object file: No such file or directory\n",
      "\u001B[2m\u001B[36m(_run pid=41258)\u001B[0m 2024-01-10 07:48:48.615276: W tensorflow/compiler/tf2tensorrt/utils/py_utils.cc:38] TF-TRT Warning: Cannot dlopen some TensorRT libraries. If you would like to use Nvidia GPU with TensorRT, please make sure the missing libraries mentioned above are installed properly.\n",
      "\u001B[2m\u001B[36m(_run pid=41258)\u001B[0m 2024-01-10 07:48:53.810085: E tensorflow/compiler/xla/stream_executor/cuda/cuda_driver.cc:267] failed call to cuInit: CUDA_ERROR_NO_DEVICE: no CUDA-capable device is detected\n",
      "Train Processing: :  97%|█████████▋| 28/29 [00:09<00:00,  3.10it/s, {'train_loss': 0.2583662, 'train_accuracy': 0.89261365, 'train_auc_1': 0.8834679, 'val_loss': 0.27794972, 'val_accuracy': 0.87403315, 'val_auc_1': 0.8527243}]\n",
      "Train Processing: :   0%|          | 0/29 [00:00<?, ?it/s]"
     ]
    },
    {
     "name": "stdout",
     "output_type": "stream",
     "text": [
      "Epoch 13/40\n"
     ]
    },
    {
     "name": "stderr",
     "output_type": "stream",
     "text": [
      "Train Processing: :  97%|█████████▋| 28/29 [00:01<00:00, 21.96it/s, {'train_loss': 0.2289069, 'train_accuracy': 0.9119073, 'train_auc_1': 0.8757955, 'val_loss': 0.2866344, 'val_accuracy': 0.87403315, 'val_auc_1': 0.85789764}]\n",
      "Train Processing: :   0%|          | 0/29 [00:00<?, ?it/s]"
     ]
    },
    {
     "name": "stdout",
     "output_type": "stream",
     "text": [
      "Epoch 14/40\n"
     ]
    },
    {
     "name": "stderr",
     "output_type": "stream",
     "text": [
      "Train Processing: :  97%|█████████▋| 28/29 [00:01<00:00, 21.94it/s, {'train_loss': 0.22885762, 'train_accuracy': 0.904903, 'train_auc_1': 0.88638234, 'val_loss': 0.27804983, 'val_accuracy': 0.88287294, 'val_auc_1': 0.85764444}]\n",
      "Train Processing: :   0%|          | 0/29 [00:00<?, ?it/s]"
     ]
    },
    {
     "name": "stdout",
     "output_type": "stream",
     "text": [
      "Epoch 15/40\n"
     ]
    },
    {
     "name": "stderr",
     "output_type": "stream",
     "text": [
      "Train Processing: :  97%|█████████▋| 28/29 [00:01<00:00, 21.95it/s, {'train_loss': 0.23342805, 'train_accuracy': 0.8971239, 'train_auc_1': 0.898602, 'val_loss': 0.280754, 'val_accuracy': 0.8872928, 'val_auc_1': 0.8573748}]\n",
      "Train Processing: :   0%|          | 0/29 [00:00<?, ?it/s]"
     ]
    },
    {
     "name": "stdout",
     "output_type": "stream",
     "text": [
      "Epoch 16/40\n"
     ]
    },
    {
     "name": "stderr",
     "output_type": "stream",
     "text": [
      "Train Processing: :  97%|█████████▋| 28/29 [00:01<00:00, 22.04it/s, {'train_loss': 0.23236619, 'train_accuracy': 0.90355605, 'train_auc_1': 0.8893705, 'val_loss': 0.27973813, 'val_accuracy': 0.87734807, 'val_auc_1': 0.8564337}]\n",
      "Train Processing: :   0%|          | 0/29 [00:00<?, ?it/s]"
     ]
    },
    {
     "name": "stdout",
     "output_type": "stream",
     "text": [
      "Epoch 17/40\n"
     ]
    },
    {
     "name": "stderr",
     "output_type": "stream",
     "text": [
      "Train Processing: :  97%|█████████▋| 28/29 [00:01<00:00, 21.21it/s, {'train_loss': 0.21497431, 'train_accuracy': 0.9120575, 'train_auc_1': 0.90335786, 'val_loss': 0.2890309, 'val_accuracy': 0.879558, 'val_auc_1': 0.85191524}]\n",
      "Train Processing: :   0%|          | 0/29 [00:00<?, ?it/s]"
     ]
    },
    {
     "name": "stdout",
     "output_type": "stream",
     "text": [
      "Epoch 18/40\n"
     ]
    },
    {
     "name": "stderr",
     "output_type": "stream",
     "text": [
      "Train Processing: :  97%|█████████▋| 28/29 [00:01<00:00, 21.57it/s, {'train_loss': 0.22506106, 'train_accuracy': 0.90597343, 'train_auc_1': 0.8989849, 'val_loss': 0.29492575, 'val_accuracy': 0.8751381, 'val_auc_1': 0.8494661}]\n",
      "Train Processing: :   0%|          | 0/29 [00:00<?, ?it/s]"
     ]
    },
    {
     "name": "stdout",
     "output_type": "stream",
     "text": [
      "Epoch 19/40\n"
     ]
    },
    {
     "name": "stderr",
     "output_type": "stream",
     "text": [
      "Train Processing: :  97%|█████████▋| 28/29 [00:01<00:00, 21.46it/s, {'train_loss': 0.22478507, 'train_accuracy': 0.90071905, 'train_auc_1': 0.902385, 'val_loss': 0.27794102, 'val_accuracy': 0.8839779, 'val_auc_1': 0.8544965}]\n",
      "Train Processing: :   0%|          | 0/29 [00:00<?, ?it/s]"
     ]
    },
    {
     "name": "stdout",
     "output_type": "stream",
     "text": [
      "Epoch 20/40\n"
     ]
    },
    {
     "name": "stderr",
     "output_type": "stream",
     "text": [
      "Train Processing: :  97%|█████████▋| 28/29 [00:01<00:00, 21.59it/s, {'train_loss': 0.2340769, 'train_accuracy': 0.89961284, 'train_auc_1': 0.8969177, 'val_loss': 0.30752784, 'val_accuracy': 0.8762431, 'val_auc_1': 0.8523996}]\n",
      "Train Processing: :   0%|          | 0/29 [00:00<?, ?it/s]"
     ]
    },
    {
     "name": "stdout",
     "output_type": "stream",
     "text": [
      "Epoch 21/40\n"
     ]
    },
    {
     "name": "stderr",
     "output_type": "stream",
     "text": [
      "Train Processing: :  97%|█████████▋| 28/29 [00:01<00:00, 21.44it/s, {'train_loss': 0.23343837, 'train_accuracy': 0.90625, 'train_auc_1': 0.89843166, 'val_loss': 0.27665576, 'val_accuracy': 0.8850829, 'val_auc_1': 0.85603195}]\n",
      "Train Processing: :   0%|          | 0/29 [00:00<?, ?it/s]"
     ]
    },
    {
     "name": "stdout",
     "output_type": "stream",
     "text": [
      "Epoch 22/40\n"
     ]
    },
    {
     "name": "stderr",
     "output_type": "stream",
     "text": [
      "Train Processing: :  97%|█████████▋| 28/29 [00:01<00:00, 21.61it/s, {'train_loss': 0.22808985, 'train_accuracy': 0.9059659, 'train_auc_1': 0.8954507, 'val_loss': 0.27688736, 'val_accuracy': 0.8817679, 'val_auc_1': 0.8557512}]\n",
      "Train Processing: :   0%|          | 0/29 [00:00<?, ?it/s]"
     ]
    },
    {
     "name": "stdout",
     "output_type": "stream",
     "text": [
      "Epoch 23/40\n"
     ]
    },
    {
     "name": "stderr",
     "output_type": "stream",
     "text": [
      "Train Processing: :  97%|█████████▋| 28/29 [00:01<00:00, 21.34it/s, {'train_loss': 0.20582959, 'train_accuracy': 0.91509956, 'train_auc_1': 0.91181374, 'val_loss': 0.2777853, 'val_accuracy': 0.8751381, 'val_auc_1': 0.85730875}]\n",
      "Train Processing: :   0%|          | 0/29 [00:00<?, ?it/s]"
     ]
    },
    {
     "name": "stdout",
     "output_type": "stream",
     "text": [
      "Epoch 24/40\n"
     ]
    },
    {
     "name": "stderr",
     "output_type": "stream",
     "text": [
      "Train Processing: :  97%|█████████▋| 28/29 [00:01<00:00, 21.14it/s, {'train_loss': 0.22074533, 'train_accuracy': 0.90909094, 'train_auc_1': 0.9052987, 'val_loss': 0.28372732, 'val_accuracy': 0.88618785, 'val_auc_1': 0.8541442}]\n",
      "Train Processing: :   0%|          | 0/29 [00:00<?, ?it/s]"
     ]
    },
    {
     "name": "stdout",
     "output_type": "stream",
     "text": [
      "Epoch 25/40\n"
     ]
    },
    {
     "name": "stderr",
     "output_type": "stream",
     "text": [
      "Train Processing: :  97%|█████████▋| 28/29 [00:01<00:00, 21.80it/s, {'train_loss': 0.197027, 'train_accuracy': 0.91786504, 'train_auc_1': 0.9207729, 'val_loss': 0.28333417, 'val_accuracy': 0.88950276, 'val_auc_1': 0.8540341}]\n",
      "Train Processing: :   0%|          | 0/29 [00:00<?, ?it/s]"
     ]
    },
    {
     "name": "stdout",
     "output_type": "stream",
     "text": [
      "Epoch 26/40\n"
     ]
    },
    {
     "name": "stderr",
     "output_type": "stream",
     "text": [
      "Train Processing: :  97%|█████████▋| 28/29 [00:01<00:00, 21.01it/s, {'train_loss': 0.2127096, 'train_accuracy': 0.91756463, 'train_auc_1': 0.90959126, 'val_loss': 0.27944875, 'val_accuracy': 0.8839779, 'val_auc_1': 0.85555863}]\n",
      "Train Processing: :   0%|          | 0/29 [00:00<?, ?it/s]"
     ]
    },
    {
     "name": "stdout",
     "output_type": "stream",
     "text": [
      "Epoch 27/40\n"
     ]
    },
    {
     "name": "stderr",
     "output_type": "stream",
     "text": [
      "Train Processing: :  97%|█████████▋| 28/29 [00:01<00:00, 21.57it/s, {'train_loss': 0.22797826, 'train_accuracy': 0.90571123, 'train_auc_1': 0.8980932, 'val_loss': 0.27604938, 'val_accuracy': 0.8872928, 'val_auc_1': 0.85815626}]\n",
      "Train Processing: :   0%|          | 0/29 [00:00<?, ?it/s]"
     ]
    },
    {
     "name": "stdout",
     "output_type": "stream",
     "text": [
      "Epoch 28/40\n"
     ]
    },
    {
     "name": "stderr",
     "output_type": "stream",
     "text": [
      "Train Processing: :  97%|█████████▋| 28/29 [00:01<00:00, 21.74it/s, {'train_loss': 0.1996268, 'train_accuracy': 0.92073864, 'train_auc_1': 0.9175627, 'val_loss': 0.2799505, 'val_accuracy': 0.8872928, 'val_auc_1': 0.85547054}]\n",
      "Train Processing: :   0%|          | 0/29 [00:00<?, ?it/s]"
     ]
    },
    {
     "name": "stdout",
     "output_type": "stream",
     "text": [
      "Epoch 29/40\n"
     ]
    },
    {
     "name": "stderr",
     "output_type": "stream",
     "text": [
      "Train Processing: :  97%|█████████▋| 28/29 [00:01<00:00, 21.69it/s, {'train_loss': 0.21917191, 'train_accuracy': 0.91079545, 'train_auc_1': 0.9014987, 'val_loss': 0.30018654, 'val_accuracy': 0.879558, 'val_auc_1': 0.85618603}]\n",
      "Train Processing: :   0%|          | 0/29 [00:00<?, ?it/s]"
     ]
    },
    {
     "name": "stdout",
     "output_type": "stream",
     "text": [
      "Epoch 30/40\n"
     ]
    },
    {
     "name": "stderr",
     "output_type": "stream",
     "text": [
      "Train Processing: :  97%|█████████▋| 28/29 [00:01<00:00, 21.45it/s, {'train_loss': 0.22327776, 'train_accuracy': 0.9109513, 'train_auc_1': 0.90156657, 'val_loss': 0.27397242, 'val_accuracy': 0.88287294, 'val_auc_1': 0.86246}]\n",
      "Train Processing: :   0%|          | 0/29 [00:00<?, ?it/s]"
     ]
    },
    {
     "name": "stdout",
     "output_type": "stream",
     "text": [
      "Epoch 31/40\n"
     ]
    },
    {
     "name": "stderr",
     "output_type": "stream",
     "text": [
      "Train Processing: :  97%|█████████▋| 28/29 [00:01<00:00, 21.42it/s, {'train_loss': 0.21369421, 'train_accuracy': 0.9084624, 'train_auc_1': 0.91520756, 'val_loss': 0.28863534, 'val_accuracy': 0.87734807, 'val_auc_1': 0.8567363}]\n",
      "Train Processing: :   0%|          | 0/29 [00:00<?, ?it/s]"
     ]
    },
    {
     "name": "stdout",
     "output_type": "stream",
     "text": [
      "Epoch 32/40\n"
     ]
    },
    {
     "name": "stderr",
     "output_type": "stream",
     "text": [
      "Train Processing: :  97%|█████████▋| 28/29 [00:01<00:00, 21.43it/s, {'train_loss': 0.21693403, 'train_accuracy': 0.914823, 'train_auc_1': 0.90110636, 'val_loss': 0.28244355, 'val_accuracy': 0.878453, 'val_auc_1': 0.85952115}]\n",
      "Train Processing: :   0%|          | 0/29 [00:00<?, ?it/s]"
     ]
    },
    {
     "name": "stdout",
     "output_type": "stream",
     "text": [
      "Epoch 33/40\n"
     ]
    },
    {
     "name": "stderr",
     "output_type": "stream",
     "text": [
      "Train Processing: :  97%|█████████▋| 28/29 [00:01<00:00, 21.53it/s, {'train_loss': 0.21532023, 'train_accuracy': 0.9095686, 'train_auc_1': 0.921228, 'val_loss': 0.28912863, 'val_accuracy': 0.87403315, 'val_auc_1': 0.85826635}]\n",
      "Train Processing: :   0%|          | 0/29 [00:00<?, ?it/s]"
     ]
    },
    {
     "name": "stdout",
     "output_type": "stream",
     "text": [
      "Epoch 34/40\n"
     ]
    },
    {
     "name": "stderr",
     "output_type": "stream",
     "text": [
      "Train Processing: :  97%|█████████▋| 28/29 [00:01<00:00, 21.97it/s, {'train_loss': 0.1994935, 'train_accuracy': 0.92118365, 'train_auc_1': 0.91802263, 'val_loss': 0.27529365, 'val_accuracy': 0.8850829, 'val_auc_1': 0.86303246}]\n",
      "Train Processing: :   0%|          | 0/29 [00:00<?, ?it/s]"
     ]
    },
    {
     "name": "stdout",
     "output_type": "stream",
     "text": [
      "Epoch 35/40\n"
     ]
    },
    {
     "name": "stderr",
     "output_type": "stream",
     "text": [
      "Train Processing: :  97%|█████████▋| 28/29 [00:01<00:00, 21.31it/s, {'train_loss': 0.20715153, 'train_accuracy': 0.9201704, 'train_auc_1': 0.9162762, 'val_loss': 0.28038925, 'val_accuracy': 0.8839779, 'val_auc_1': 0.8612492}]\n",
      "Train Processing: :   0%|          | 0/29 [00:00<?, ?it/s]"
     ]
    },
    {
     "name": "stdout",
     "output_type": "stream",
     "text": [
      "Epoch 36/40\n"
     ]
    },
    {
     "name": "stderr",
     "output_type": "stream",
     "text": [
      "Train Processing: :  97%|█████████▋| 28/29 [00:01<00:00, 21.48it/s, {'train_loss': 0.2161825, 'train_accuracy': 0.9070582, 'train_auc_1': 0.9178506, 'val_loss': 0.28087983, 'val_accuracy': 0.8850829, 'val_auc_1': 0.8552009}]\n",
      "Train Processing: :   0%|          | 0/29 [00:00<?, ?it/s]"
     ]
    },
    {
     "name": "stdout",
     "output_type": "stream",
     "text": [
      "Epoch 37/40\n"
     ]
    },
    {
     "name": "stderr",
     "output_type": "stream",
     "text": [
      "Train Processing: :  97%|█████████▋| 28/29 [00:01<00:00, 21.92it/s, {'train_loss': 0.21311803, 'train_accuracy': 0.91150445, 'train_auc_1': 0.91868156, 'val_loss': 0.28475997, 'val_accuracy': 0.880663, 'val_auc_1': 0.8503743}]\n",
      "Train Processing: :   0%|          | 0/29 [00:00<?, ?it/s]"
     ]
    },
    {
     "name": "stdout",
     "output_type": "stream",
     "text": [
      "Epoch 38/40\n"
     ]
    },
    {
     "name": "stderr",
     "output_type": "stream",
     "text": [
      "Train Processing: :  97%|█████████▋| 28/29 [00:01<00:00, 22.45it/s, {'train_loss': 0.223406, 'train_accuracy': 0.9084052, 'train_auc_1': 0.9191993, 'val_loss': 0.2805268, 'val_accuracy': 0.879558, 'val_auc_1': 0.85995597}]\n",
      "Train Processing: :   0%|          | 0/29 [00:00<?, ?it/s]"
     ]
    },
    {
     "name": "stdout",
     "output_type": "stream",
     "text": [
      "Epoch 39/40\n"
     ]
    },
    {
     "name": "stderr",
     "output_type": "stream",
     "text": [
      "Train Processing: :  97%|█████████▋| 28/29 [00:01<00:00, 21.66it/s, {'train_loss': 0.19838923, 'train_accuracy': 0.91352373, 'train_auc_1': 0.92471635, 'val_loss': 0.2895313, 'val_accuracy': 0.87734807, 'val_auc_1': 0.8584315}]\n",
      "Train Processing: :   0%|          | 0/29 [00:00<?, ?it/s]"
     ]
    },
    {
     "name": "stdout",
     "output_type": "stream",
     "text": [
      "Epoch 40/40\n"
     ]
    },
    {
     "name": "stderr",
     "output_type": "stream",
     "text": [
      "Train Processing: :  97%|█████████▋| 28/29 [00:01<00:00, 21.68it/s, {'train_loss': 0.19584909, 'train_accuracy': 0.91910046, 'train_auc_1': 0.923442, 'val_loss': 0.30406708, 'val_accuracy': 0.878453, 'val_auc_1': 0.8529334}]\n",
      "INFO:root:SL Train Params: {'self': <secretflow.ml.nn.sl.sl_model.SLModel object at 0x7f03380a9490>, 'x': VDataFrame(partitions={PYURuntime(alice): <secretflow.data.core.partition.Partition object at 0x7f00f1b610a0>, PYURuntime(bob): <secretflow.data.core.partition.Partition object at 0x7f0338101790>}, aligned=True), 'y': VDataFrame(partitions={PYURuntime(alice): <secretflow.data.core.partition.Partition object at 0x7f033804aa00>}, aligned=True), 'batch_size': 128, 'epochs': 40, 'verbose': 1, 'callbacks': None, 'validation_data': (VDataFrame(partitions={PYURuntime(alice): <secretflow.data.core.partition.Partition object at 0x7f03381012b0>, PYURuntime(bob): <secretflow.data.core.partition.Partition object at 0x7f00f142ad00>}, aligned=True), VDataFrame(partitions={PYURuntime(alice): <secretflow.data.core.partition.Partition object at 0x7f03380a9c10>}, aligned=True)), 'shuffle': True, 'sample_weight': None, 'validation_freq': 1, 'dp_spent_step_freq': None, 'dataset_builder': None, 'audit_log_params': {}, 'early_stopping_batch_step': 0, 'early_stopping_warmup_step': 0, 'random_seed': 58024, 'audit_log_dir': None}\n",
      "Train Processing: :   0%|          | 0/29 [00:00<?, ?it/s]"
     ]
    },
    {
     "name": "stdout",
     "output_type": "stream",
     "text": [
      "Epoch 1/40\n"
     ]
    },
    {
     "name": "stderr",
     "output_type": "stream",
     "text": [
      "Train Processing: :  97%|█████████▋| 28/29 [00:04<00:00,  6.32it/s, {'train_loss': 0.44106176, 'train_accuracy': 0.87472343, 'train_auc_1': 0.4981817, 'val_loss': 0.4003348, 'val_accuracy': 0.8729282, 'val_auc_1': 0.5639791}]\n",
      "Train Processing: :   0%|          | 0/29 [00:00<?, ?it/s]"
     ]
    },
    {
     "name": "stdout",
     "output_type": "stream",
     "text": [
      "Epoch 2/40\n"
     ]
    },
    {
     "name": "stderr",
     "output_type": "stream",
     "text": [
      "Train Processing: :  97%|█████████▋| 28/29 [00:02<00:00, 12.18it/s, {'train_loss': 0.3269111, 'train_accuracy': 0.89352876, 'train_auc_1': 0.64232695, 'val_loss': 0.36516497, 'val_accuracy': 0.8729282, 'val_auc_1': 0.6614034}]\n",
      "Train Processing: :   0%|          | 0/29 [00:00<?, ?it/s]"
     ]
    },
    {
     "name": "stdout",
     "output_type": "stream",
     "text": [
      "Epoch 3/40\n"
     ]
    },
    {
     "name": "stderr",
     "output_type": "stream",
     "text": [
      "Train Processing: :  97%|█████████▋| 28/29 [00:02<00:00, 12.09it/s, {'train_loss': 0.32885405, 'train_accuracy': 0.88716817, 'train_auc_1': 0.6947345, 'val_loss': 0.3582779, 'val_accuracy': 0.8729282, 'val_auc_1': 0.70761144}]\n",
      "Train Processing: :   0%|          | 0/29 [00:00<?, ?it/s]"
     ]
    },
    {
     "name": "stdout",
     "output_type": "stream",
     "text": [
      "Epoch 4/40\n"
     ]
    },
    {
     "name": "stderr",
     "output_type": "stream",
     "text": [
      "Train Processing: :  97%|█████████▋| 28/29 [00:02<00:00, 11.98it/s, {'train_loss': 0.31874186, 'train_accuracy': 0.88716817, 'train_auc_1': 0.73561764, 'val_loss': 0.34241778, 'val_accuracy': 0.8729282, 'val_auc_1': 0.7562245}]\n",
      "Train Processing: :   0%|          | 0/29 [00:00<?, ?it/s]"
     ]
    },
    {
     "name": "stdout",
     "output_type": "stream",
     "text": [
      "Epoch 5/40\n"
     ]
    },
    {
     "name": "stderr",
     "output_type": "stream",
     "text": [
      "Train Processing: :  97%|█████████▋| 28/29 [00:02<00:00, 12.10it/s, {'train_loss': 0.31152827, 'train_accuracy': 0.8798295, 'train_auc_1': 0.79620326, 'val_loss': 0.32537183, 'val_accuracy': 0.8729282, 'val_auc_1': 0.7906604}]\n",
      "Train Processing: :   0%|          | 0/29 [00:00<?, ?it/s]"
     ]
    },
    {
     "name": "stdout",
     "output_type": "stream",
     "text": [
      "Epoch 6/40\n"
     ]
    },
    {
     "name": "stderr",
     "output_type": "stream",
     "text": [
      "Train Processing: :  97%|█████████▋| 28/29 [00:04<00:00,  5.61it/s, {'train_loss': 0.26554254, 'train_accuracy': 0.8894231, 'train_auc_1': 0.844931, 'val_loss': 0.3159482, 'val_accuracy': 0.8729282, 'val_auc_1': 0.8077105}]\n",
      "Train Processing: :   0%|          | 0/29 [00:00<?, ?it/s]"
     ]
    },
    {
     "name": "stdout",
     "output_type": "stream",
     "text": [
      "Epoch 7/40\n"
     ]
    },
    {
     "name": "stderr",
     "output_type": "stream",
     "text": [
      "\u001B[2m\u001B[36m(_run pid=41250)\u001B[0m 2024-01-10 07:49:51.125572: W tensorflow/compiler/xla/stream_executor/platform/default/dso_loader.cc:64] Could not load dynamic library 'libcudart.so.11.0'; dlerror: libcudart.so.11.0: cannot open shared object file: No such file or directory\n",
      "\u001B[2m\u001B[36m(_run pid=41250)\u001B[0m 2024-01-10 07:49:52.694891: W tensorflow/compiler/xla/stream_executor/platform/default/dso_loader.cc:64] Could not load dynamic library 'libnvinfer.so.7'; dlerror: libnvinfer.so.7: cannot open shared object file: No such file or directory\n",
      "\u001B[2m\u001B[36m(_run pid=41250)\u001B[0m 2024-01-10 07:49:52.695001: W tensorflow/compiler/xla/stream_executor/platform/default/dso_loader.cc:64] Could not load dynamic library 'libnvinfer_plugin.so.7'; dlerror: libnvinfer_plugin.so.7: cannot open shared object file: No such file or directory\n",
      "\u001B[2m\u001B[36m(_run pid=41250)\u001B[0m 2024-01-10 07:49:52.695012: W tensorflow/compiler/tf2tensorrt/utils/py_utils.cc:38] TF-TRT Warning: Cannot dlopen some TensorRT libraries. If you would like to use Nvidia GPU with TensorRT, please make sure the missing libraries mentioned above are installed properly.\n",
      "Train Processing: :   0%|          | 0/29 [00:07<?, ?it/s]\u001B[2m\u001B[36m(_run pid=41250)\u001B[0m 2024-01-10 07:49:57.576052: E tensorflow/compiler/xla/stream_executor/cuda/cuda_driver.cc:267] failed call to cuInit: CUDA_ERROR_NO_DEVICE: no CUDA-capable device is detected\n",
      "Train Processing: :  97%|█████████▋| 28/29 [00:09<00:00,  2.93it/s, {'train_loss': 0.25671685, 'train_accuracy': 0.8990597, 'train_auc_1': 0.85228264, 'val_loss': 0.28972456, 'val_accuracy': 0.878453, 'val_auc_1': 0.83587784}]\n",
      "Train Processing: :   0%|          | 0/29 [00:00<?, ?it/s]"
     ]
    },
    {
     "name": "stdout",
     "output_type": "stream",
     "text": [
      "Epoch 8/40\n"
     ]
    },
    {
     "name": "stderr",
     "output_type": "stream",
     "text": [
      "Train Processing: :  97%|█████████▋| 28/29 [00:02<00:00, 11.86it/s, {'train_loss': 0.24539576, 'train_accuracy': 0.9003233, 'train_auc_1': 0.8741667, 'val_loss': 0.2881627, 'val_accuracy': 0.87734807, 'val_auc_1': 0.8412823}]\n",
      "Train Processing: :   0%|          | 0/29 [00:00<?, ?it/s]"
     ]
    },
    {
     "name": "stdout",
     "output_type": "stream",
     "text": [
      "Epoch 9/40\n"
     ]
    },
    {
     "name": "stderr",
     "output_type": "stream",
     "text": [
      "Train Processing: :  97%|█████████▋| 28/29 [00:02<00:00, 12.26it/s, {'train_loss': 0.23113506, 'train_accuracy': 0.9084624, 'train_auc_1': 0.8913081, 'val_loss': 0.30290538, 'val_accuracy': 0.87734807, 'val_auc_1': 0.8450798}]\n",
      "Train Processing: :   0%|          | 0/29 [00:00<?, ?it/s]"
     ]
    },
    {
     "name": "stdout",
     "output_type": "stream",
     "text": [
      "Epoch 10/40\n"
     ]
    },
    {
     "name": "stderr",
     "output_type": "stream",
     "text": [
      "Train Processing: :  97%|█████████▋| 28/29 [00:02<00:00, 12.08it/s, {'train_loss': 0.23963776, 'train_accuracy': 0.9026549, 'train_auc_1': 0.88529813, 'val_loss': 0.2889645, 'val_accuracy': 0.878453, 'val_auc_1': 0.8456246}]\n",
      "Train Processing: :   0%|          | 0/29 [00:00<?, ?it/s]"
     ]
    },
    {
     "name": "stdout",
     "output_type": "stream",
     "text": [
      "Epoch 11/40\n"
     ]
    },
    {
     "name": "stderr",
     "output_type": "stream",
     "text": [
      "Train Processing: :  97%|█████████▋| 28/29 [00:02<00:00, 12.05it/s, {'train_loss': 0.24012181, 'train_accuracy': 0.9084624, 'train_auc_1': 0.8759985, 'val_loss': 0.295496, 'val_accuracy': 0.879558, 'val_auc_1': 0.85548156}]\n",
      "Train Processing: :   0%|          | 0/29 [00:00<?, ?it/s]"
     ]
    },
    {
     "name": "stdout",
     "output_type": "stream",
     "text": [
      "Epoch 12/40\n"
     ]
    },
    {
     "name": "stderr",
     "output_type": "stream",
     "text": [
      "Train Processing: :  97%|█████████▋| 28/29 [00:02<00:00, 12.01it/s, {'train_loss': 0.24742116, 'train_accuracy': 0.9005927, 'train_auc_1': 0.86572456, 'val_loss': 0.2947779, 'val_accuracy': 0.8762431, 'val_auc_1': 0.84870666}]\n",
      "Train Processing: :   0%|          | 0/29 [00:00<?, ?it/s]"
     ]
    },
    {
     "name": "stdout",
     "output_type": "stream",
     "text": [
      "Epoch 13/40\n"
     ]
    },
    {
     "name": "stderr",
     "output_type": "stream",
     "text": [
      "Train Processing: :  97%|█████████▋| 28/29 [00:02<00:00, 11.74it/s, {'train_loss': 0.21943389, 'train_accuracy': 0.9153761, 'train_auc_1': 0.8941547, 'val_loss': 0.2824662, 'val_accuracy': 0.878453, 'val_auc_1': 0.8526527}]\n",
      "Train Processing: :   0%|          | 0/29 [00:00<?, ?it/s]"
     ]
    },
    {
     "name": "stdout",
     "output_type": "stream",
     "text": [
      "Epoch 14/40\n"
     ]
    },
    {
     "name": "stderr",
     "output_type": "stream",
     "text": [
      "Train Processing: :  97%|█████████▋| 28/29 [00:02<00:00, 12.08it/s, {'train_loss': 0.23203261, 'train_accuracy': 0.9087389, 'train_auc_1': 0.8908199, 'val_loss': 0.28076643, 'val_accuracy': 0.878453, 'val_auc_1': 0.85480464}]\n",
      "Train Processing: :   0%|          | 0/29 [00:00<?, ?it/s]"
     ]
    },
    {
     "name": "stdout",
     "output_type": "stream",
     "text": [
      "Epoch 15/40\n"
     ]
    },
    {
     "name": "stderr",
     "output_type": "stream",
     "text": [
      "Train Processing: :  97%|█████████▋| 28/29 [00:02<00:00, 11.98it/s, {'train_loss': 0.2166787, 'train_accuracy': 0.9131637, 'train_auc_1': 0.8940787, 'val_loss': 0.2735223, 'val_accuracy': 0.8850829, 'val_auc_1': 0.8599505}]\n",
      "Train Processing: :   0%|          | 0/29 [00:00<?, ?it/s]"
     ]
    },
    {
     "name": "stdout",
     "output_type": "stream",
     "text": [
      "Epoch 16/40\n"
     ]
    },
    {
     "name": "stderr",
     "output_type": "stream",
     "text": [
      "Train Processing: :  97%|█████████▋| 28/29 [00:02<00:00, 11.88it/s, {'train_loss': 0.22243994, 'train_accuracy': 0.915625, 'train_auc_1': 0.8859518, 'val_loss': 0.28782353, 'val_accuracy': 0.87734807, 'val_auc_1': 0.853038}]\n",
      "Train Processing: :   0%|          | 0/29 [00:00<?, ?it/s]"
     ]
    },
    {
     "name": "stdout",
     "output_type": "stream",
     "text": [
      "Epoch 17/40\n"
     ]
    },
    {
     "name": "stderr",
     "output_type": "stream",
     "text": [
      "Train Processing: :  97%|█████████▋| 28/29 [00:02<00:00, 12.13it/s, {'train_loss': 0.2185913, 'train_accuracy': 0.91136366, 'train_auc_1': 0.89462054, 'val_loss': 0.29017967, 'val_accuracy': 0.8817679, 'val_auc_1': 0.85084754}]\n",
      "Train Processing: :   0%|          | 0/29 [00:00<?, ?it/s]"
     ]
    },
    {
     "name": "stdout",
     "output_type": "stream",
     "text": [
      "Epoch 18/40\n"
     ]
    },
    {
     "name": "stderr",
     "output_type": "stream",
     "text": [
      "Train Processing: :  97%|█████████▋| 28/29 [00:02<00:00, 12.19it/s, {'train_loss': 0.24517083, 'train_accuracy': 0.9023783, 'train_auc_1': 0.8937069, 'val_loss': 0.27735877, 'val_accuracy': 0.8817679, 'val_auc_1': 0.85730326}]\n",
      "Train Processing: :   0%|          | 0/29 [00:00<?, ?it/s]"
     ]
    },
    {
     "name": "stdout",
     "output_type": "stream",
     "text": [
      "Epoch 19/40\n"
     ]
    },
    {
     "name": "stderr",
     "output_type": "stream",
     "text": [
      "Train Processing: :  97%|█████████▋| 28/29 [00:02<00:00, 11.92it/s, {'train_loss': 0.22892559, 'train_accuracy': 0.90463364, 'train_auc_1': 0.9013747, 'val_loss': 0.2923705, 'val_accuracy': 0.879558, 'val_auc_1': 0.8556246}]\n",
      "Train Processing: :   0%|          | 0/29 [00:00<?, ?it/s]"
     ]
    },
    {
     "name": "stdout",
     "output_type": "stream",
     "text": [
      "Epoch 20/40\n"
     ]
    },
    {
     "name": "stderr",
     "output_type": "stream",
     "text": [
      "Train Processing: :  97%|█████████▋| 28/29 [00:02<00:00, 12.08it/s, {'train_loss': 0.21267438, 'train_accuracy': 0.92045456, 'train_auc_1': 0.9037671, 'val_loss': 0.28384888, 'val_accuracy': 0.878453, 'val_auc_1': 0.853836}]\n",
      "Train Processing: :   0%|          | 0/29 [00:00<?, ?it/s]"
     ]
    },
    {
     "name": "stdout",
     "output_type": "stream",
     "text": [
      "Epoch 21/40\n"
     ]
    },
    {
     "name": "stderr",
     "output_type": "stream",
     "text": [
      "Train Processing: :  97%|█████████▋| 28/29 [00:02<00:00, 12.10it/s, {'train_loss': 0.22916232, 'train_accuracy': 0.9065194, 'train_auc_1': 0.9011816, 'val_loss': 0.2952596, 'val_accuracy': 0.87403315, 'val_auc_1': 0.86013204}]\n",
      "Train Processing: :   0%|          | 0/29 [00:00<?, ?it/s]"
     ]
    },
    {
     "name": "stdout",
     "output_type": "stream",
     "text": [
      "Epoch 22/40\n"
     ]
    },
    {
     "name": "stderr",
     "output_type": "stream",
     "text": [
      "Train Processing: :  97%|█████████▋| 28/29 [00:02<00:00, 12.09it/s, {'train_loss': 0.21786034, 'train_accuracy': 0.9073562, 'train_auc_1': 0.90208375, 'val_loss': 0.27576783, 'val_accuracy': 0.880663, 'val_auc_1': 0.86122733}]\n",
      "Train Processing: :   0%|          | 0/29 [00:00<?, ?it/s]"
     ]
    },
    {
     "name": "stdout",
     "output_type": "stream",
     "text": [
      "Epoch 23/40\n"
     ]
    },
    {
     "name": "stderr",
     "output_type": "stream",
     "text": [
      "Train Processing: :  97%|█████████▋| 28/29 [00:02<00:00, 12.00it/s, {'train_loss': 0.23845291, 'train_accuracy': 0.90707964, 'train_auc_1': 0.87645566, 'val_loss': 0.27448735, 'val_accuracy': 0.879558, 'val_auc_1': 0.8589213}]\n",
      "Train Processing: :   0%|          | 0/29 [00:00<?, ?it/s]"
     ]
    },
    {
     "name": "stdout",
     "output_type": "stream",
     "text": [
      "Epoch 24/40\n"
     ]
    },
    {
     "name": "stderr",
     "output_type": "stream",
     "text": [
      "Train Processing: :  97%|█████████▋| 28/29 [00:02<00:00, 12.24it/s, {'train_loss': 0.21527092, 'train_accuracy': 0.91039824, 'train_auc_1': 0.9071178, 'val_loss': 0.2756559, 'val_accuracy': 0.8839779, 'val_auc_1': 0.8594001}]\n",
      "Train Processing: :   0%|          | 0/29 [00:00<?, ?it/s]"
     ]
    },
    {
     "name": "stdout",
     "output_type": "stream",
     "text": [
      "Epoch 25/40\n"
     ]
    },
    {
     "name": "stderr",
     "output_type": "stream",
     "text": [
      "Train Processing: :  97%|█████████▋| 28/29 [00:02<00:00, 12.01it/s, {'train_loss': 0.23025191, 'train_accuracy': 0.9028409, 'train_auc_1': 0.9110644, 'val_loss': 0.28006786, 'val_accuracy': 0.8883978, 'val_auc_1': 0.8542763}]\n",
      "Train Processing: :   0%|          | 0/29 [00:00<?, ?it/s]"
     ]
    },
    {
     "name": "stdout",
     "output_type": "stream",
     "text": [
      "Epoch 26/40\n"
     ]
    },
    {
     "name": "stderr",
     "output_type": "stream",
     "text": [
      "Train Processing: :  97%|█████████▋| 28/29 [00:02<00:00, 12.34it/s, {'train_loss': 0.22837785, 'train_accuracy': 0.9081358, 'train_auc_1': 0.89371574, 'val_loss': 0.2857013, 'val_accuracy': 0.8850829, 'val_auc_1': 0.8567474}]\n",
      "Train Processing: :   0%|          | 0/29 [00:00<?, ?it/s]"
     ]
    },
    {
     "name": "stdout",
     "output_type": "stream",
     "text": [
      "Epoch 27/40\n"
     ]
    },
    {
     "name": "stderr",
     "output_type": "stream",
     "text": [
      "Train Processing: :  97%|█████████▋| 28/29 [00:02<00:00, 12.22it/s, {'train_loss': 0.2179042, 'train_accuracy': 0.9123341, 'train_auc_1': 0.91166735, 'val_loss': 0.27986136, 'val_accuracy': 0.88287294, 'val_auc_1': 0.854612}]\n",
      "Train Processing: :   0%|          | 0/29 [00:00<?, ?it/s]"
     ]
    },
    {
     "name": "stdout",
     "output_type": "stream",
     "text": [
      "Epoch 28/40\n"
     ]
    },
    {
     "name": "stderr",
     "output_type": "stream",
     "text": [
      "Train Processing: :  97%|█████████▋| 28/29 [00:02<00:00, 11.94it/s, {'train_loss': 0.20251554, 'train_accuracy': 0.9179323, 'train_auc_1': 0.9119735, 'val_loss': 0.28814408, 'val_accuracy': 0.8817679, 'val_auc_1': 0.85051733}]\n",
      "Train Processing: :   0%|          | 0/29 [00:00<?, ?it/s]"
     ]
    },
    {
     "name": "stdout",
     "output_type": "stream",
     "text": [
      "Epoch 29/40\n"
     ]
    },
    {
     "name": "stderr",
     "output_type": "stream",
     "text": [
      "Train Processing: :  97%|█████████▋| 28/29 [00:02<00:00, 11.96it/s, {'train_loss': 0.20838934, 'train_accuracy': 0.9199892, 'train_auc_1': 0.9042853, 'val_loss': 0.28969848, 'val_accuracy': 0.8817679, 'val_auc_1': 0.85657674}]\n",
      "Train Processing: :   0%|          | 0/29 [00:00<?, ?it/s]"
     ]
    },
    {
     "name": "stdout",
     "output_type": "stream",
     "text": [
      "Epoch 30/40\n"
     ]
    },
    {
     "name": "stderr",
     "output_type": "stream",
     "text": [
      "Train Processing: :  97%|█████████▋| 28/29 [00:02<00:00, 12.09it/s, {'train_loss': 0.21189983, 'train_accuracy': 0.91897124, 'train_auc_1': 0.905853, 'val_loss': 0.28795853, 'val_accuracy': 0.879558, 'val_auc_1': 0.85672534}]\n",
      "Train Processing: :   0%|          | 0/29 [00:00<?, ?it/s]"
     ]
    },
    {
     "name": "stdout",
     "output_type": "stream",
     "text": [
      "Epoch 31/40\n"
     ]
    },
    {
     "name": "stderr",
     "output_type": "stream",
     "text": [
      "Train Processing: :  97%|█████████▋| 28/29 [00:02<00:00, 11.91it/s, {'train_loss': 0.21130839, 'train_accuracy': 0.91079545, 'train_auc_1': 0.9149382, 'val_loss': 0.28834423, 'val_accuracy': 0.880663, 'val_auc_1': 0.8573363}]\n",
      "Train Processing: :   0%|          | 0/29 [00:00<?, ?it/s]"
     ]
    },
    {
     "name": "stdout",
     "output_type": "stream",
     "text": [
      "Epoch 32/40\n"
     ]
    },
    {
     "name": "stderr",
     "output_type": "stream",
     "text": [
      "Train Processing: :  97%|█████████▋| 28/29 [00:02<00:00, 11.95it/s, {'train_loss': 0.20974413, 'train_accuracy': 0.9134403, 'train_auc_1': 0.91479254, 'val_loss': 0.29598635, 'val_accuracy': 0.8817679, 'val_auc_1': 0.8583324}]\n",
      "Train Processing: :   0%|          | 0/29 [00:00<?, ?it/s]"
     ]
    },
    {
     "name": "stdout",
     "output_type": "stream",
     "text": [
      "Epoch 33/40\n"
     ]
    },
    {
     "name": "stderr",
     "output_type": "stream",
     "text": [
      "Train Processing: :  97%|█████████▋| 28/29 [00:02<00:00, 11.81it/s, {'train_loss': 0.20891465, 'train_accuracy': 0.91841817, 'train_auc_1': 0.90681237, 'val_loss': 0.28632396, 'val_accuracy': 0.8817679, 'val_auc_1': 0.8577325}]\n",
      "Train Processing: :   0%|          | 0/29 [00:00<?, ?it/s]"
     ]
    },
    {
     "name": "stdout",
     "output_type": "stream",
     "text": [
      "Epoch 34/40\n"
     ]
    },
    {
     "name": "stderr",
     "output_type": "stream",
     "text": [
      "Train Processing: :  97%|█████████▋| 28/29 [00:02<00:00, 11.72it/s, {'train_loss': 0.21146156, 'train_accuracy': 0.9119073, 'train_auc_1': 0.91557586, 'val_loss': 0.2862154, 'val_accuracy': 0.8850829, 'val_auc_1': 0.85569066}]\n",
      "Train Processing: :   0%|          | 0/29 [00:00<?, ?it/s]"
     ]
    },
    {
     "name": "stdout",
     "output_type": "stream",
     "text": [
      "Epoch 35/40\n"
     ]
    },
    {
     "name": "stderr",
     "output_type": "stream",
     "text": [
      "Train Processing: :  97%|█████████▋| 28/29 [00:02<00:00, 11.94it/s, {'train_loss': 0.20678511, 'train_accuracy': 0.91675645, 'train_auc_1': 0.9196783, 'val_loss': 0.2892994, 'val_accuracy': 0.8839779, 'val_auc_1': 0.8599174}]\n",
      "Train Processing: :   0%|          | 0/29 [00:00<?, ?it/s]"
     ]
    },
    {
     "name": "stdout",
     "output_type": "stream",
     "text": [
      "Epoch 36/40\n"
     ]
    },
    {
     "name": "stderr",
     "output_type": "stream",
     "text": [
      "Train Processing: :  97%|█████████▋| 28/29 [00:02<00:00, 12.24it/s, {'train_loss': 0.20000255, 'train_accuracy': 0.9220133, 'train_auc_1': 0.918797, 'val_loss': 0.28721693, 'val_accuracy': 0.8883978, 'val_auc_1': 0.85902584}]\n",
      "Train Processing: :   0%|          | 0/29 [00:00<?, ?it/s]"
     ]
    },
    {
     "name": "stdout",
     "output_type": "stream",
     "text": [
      "Epoch 37/40\n"
     ]
    },
    {
     "name": "stderr",
     "output_type": "stream",
     "text": [
      "Train Processing: :  97%|█████████▋| 28/29 [00:02<00:00, 11.69it/s, {'train_loss': 0.18657152, 'train_accuracy': 0.92897725, 'train_auc_1': 0.9223879, 'val_loss': 0.29989293, 'val_accuracy': 0.8762431, 'val_auc_1': 0.86132085}]\n",
      "Train Processing: :   0%|          | 0/29 [00:00<?, ?it/s]"
     ]
    },
    {
     "name": "stdout",
     "output_type": "stream",
     "text": [
      "Epoch 38/40\n"
     ]
    },
    {
     "name": "stderr",
     "output_type": "stream",
     "text": [
      "Train Processing: :  97%|█████████▋| 28/29 [00:02<00:00, 12.11it/s, {'train_loss': 0.20747234, 'train_accuracy': 0.91756463, 'train_auc_1': 0.91317755, 'val_loss': 0.2876453, 'val_accuracy': 0.8839779, 'val_auc_1': 0.85964775}]\n",
      "Train Processing: :   0%|          | 0/29 [00:00<?, ?it/s]"
     ]
    },
    {
     "name": "stdout",
     "output_type": "stream",
     "text": [
      "Epoch 39/40\n"
     ]
    },
    {
     "name": "stderr",
     "output_type": "stream",
     "text": [
      "Train Processing: :  97%|█████████▋| 28/29 [00:02<00:00, 11.93it/s, {'train_loss': 0.21540429, 'train_accuracy': 0.91079545, 'train_auc_1': 0.9114544, 'val_loss': 0.2872405, 'val_accuracy': 0.88618785, 'val_auc_1': 0.85636765}]\n",
      "Train Processing: :   0%|          | 0/29 [00:00<?, ?it/s]"
     ]
    },
    {
     "name": "stdout",
     "output_type": "stream",
     "text": [
      "Epoch 40/40\n"
     ]
    },
    {
     "name": "stderr",
     "output_type": "stream",
     "text": [
      "Train Processing: :  97%|█████████▋| 28/29 [00:02<00:00, 11.76it/s, {'train_loss': 0.19391364, 'train_accuracy': 0.92256635, 'train_auc_1': 0.9228723, 'val_loss': 0.2983948, 'val_accuracy': 0.8751381, 'val_auc_1': 0.85558057}]\n"
     ]
    }
   ],
   "source": [
    "histories = []\n",
    "for sl_model in [sl_model_origin, sl_model_compress]:\n",
    "    history = sl_model.fit(\n",
    "        train_data,\n",
    "        train_label,\n",
    "        validation_data=(test_data, test_label),\n",
    "        epochs=40,\n",
    "        batch_size=128,\n",
    "        shuffle=True,\n",
    "        verbose=1,\n",
    "        validation_freq=1,\n",
    "    )\n",
    "\n",
    "    histories.append(history)"
   ]
  },
  {
   "cell_type": "code",
   "execution_count": 16,
   "metadata": {
    "pycharm": {
     "name": "#%%\n"
    }
   },
   "outputs": [
    {
     "data": {
      "text/plain": "<Figure size 640x480 with 1 Axes>",
      "image/png": "[encoded data removed]"
     },
     "metadata": {},
     "output_type": "display_data"
    }
   ],
   "source": [
    "import matplotlib.pyplot as plt\n",
    "\n",
    "for history in histories:\n",
    "    plt.plot(history['train_auc_1'])\n",
    "    plt.plot(history['val_auc_1'])\n",
    "\n",
    "plt.title('Model Area Under Curve')\n",
    "plt.ylabel('Area Under Curve')\n",
    "plt.xlabel('Epoch')\n",
    "plt.legend(\n",
    "    ['origin', 'origin_val', 'fp8_compressed', 'fp8_compressed_val'], loc='lower right'\n",
    ")\n",
    "plt.show()"
   ]
  },
  {
   "cell_type": "markdown",
   "metadata": {
    "pycharm": {
     "name": "#%% md\n"
    }
   },
   "source": [
    "可以看到，两个模型的验证集auc均在0.85左右波动，使用8位量化对此任务的训练精度影响不大，而理论通讯消耗减少了3/4（从32位减少到了8位）。\n",
    "\n"
   ]
  },
  {
   "cell_type": "markdown",
   "metadata": {
    "pycharm": {
     "name": "#%% md\n"
    }
   },
   "source": [
    "### 自定义通讯压缩算法\n",
    "\n",
    "我们也可以自定义一个压缩算法，SecretFlow提供了SparseCompressor和QuantizedCompressor基类，对应稀疏化方法和量化压缩方法。\n",
    "\n",
    "这里以量化压缩方法为例，来实现一个基于K-means的压缩算法。\n",
    "\n",
    "K-means压缩论文是\"Deep Compression: Compressing Deep Neural Networks with Pruning, Trained Quantization and Huffman Coding\"提出的方法中的其中一个步骤，其思想是把对传输参数进行聚类，保存聚类中心的值，然后把其他值用聚类序号来表示。\n",
    "\n",
    "继承QuantizedCompressor后，只要实现_compress_one（将一个numpy向量打包为QuantizedCompressedData） 和 _decompress_one（将QuantizedCompressedData还原回numpy向量）函数即可。"
   ]
  },
  {
   "cell_type": "code",
   "execution_count": 17,
   "metadata": {
    "pycharm": {
     "name": "#%%\n"
    }
   },
   "outputs": [],
   "source": [
    "from secretflow.utils.compressor import QuantizedCompressor\n",
    "from secretflow.utils.compressor.quantized_compressor import QuantizedCompressedData\n",
    "import numpy as np\n",
    "\n",
    "\n",
    "class QuantizedKmeans(QuantizedCompressor):\n",
    "    \"\"\"Quantized compressor with Kmeans, a algorithm which replace float with relatived centroid's index.\n",
    "\n",
    "    Reference paper 2016 \"Deep Compression: Compressing Deep Neural Networks with Pruning, Trained Quantization and Huffman Coding\".\n",
    "\n",
    "    Link: https://arxiv.org/abs/1510.00149\n",
    "    \"\"\"\n",
    "\n",
    "    class KmeansCompressData(QuantizedCompressedData):\n",
    "        def __init__(self, compressed_data, quant_bits, origin_type=None, q=None):\n",
    "            super().__init__(compressed_data, quant_bits, origin_type)\n",
    "            self.q = q\n",
    "\n",
    "    def __init__(self, quant_bits: int = 8, n_clusters=None):\n",
    "        super().__init__(quant_bits)\n",
    "        from sklearn.cluster import KMeans\n",
    "\n",
    "        if n_clusters is None:\n",
    "            self.n_clusters = quant_bits\n",
    "        else:\n",
    "            self.n_clusters = n_clusters\n",
    "        self.km = KMeans(self.n_clusters, n_init=1, max_iter=50)\n",
    "\n",
    "    def _compress_one(self, data: np.ndarray, **kwargs) -> \"KmeansCompressData\":\n",
    "        if data.flatten().shape[0] <= self.n_clusters:\n",
    "            return self.KmeansCompressData(data, self.quant_bits)\n",
    "        ori_shape = data.shape\n",
    "        self.km.fit(np.expand_dims(data.flatten(), axis=1))\n",
    "\n",
    "        quantized = self.km.labels_ - (1 << (self.quant_bits - 1))\n",
    "\n",
    "        quantized = np.reshape(quantized, ori_shape)\n",
    "        q = self.km.cluster_centers_\n",
    "\n",
    "        return self.KmeansCompressData(\n",
    "            quantized.astype(self.np_type), self.quant_bits, data.dtype, q\n",
    "        )\n",
    "\n",
    "    def _decompress_one(self, data: \"KmeansCompressData\") -> np.ndarray:\n",
    "        if data.compressed_data.flatten().shape[0] <= self.n_clusters:\n",
    "            return data.compressed_data\n",
    "        label = data.compressed_data.astype(data.origin_type) + (\n",
    "            1 << (self.quant_bits - 1)\n",
    "        )\n",
    "        dequantized = np.zeros_like(label)\n",
    "        for i in range(data.q.shape[0]):\n",
    "            dequantized[label == i] = data.q[i]\n",
    "\n",
    "        return dequantized"
   ]
  },
  {
   "cell_type": "markdown",
   "metadata": {
    "pycharm": {
     "name": "#%% md\n"
    }
   },
   "source": [
    "我们来实例化这个算法，再跑一遍联邦学习模型："
   ]
  },
  {
   "cell_type": "code",
   "execution_count": 18,
   "metadata": {
    "pycharm": {
     "name": "#%%\n"
    }
   },
   "outputs": [
    {
     "name": "stderr",
     "output_type": "stream",
     "text": [
      "INFO:root:Create proxy actor <class 'secretflow.ml.nn.sl.backend.tensorflow.sl_base.PYUSLTFModel'> with party alice.\n",
      "INFO:root:Create proxy actor <class 'secretflow.ml.nn.sl.backend.tensorflow.sl_base.PYUSLTFModel'> with party bob.\n",
      "INFO:root:SL Train Params: {'self': <secretflow.ml.nn.sl.sl_model.SLModel object at 0x7f026c3a5340>, 'x': VDataFrame(partitions={PYURuntime(alice): <secretflow.data.core.partition.Partition object at 0x7f00f1b610a0>, PYURuntime(bob): <secretflow.data.core.partition.Partition object at 0x7f0338101790>}, aligned=True), 'y': VDataFrame(partitions={PYURuntime(alice): <secretflow.data.core.partition.Partition object at 0x7f033804aa00>}, aligned=True), 'batch_size': 128, 'epochs': 40, 'verbose': 1, 'callbacks': None, 'validation_data': (VDataFrame(partitions={PYURuntime(alice): <secretflow.data.core.partition.Partition object at 0x7f03381012b0>, PYURuntime(bob): <secretflow.data.core.partition.Partition object at 0x7f00f142ad00>}, aligned=True), VDataFrame(partitions={PYURuntime(alice): <secretflow.data.core.partition.Partition object at 0x7f03380a9c10>}, aligned=True)), 'shuffle': True, 'sample_weight': None, 'validation_freq': 1, 'dp_spent_step_freq': None, 'dataset_builder': None, 'audit_log_params': {}, 'early_stopping_batch_step': 0, 'early_stopping_warmup_step': 0, 'random_seed': 91141, 'audit_log_dir': None}\n",
      "\u001B[2m\u001B[36m(pid=91809)\u001B[0m 2024-01-10 07:53:09.374967: W tensorflow/compiler/xla/stream_executor/platform/default/dso_loader.cc:64] Could not load dynamic library 'libcudart.so.11.0'; dlerror: libcudart.so.11.0: cannot open shared object file: No such file or directory\n",
      "\u001B[2m\u001B[36m(pid=91811)\u001B[0m 2024-01-10 07:53:10.470517: W tensorflow/compiler/xla/stream_executor/platform/default/dso_loader.cc:64] Could not load dynamic library 'libcudart.so.11.0'; dlerror: libcudart.so.11.0: cannot open shared object file: No such file or directory\n",
      "\u001B[2m\u001B[36m(pid=91809)\u001B[0m 2024-01-10 07:53:10.554491: W tensorflow/compiler/xla/stream_executor/platform/default/dso_loader.cc:64] Could not load dynamic library 'libnvinfer.so.7'; dlerror: libnvinfer.so.7: cannot open shared object file: No such file or directory\n",
      "\u001B[2m\u001B[36m(pid=91809)\u001B[0m 2024-01-10 07:53:10.554600: W tensorflow/compiler/xla/stream_executor/platform/default/dso_loader.cc:64] Could not load dynamic library 'libnvinfer_plugin.so.7'; dlerror: libnvinfer_plugin.so.7: cannot open shared object file: No such file or directory\n",
      "\u001B[2m\u001B[36m(pid=91809)\u001B[0m 2024-01-10 07:53:10.554611: W tensorflow/compiler/tf2tensorrt/utils/py_utils.cc:38] TF-TRT Warning: Cannot dlopen some TensorRT libraries. If you would like to use Nvidia GPU with TensorRT, please make sure the missing libraries mentioned above are installed properly.\n",
      "\u001B[2m\u001B[36m(pid=91811)\u001B[0m 2024-01-10 07:53:12.166663: W tensorflow/compiler/xla/stream_executor/platform/default/dso_loader.cc:64] Could not load dynamic library 'libnvinfer.so.7'; dlerror: libnvinfer.so.7: cannot open shared object file: No such file or directory\n",
      "\u001B[2m\u001B[36m(pid=91811)\u001B[0m 2024-01-10 07:53:12.166741: W tensorflow/compiler/xla/stream_executor/platform/default/dso_loader.cc:64] Could not load dynamic library 'libnvinfer_plugin.so.7'; dlerror: libnvinfer_plugin.so.7: cannot open shared object file: No such file or directory\n",
      "\u001B[2m\u001B[36m(pid=91811)\u001B[0m 2024-01-10 07:53:12.166750: W tensorflow/compiler/tf2tensorrt/utils/py_utils.cc:38] TF-TRT Warning: Cannot dlopen some TensorRT libraries. If you would like to use Nvidia GPU with TensorRT, please make sure the missing libraries mentioned above are installed properly.\n",
      "\u001B[2m\u001B[36m(PYUSLTFModel pid=91809)\u001B[0m 2024-01-10 07:53:14.477438: E tensorflow/compiler/xla/stream_executor/cuda/cuda_driver.cc:267] failed call to cuInit: CUDA_ERROR_NO_DEVICE: no CUDA-capable device is detected\n"
     ]
    },
    {
     "name": "stdout",
     "output_type": "stream",
     "text": [
      "\u001B[2m\u001B[36m(PYUSLTFModel pid=91809)\u001B[0m Model: \"sequential\"\n",
      "\u001B[2m\u001B[36m(PYUSLTFModel pid=91809)\u001B[0m _________________________________________________________________\n",
      "\u001B[2m\u001B[36m(PYUSLTFModel pid=91809)\u001B[0m  Layer (type)                Output Shape              Param #   \n",
      "\u001B[2m\u001B[36m(PYUSLTFModel pid=91809)\u001B[0m =================================================================\n",
      "\u001B[2m\u001B[36m(PYUSLTFModel pid=91809)\u001B[0m  dense (Dense)               (None, 100)               500       \n",
      "\u001B[2m\u001B[36m(PYUSLTFModel pid=91809)\u001B[0m                                                                  \n",
      "\u001B[2m\u001B[36m(PYUSLTFModel pid=91809)\u001B[0m  dense_1 (Dense)             (None, 64)                6464      \n",
      "\u001B[2m\u001B[36m(PYUSLTFModel pid=91809)\u001B[0m                                                                  \n",
      "\u001B[2m\u001B[36m(PYUSLTFModel pid=91809)\u001B[0m =================================================================\n",
      "\u001B[2m\u001B[36m(PYUSLTFModel pid=91809)\u001B[0m Total params: 6,964\n",
      "\u001B[2m\u001B[36m(PYUSLTFModel pid=91809)\u001B[0m Trainable params: 6,964\n",
      "\u001B[2m\u001B[36m(PYUSLTFModel pid=91809)\u001B[0m Non-trainable params: 0\n",
      "\u001B[2m\u001B[36m(PYUSLTFModel pid=91809)\u001B[0m _________________________________________________________________\n",
      "\u001B[2m\u001B[36m(PYUSLTFModel pid=91809)\u001B[0m Model: \"model\"\n",
      "\u001B[2m\u001B[36m(PYUSLTFModel pid=91809)\u001B[0m __________________________________________________________________________________________________\n",
      "\u001B[2m\u001B[36m(PYUSLTFModel pid=91809)\u001B[0m  Layer (type)                   Output Shape         Param #     Connected to                     \n",
      "\u001B[2m\u001B[36m(PYUSLTFModel pid=91809)\u001B[0m ==================================================================================================\n",
      "\u001B[2m\u001B[36m(PYUSLTFModel pid=91809)\u001B[0m  input_2 (InputLayer)           [(None, 64)]         0           []                               \n",
      "\u001B[2m\u001B[36m(PYUSLTFModel pid=91809)\u001B[0m                                                                                                   \n",
      "\u001B[2m\u001B[36m(PYUSLTFModel pid=91809)\u001B[0m  input_3 (InputLayer)           [(None, 64)]         0           []                               \n",
      "\u001B[2m\u001B[36m(PYUSLTFModel pid=91809)\u001B[0m                                                                                                   \n",
      "\u001B[2m\u001B[36m(PYUSLTFModel pid=91809)\u001B[0m  concatenate (Concatenate)      (None, 128)          0           ['input_2[0][0]',                \n",
      "\u001B[2m\u001B[36m(PYUSLTFModel pid=91809)\u001B[0m                                                                   'input_3[0][0]']                \n",
      "\u001B[2m\u001B[36m(PYUSLTFModel pid=91809)\u001B[0m                                                                                                   \n",
      "\u001B[2m\u001B[36m(PYUSLTFModel pid=91809)\u001B[0m  dense_2 (Dense)                (None, 64)           8256        ['concatenate[0][0]']            \n",
      "\u001B[2m\u001B[36m(PYUSLTFModel pid=91809)\u001B[0m                                                                                                   \n",
      "\u001B[2m\u001B[36m(PYUSLTFModel pid=91809)\u001B[0m  dense_3 (Dense)                (None, 1)            65          ['dense_2[0][0]']                \n",
      "\u001B[2m\u001B[36m(PYUSLTFModel pid=91809)\u001B[0m                                                                                                   \n",
      "\u001B[2m\u001B[36m(PYUSLTFModel pid=91809)\u001B[0m ==================================================================================================\n",
      "\u001B[2m\u001B[36m(PYUSLTFModel pid=91809)\u001B[0m Total params: 8,321\n",
      "\u001B[2m\u001B[36m(PYUSLTFModel pid=91809)\u001B[0m Trainable params: 8,321\n",
      "\u001B[2m\u001B[36m(PYUSLTFModel pid=91809)\u001B[0m Non-trainable params: 0\n",
      "\u001B[2m\u001B[36m(PYUSLTFModel pid=91809)\u001B[0m __________________________________________________________________________________________________\n"
     ]
    },
    {
     "name": "stderr",
     "output_type": "stream",
     "text": [
      "\u001B[2m\u001B[36m(PYUSLTFModel pid=91811)\u001B[0m 2024-01-10 07:53:17.085604: E tensorflow/compiler/xla/stream_executor/cuda/cuda_driver.cc:267] failed call to cuInit: CUDA_ERROR_NO_DEVICE: no CUDA-capable device is detected\n",
      "Train Processing: :   0%|          | 0/29 [00:00<?, ?it/s]"
     ]
    },
    {
     "name": "stdout",
     "output_type": "stream",
     "text": [
      "Epoch 1/40\n",
      "\u001B[2m\u001B[36m(PYUSLTFModel pid=91811)\u001B[0m Model: \"sequential\"\n",
      "\u001B[2m\u001B[36m(PYUSLTFModel pid=91811)\u001B[0m _________________________________________________________________\n",
      "\u001B[2m\u001B[36m(PYUSLTFModel pid=91811)\u001B[0m  Layer (type)                Output Shape              Param #   \n",
      "\u001B[2m\u001B[36m(PYUSLTFModel pid=91811)\u001B[0m =================================================================\n",
      "\u001B[2m\u001B[36m(PYUSLTFModel pid=91811)\u001B[0m  dense (Dense)               (None, 100)               1300      \n",
      "\u001B[2m\u001B[36m(PYUSLTFModel pid=91811)\u001B[0m                                                                  \n",
      "\u001B[2m\u001B[36m(PYUSLTFModel pid=91811)\u001B[0m  dense_1 (Dense)             (None, 64)                6464      \n",
      "\u001B[2m\u001B[36m(PYUSLTFModel pid=91811)\u001B[0m                                                                  \n",
      "\u001B[2m\u001B[36m(PYUSLTFModel pid=91811)\u001B[0m =================================================================\n",
      "\u001B[2m\u001B[36m(PYUSLTFModel pid=91811)\u001B[0m Total params: 7,764\n",
      "\u001B[2m\u001B[36m(PYUSLTFModel pid=91811)\u001B[0m Trainable params: 7,764\n",
      "\u001B[2m\u001B[36m(PYUSLTFModel pid=91811)\u001B[0m Non-trainable params: 0\n",
      "\u001B[2m\u001B[36m(PYUSLTFModel pid=91811)\u001B[0m _________________________________________________________________\n"
     ]
    },
    {
     "name": "stderr",
     "output_type": "stream",
     "text": [
      "Train Processing: :  97%|█████████▋| 28/29 [00:06<00:00,  4.32it/s, {'train_loss': 0.42593142, 'train_accuracy': 0.8658405, 'train_auc_1': 0.5249275, 'val_loss': 0.39414084, 'val_accuracy': 0.8729282, 'val_auc_1': 0.6012933}]\n",
      "Train Processing: :   0%|          | 0/29 [00:00<?, ?it/s]"
     ]
    },
    {
     "name": "stdout",
     "output_type": "stream",
     "text": [
      "Epoch 2/40\n"
     ]
    },
    {
     "name": "stderr",
     "output_type": "stream",
     "text": [
      "Train Processing: :  97%|█████████▋| 28/29 [00:05<00:00,  5.28it/s, {'train_loss': 0.34278363, 'train_accuracy': 0.8874447, 'train_auc_1': 0.6234696, 'val_loss': 0.36462155, 'val_accuracy': 0.8729282, 'val_auc_1': 0.6653495}]\n",
      "Train Processing: :   0%|          | 0/29 [00:00<?, ?it/s]"
     ]
    },
    {
     "name": "stdout",
     "output_type": "stream",
     "text": [
      "Epoch 3/40\n"
     ]
    },
    {
     "name": "stderr",
     "output_type": "stream",
     "text": [
      "Train Processing: :  97%|█████████▋| 28/29 [00:04<00:00,  6.39it/s, {'train_loss': 0.34184134, 'train_accuracy': 0.8808075, 'train_auc_1': 0.69332826, 'val_loss': 0.35448503, 'val_accuracy': 0.8729282, 'val_auc_1': 0.70669234}]\n",
      "Train Processing: :   0%|          | 0/29 [00:00<?, ?it/s]"
     ]
    },
    {
     "name": "stdout",
     "output_type": "stream",
     "text": [
      "Epoch 4/40\n"
     ]
    },
    {
     "name": "stderr",
     "output_type": "stream",
     "text": [
      "Train Processing: :  97%|█████████▋| 28/29 [00:04<00:00,  6.37it/s, {'train_loss': 0.31830433, 'train_accuracy': 0.8860453, 'train_auc_1': 0.74860466, 'val_loss': 0.34075773, 'val_accuracy': 0.8729282, 'val_auc_1': 0.76144195}]\n",
      "Train Processing: :   0%|          | 0/29 [00:00<?, ?it/s]"
     ]
    },
    {
     "name": "stdout",
     "output_type": "stream",
     "text": [
      "Epoch 5/40\n"
     ]
    },
    {
     "name": "stderr",
     "output_type": "stream",
     "text": [
      "Train Processing: :  97%|█████████▋| 28/29 [00:04<00:00,  6.28it/s, {'train_loss': 0.2984724, 'train_accuracy': 0.8841595, 'train_auc_1': 0.8034866, 'val_loss': 0.3181272, 'val_accuracy': 0.8729282, 'val_auc_1': 0.80645573}]\n",
      "Train Processing: :   0%|          | 0/29 [00:00<?, ?it/s]"
     ]
    },
    {
     "name": "stdout",
     "output_type": "stream",
     "text": [
      "Epoch 6/40\n"
     ]
    },
    {
     "name": "stderr",
     "output_type": "stream",
     "text": [
      "Train Processing: :  97%|█████████▋| 28/29 [00:04<00:00,  6.41it/s, {'train_loss': 0.2708043, 'train_accuracy': 0.88693184, 'train_auc_1': 0.8455421, 'val_loss': 0.29569912, 'val_accuracy': 0.87071824, 'val_auc_1': 0.836841}]\n",
      "Train Processing: :   0%|          | 0/29 [00:00<?, ?it/s]"
     ]
    },
    {
     "name": "stdout",
     "output_type": "stream",
     "text": [
      "Epoch 7/40\n"
     ]
    },
    {
     "name": "stderr",
     "output_type": "stream",
     "text": [
      "Train Processing: :  97%|█████████▋| 28/29 [00:04<00:00,  6.46it/s, {'train_loss': 0.266057, 'train_accuracy': 0.89103985, 'train_auc_1': 0.856096, 'val_loss': 0.30295572, 'val_accuracy': 0.8751381, 'val_auc_1': 0.8410897}]\n",
      "Train Processing: :   0%|          | 0/29 [00:00<?, ?it/s]"
     ]
    },
    {
     "name": "stdout",
     "output_type": "stream",
     "text": [
      "Epoch 8/40\n"
     ]
    },
    {
     "name": "stderr",
     "output_type": "stream",
     "text": [
      "Train Processing: :  97%|█████████▋| 28/29 [00:04<00:00,  6.31it/s, {'train_loss': 0.25587106, 'train_accuracy': 0.89740044, 'train_auc_1': 0.855267, 'val_loss': 0.3165059, 'val_accuracy': 0.87403315, 'val_auc_1': 0.8230655}]\n",
      "Train Processing: :   0%|          | 0/29 [00:00<?, ?it/s]"
     ]
    },
    {
     "name": "stdout",
     "output_type": "stream",
     "text": [
      "Epoch 9/40\n"
     ]
    },
    {
     "name": "stderr",
     "output_type": "stream",
     "text": [
      "Train Processing: :  97%|█████████▋| 28/29 [00:04<00:00,  6.43it/s, {'train_loss': 0.26562726, 'train_accuracy': 0.8863636, 'train_auc_1': 0.8445904, 'val_loss': 0.3291114, 'val_accuracy': 0.87071824, 'val_auc_1': 0.83590543}]\n",
      "Train Processing: :   0%|          | 0/29 [00:00<?, ?it/s]"
     ]
    },
    {
     "name": "stdout",
     "output_type": "stream",
     "text": [
      "Epoch 10/40\n"
     ]
    },
    {
     "name": "stderr",
     "output_type": "stream",
     "text": [
      "Train Processing: :  97%|█████████▋| 28/29 [00:04<00:00,  6.28it/s, {'train_loss': 0.26519942, 'train_accuracy': 0.89740044, 'train_auc_1': 0.8324624, 'val_loss': 0.38200825, 'val_accuracy': 0.8685083, 'val_auc_1': 0.80135936}]\n",
      "Train Processing: :   0%|          | 0/29 [00:00<?, ?it/s]"
     ]
    },
    {
     "name": "stdout",
     "output_type": "stream",
     "text": [
      "Epoch 11/40\n"
     ]
    },
    {
     "name": "stderr",
     "output_type": "stream",
     "text": [
      "Train Processing: :  97%|█████████▋| 28/29 [00:04<00:00,  6.48it/s, {'train_loss': 0.30493236, 'train_accuracy': 0.8929757, 'train_auc_1': 0.7425589, 'val_loss': 0.3280275, 'val_accuracy': 0.8729282, 'val_auc_1': 0.78026414}]\n",
      "Train Processing: :   0%|          | 0/29 [00:00<?, ?it/s]"
     ]
    },
    {
     "name": "stdout",
     "output_type": "stream",
     "text": [
      "Epoch 12/40\n"
     ]
    },
    {
     "name": "stderr",
     "output_type": "stream",
     "text": [
      "Train Processing: :  97%|█████████▋| 28/29 [00:04<00:00,  6.33it/s, {'train_loss': 0.32727823, 'train_accuracy': 0.88440263, 'train_auc_1': 0.7556331, 'val_loss': 0.4226962, 'val_accuracy': 0.8441989, 'val_auc_1': 0.6572207}]\n",
      "Train Processing: :   0%|          | 0/29 [00:00<?, ?it/s]"
     ]
    },
    {
     "name": "stdout",
     "output_type": "stream",
     "text": [
      "Epoch 13/40\n"
     ]
    },
    {
     "name": "stderr",
     "output_type": "stream",
     "text": [
      "Train Processing: :  97%|█████████▋| 28/29 [00:04<00:00,  5.70it/s, {'train_loss': 0.35389805, 'train_accuracy': 0.8813606, 'train_auc_1': 0.7239218, 'val_loss': 0.4203734, 'val_accuracy': 0.8662983, 'val_auc_1': 0.62746835}]\n",
      "Train Processing: :   0%|          | 0/29 [00:00<?, ?it/s]"
     ]
    },
    {
     "name": "stdout",
     "output_type": "stream",
     "text": [
      "Epoch 14/40\n"
     ]
    },
    {
     "name": "stderr",
     "output_type": "stream",
     "text": [
      "Train Processing: :  97%|█████████▋| 28/29 [00:04<00:00,  6.47it/s, {'train_loss': 0.44253397, 'train_accuracy': 0.8487279, 'train_auc_1': 0.6634754, 'val_loss': 0.3793604, 'val_accuracy': 0.8685083, 'val_auc_1': 0.72097415}]\n",
      "Train Processing: :   0%|          | 0/29 [00:00<?, ?it/s]"
     ]
    },
    {
     "name": "stdout",
     "output_type": "stream",
     "text": [
      "Epoch 15/40\n"
     ]
    },
    {
     "name": "stderr",
     "output_type": "stream",
     "text": [
      "Train Processing: :  97%|█████████▋| 28/29 [00:04<00:00,  6.30it/s, {'train_loss': 0.3074538, 'train_accuracy': 0.8914332, 'train_auc_1': 0.7759657, 'val_loss': 0.35417914, 'val_accuracy': 0.8718232, 'val_auc_1': 0.7936158}]\n",
      "Train Processing: :   0%|          | 0/29 [00:00<?, ?it/s]"
     ]
    },
    {
     "name": "stdout",
     "output_type": "stream",
     "text": [
      "Epoch 16/40\n"
     ]
    },
    {
     "name": "stderr",
     "output_type": "stream",
     "text": [
      "Train Processing: :  97%|█████████▋| 28/29 [00:04<00:00,  6.32it/s, {'train_loss': 0.33828983, 'train_accuracy': 0.88685346, 'train_auc_1': 0.7036803, 'val_loss': 0.37390137, 'val_accuracy': 0.87071824, 'val_auc_1': 0.67837095}]\n",
      "Train Processing: :   0%|          | 0/29 [00:00<?, ?it/s]"
     ]
    },
    {
     "name": "stdout",
     "output_type": "stream",
     "text": [
      "Epoch 17/40\n"
     ]
    },
    {
     "name": "stderr",
     "output_type": "stream",
     "text": [
      "Train Processing: :  97%|█████████▋| 28/29 [00:04<00:00,  6.30it/s, {'train_loss': 0.3159634, 'train_accuracy': 0.87879676, 'train_auc_1': 0.77012575, 'val_loss': 0.36507952, 'val_accuracy': 0.86961323, 'val_auc_1': 0.7781728}]\n",
      "Train Processing: :   0%|          | 0/29 [00:00<?, ?it/s]"
     ]
    },
    {
     "name": "stdout",
     "output_type": "stream",
     "text": [
      "Epoch 18/40\n"
     ]
    },
    {
     "name": "stderr",
     "output_type": "stream",
     "text": [
      "Train Processing: :  97%|█████████▋| 28/29 [00:04<00:00,  6.48it/s, {'train_loss': 0.32222188, 'train_accuracy': 0.88384956, 'train_auc_1': 0.7362207, 'val_loss': 0.3650307, 'val_accuracy': 0.8685083, 'val_auc_1': 0.7498129}]\n",
      "Train Processing: :   0%|          | 0/29 [00:00<?, ?it/s]"
     ]
    },
    {
     "name": "stdout",
     "output_type": "stream",
     "text": [
      "Epoch 19/40\n"
     ]
    },
    {
     "name": "stderr",
     "output_type": "stream",
     "text": [
      "Train Processing: :  97%|█████████▋| 28/29 [00:04<00:00,  6.42it/s, {'train_loss': 0.3354049, 'train_accuracy': 0.87553877, 'train_auc_1': 0.74208903, 'val_loss': 0.34774187, 'val_accuracy': 0.8729282, 'val_auc_1': 0.7611393}]\n",
      "Train Processing: :   0%|          | 0/29 [00:00<?, ?it/s]"
     ]
    },
    {
     "name": "stdout",
     "output_type": "stream",
     "text": [
      "Epoch 20/40\n"
     ]
    },
    {
     "name": "stderr",
     "output_type": "stream",
     "text": [
      "Train Processing: :  97%|█████████▋| 28/29 [00:04<00:00,  6.34it/s, {'train_loss': 0.2995825, 'train_accuracy': 0.88658404, 'train_auc_1': 0.7799278, 'val_loss': 0.32106954, 'val_accuracy': 0.8762431, 'val_auc_1': 0.8009907}]\n",
      "Train Processing: :   0%|          | 0/29 [00:00<?, ?it/s]"
     ]
    },
    {
     "name": "stdout",
     "output_type": "stream",
     "text": [
      "Epoch 21/40\n"
     ]
    },
    {
     "name": "stderr",
     "output_type": "stream",
     "text": [
      "Train Processing: :  97%|█████████▋| 28/29 [00:04<00:00,  6.40it/s, {'train_loss': 0.2978086, 'train_accuracy': 0.88693184, 'train_auc_1': 0.7853095, 'val_loss': 0.3407823, 'val_accuracy': 0.8729282, 'val_auc_1': 0.76026964}]\n",
      "Train Processing: :   0%|          | 0/29 [00:00<?, ?it/s]"
     ]
    },
    {
     "name": "stdout",
     "output_type": "stream",
     "text": [
      "Epoch 22/40\n"
     ]
    },
    {
     "name": "stderr",
     "output_type": "stream",
     "text": [
      "Train Processing: :  97%|█████████▋| 28/29 [00:04<00:00,  6.43it/s, {'train_loss': 0.31841713, 'train_accuracy': 0.88495576, 'train_auc_1': 0.7341927, 'val_loss': 0.3393834, 'val_accuracy': 0.86961323, 'val_auc_1': 0.760743}]\n",
      "Train Processing: :   0%|          | 0/29 [00:00<?, ?it/s]"
     ]
    },
    {
     "name": "stdout",
     "output_type": "stream",
     "text": [
      "Epoch 23/40\n"
     ]
    },
    {
     "name": "stderr",
     "output_type": "stream",
     "text": [
      "Train Processing: :  97%|█████████▋| 28/29 [00:04<00:00,  6.33it/s, {'train_loss': 0.30783108, 'train_accuracy': 0.892146, 'train_auc_1': 0.74169767, 'val_loss': 0.32323456, 'val_accuracy': 0.8685083, 'val_auc_1': 0.802295}]\n",
      "Train Processing: :   0%|          | 0/29 [00:00<?, ?it/s]"
     ]
    },
    {
     "name": "stdout",
     "output_type": "stream",
     "text": [
      "Epoch 24/40\n"
     ]
    },
    {
     "name": "stderr",
     "output_type": "stream",
     "text": [
      "Train Processing: :  97%|█████████▋| 28/29 [00:04<00:00,  6.29it/s, {'train_loss': 0.31134927, 'train_accuracy': 0.88442886, 'train_auc_1': 0.7663449, 'val_loss': 0.33237103, 'val_accuracy': 0.8674033, 'val_auc_1': 0.7770941}]\n",
      "Train Processing: :   0%|          | 0/29 [00:00<?, ?it/s]"
     ]
    },
    {
     "name": "stdout",
     "output_type": "stream",
     "text": [
      "Epoch 25/40\n"
     ]
    },
    {
     "name": "stderr",
     "output_type": "stream",
     "text": [
      "Train Processing: :  97%|█████████▋| 28/29 [00:04<00:00,  6.53it/s, {'train_loss': 0.31021798, 'train_accuracy': 0.8815341, 'train_auc_1': 0.7885003, 'val_loss': 0.32582596, 'val_accuracy': 0.87403315, 'val_auc_1': 0.7693286}]\n",
      "Train Processing: :   0%|          | 0/29 [00:00<?, ?it/s]"
     ]
    },
    {
     "name": "stdout",
     "output_type": "stream",
     "text": [
      "Epoch 26/40\n"
     ]
    },
    {
     "name": "stderr",
     "output_type": "stream",
     "text": [
      "Train Processing: :  97%|█████████▋| 28/29 [00:04<00:00,  6.46it/s, {'train_loss': 0.35220185, 'train_accuracy': 0.86857474, 'train_auc_1': 0.7199798, 'val_loss': 0.37936047, 'val_accuracy': 0.8674033, 'val_auc_1': 0.7831866}]\n",
      "Train Processing: :   0%|          | 0/29 [00:00<?, ?it/s]"
     ]
    },
    {
     "name": "stdout",
     "output_type": "stream",
     "text": [
      "Epoch 27/40\n"
     ]
    },
    {
     "name": "stderr",
     "output_type": "stream",
     "text": [
      "Train Processing: :  97%|█████████▋| 28/29 [00:04<00:00,  6.49it/s, {'train_loss': 0.31333923, 'train_accuracy': 0.88267046, 'train_auc_1': 0.7784656, 'val_loss': 0.3534033, 'val_accuracy': 0.8674033, 'val_auc_1': 0.74702805}]\n",
      "Train Processing: :   0%|          | 0/29 [00:00<?, ?it/s]"
     ]
    },
    {
     "name": "stdout",
     "output_type": "stream",
     "text": [
      "Epoch 28/40\n"
     ]
    },
    {
     "name": "stderr",
     "output_type": "stream",
     "text": [
      "Train Processing: :  97%|█████████▋| 28/29 [00:04<00:00,  6.48it/s, {'train_loss': 0.29281962, 'train_accuracy': 0.89131635, 'train_auc_1': 0.7774715, 'val_loss': 0.34763134, 'val_accuracy': 0.878453, 'val_auc_1': 0.7897743}]\n",
      "Train Processing: :   0%|          | 0/29 [00:00<?, ?it/s]"
     ]
    },
    {
     "name": "stdout",
     "output_type": "stream",
     "text": [
      "Epoch 29/40\n"
     ]
    },
    {
     "name": "stderr",
     "output_type": "stream",
     "text": [
      "Train Processing: :  97%|█████████▋| 28/29 [00:04<00:00,  6.15it/s, {'train_loss': 0.30338824, 'train_accuracy': 0.8828125, 'train_auc_1': 0.7892107, 'val_loss': 0.4242212, 'val_accuracy': 0.8729282, 'val_auc_1': 0.7655256}]\n",
      "Train Processing: :   0%|          | 0/29 [00:00<?, ?it/s]"
     ]
    },
    {
     "name": "stdout",
     "output_type": "stream",
     "text": [
      "Epoch 30/40\n"
     ]
    },
    {
     "name": "stderr",
     "output_type": "stream",
     "text": [
      "Train Processing: :  97%|█████████▋| 28/29 [00:04<00:00,  6.43it/s, {'train_loss': 0.30127883, 'train_accuracy': 0.88661504, 'train_auc_1': 0.7782565, 'val_loss': 0.33651173, 'val_accuracy': 0.86961323, 'val_auc_1': 0.7945569}]\n",
      "Train Processing: :   0%|          | 0/29 [00:00<?, ?it/s]"
     ]
    },
    {
     "name": "stdout",
     "output_type": "stream",
     "text": [
      "Epoch 31/40\n"
     ]
    },
    {
     "name": "stderr",
     "output_type": "stream",
     "text": [
      "Train Processing: :  97%|█████████▋| 28/29 [00:04<00:00,  6.42it/s, {'train_loss': 0.34278312, 'train_accuracy': 0.88039774, 'train_auc_1': 0.73439765, 'val_loss': 0.47957015, 'val_accuracy': 0.79447514, 'val_auc_1': 0.7491194}]\n",
      "Train Processing: :   0%|          | 0/29 [00:00<?, ?it/s]"
     ]
    },
    {
     "name": "stdout",
     "output_type": "stream",
     "text": [
      "Epoch 32/40\n"
     ]
    },
    {
     "name": "stderr",
     "output_type": "stream",
     "text": [
      "Train Processing: :  97%|█████████▋| 28/29 [00:04<00:00,  6.32it/s, {'train_loss': 0.32042125, 'train_accuracy': 0.8830199, 'train_auc_1': 0.7530093, 'val_loss': 0.34220842, 'val_accuracy': 0.8685083, 'val_auc_1': 0.7956632}]\n",
      "Train Processing: :   0%|          | 0/29 [00:00<?, ?it/s]"
     ]
    },
    {
     "name": "stdout",
     "output_type": "stream",
     "text": [
      "Epoch 33/40\n"
     ]
    },
    {
     "name": "stderr",
     "output_type": "stream",
     "text": [
      "Train Processing: :  97%|█████████▋| 28/29 [00:04<00:00,  6.25it/s, {'train_loss': 0.29513723, 'train_accuracy': 0.8863902, 'train_auc_1': 0.79893744, 'val_loss': 0.34367618, 'val_accuracy': 0.8596685, 'val_auc_1': 0.8026748}]\n",
      "Train Processing: :   0%|          | 0/29 [00:00<?, ?it/s]"
     ]
    },
    {
     "name": "stdout",
     "output_type": "stream",
     "text": [
      "Epoch 34/40\n"
     ]
    },
    {
     "name": "stderr",
     "output_type": "stream",
     "text": [
      "Train Processing: :  97%|█████████▋| 28/29 [00:04<00:00,  6.36it/s, {'train_loss': 0.3927076, 'train_accuracy': 0.86006635, 'train_auc_1': 0.71218973, 'val_loss': 0.37748492, 'val_accuracy': 0.8508287, 'val_auc_1': 0.732306}]\n",
      "Train Processing: :   0%|          | 0/29 [00:00<?, ?it/s]"
     ]
    },
    {
     "name": "stdout",
     "output_type": "stream",
     "text": [
      "Epoch 35/40\n"
     ]
    },
    {
     "name": "stderr",
     "output_type": "stream",
     "text": [
      "Train Processing: :  97%|█████████▋| 28/29 [00:04<00:00,  6.20it/s, {'train_loss': 0.30580464, 'train_accuracy': 0.88793105, 'train_auc_1': 0.7851913, 'val_loss': 0.3381369, 'val_accuracy': 0.8751381, 'val_auc_1': 0.77144194}]\n",
      "Train Processing: :   0%|          | 0/29 [00:00<?, ?it/s]"
     ]
    },
    {
     "name": "stdout",
     "output_type": "stream",
     "text": [
      "Epoch 36/40\n"
     ]
    },
    {
     "name": "stderr",
     "output_type": "stream",
     "text": [
      "Train Processing: :  97%|█████████▋| 28/29 [00:04<00:00,  6.25it/s, {'train_loss': 0.3133192, 'train_accuracy': 0.88550884, 'train_auc_1': 0.7746928, 'val_loss': 0.3130349, 'val_accuracy': 0.8751381, 'val_auc_1': 0.8181617}]\n",
      "Train Processing: :   0%|          | 0/29 [00:00<?, ?it/s]"
     ]
    },
    {
     "name": "stdout",
     "output_type": "stream",
     "text": [
      "Epoch 37/40\n"
     ]
    },
    {
     "name": "stderr",
     "output_type": "stream",
     "text": [
      "Train Processing: :  97%|█████████▋| 28/29 [00:04<00:00,  6.45it/s, {'train_loss': 0.32494473, 'train_accuracy': 0.88274336, 'train_auc_1': 0.75113577, 'val_loss': 0.3358867, 'val_accuracy': 0.86961323, 'val_auc_1': 0.7902092}]\n",
      "Train Processing: :   0%|          | 0/29 [00:00<?, ?it/s]"
     ]
    },
    {
     "name": "stdout",
     "output_type": "stream",
     "text": [
      "Epoch 38/40\n"
     ]
    },
    {
     "name": "stderr",
     "output_type": "stream",
     "text": [
      "Train Processing: :  97%|█████████▋| 28/29 [00:04<00:00,  6.42it/s, {'train_loss': 0.32034317, 'train_accuracy': 0.8824668, 'train_auc_1': 0.7671541, 'val_loss': 0.34316692, 'val_accuracy': 0.87403315, 'val_auc_1': 0.7525206}]\n",
      "Train Processing: :   0%|          | 0/29 [00:00<?, ?it/s]"
     ]
    },
    {
     "name": "stdout",
     "output_type": "stream",
     "text": [
      "Epoch 39/40\n"
     ]
    },
    {
     "name": "stderr",
     "output_type": "stream",
     "text": [
      "Train Processing: :  97%|█████████▋| 28/29 [00:04<00:00,  6.34it/s, {'train_loss': 0.35058305, 'train_accuracy': 0.87068963, 'train_auc_1': 0.7320709, 'val_loss': 0.37952983, 'val_accuracy': 0.86187845, 'val_auc_1': 0.70521736}]\n",
      "Train Processing: :   0%|          | 0/29 [00:00<?, ?it/s]"
     ]
    },
    {
     "name": "stdout",
     "output_type": "stream",
     "text": [
      "Epoch 40/40\n"
     ]
    },
    {
     "name": "stderr",
     "output_type": "stream",
     "text": [
      "Train Processing: :  97%|█████████▋| 28/29 [00:04<00:00,  6.59it/s, {'train_loss': 0.3207945, 'train_accuracy': 0.8777655, 'train_auc_1': 0.75844616, 'val_loss': 0.37580478, 'val_accuracy': 0.8718232, 'val_auc_1': 0.6953274}]\n"
     ]
    }
   ],
   "source": [
    "qkm = QuantizedKmeans()\n",
    "\n",
    "sl_model_kmeans = SLModel(\n",
    "    base_model_dict=base_model_dict,\n",
    "    device_y=alice,\n",
    "    model_fuse=model_fuse,\n",
    "    compressor=qkm,\n",
    ")\n",
    "\n",
    "history_kmeans = sl_model_kmeans.fit(\n",
    "    train_data,\n",
    "    train_label,\n",
    "    validation_data=(test_data, test_label),\n",
    "    epochs=40,\n",
    "    batch_size=128,\n",
    "    shuffle=True,\n",
    "    verbose=1,\n",
    "    validation_freq=1,\n",
    ")"
   ]
  },
  {
   "cell_type": "code",
   "execution_count": 19,
   "metadata": {
    "pycharm": {
     "name": "#%%\n"
    }
   },
   "outputs": [
    {
     "data": {
      "text/plain": "<Figure size 640x480 with 1 Axes>",
      "image/png": "[encoded data removed]"
     },
     "metadata": {},
     "output_type": "display_data"
    }
   ],
   "source": [
    "plt.plot(history_kmeans['train_auc_1'])\n",
    "plt.plot(history_kmeans['val_auc_1'])\n",
    "\n",
    "plt.title('Model Area Under Curve')\n",
    "plt.ylabel('Area Under Curve')\n",
    "plt.xlabel('Epoch')\n",
    "plt.legend(['kmeans', 'kmeans_val'], loc='lower right')\n",
    "plt.show()"
   ]
  },
  {
   "cell_type": "markdown",
   "metadata": {
    "pycharm": {
     "name": "#%% md\n"
    }
   },
   "source": [
    "最终验证集auc在0.855左右，也还不错~"
   ]
  },
  {
   "cell_type": "markdown",
   "metadata": {
    "pycharm": {
     "name": "#%% md\n"
    }
   },
   "source": [
    "### 压缩算法的压缩效果\n",
    "\n",
    "我们在ImageNet预训练的ResNet网络为例，试一下Int8、Fp8和Kmeans方法对模型参数的压缩效果，看看有什么差异。"
   ]
  },
  {
   "cell_type": "code",
   "execution_count": 20,
   "metadata": {
    "pycharm": {
     "name": "#%%\n"
    }
   },
   "outputs": [
    {
     "name": "stderr",
     "output_type": "stream",
     "text": [
      "/opt/conda/envs/default/lib/python3.8/site-packages/torchvision/models/_utils.py:208: UserWarning: The parameter 'pretrained' is deprecated since 0.13 and may be removed in the future, please use 'weights' instead.\n",
      "  warnings.warn(\n",
      "/opt/conda/envs/default/lib/python3.8/site-packages/torchvision/models/_utils.py:223: UserWarning: Arguments other than a weight enum or `None` for 'weights' are deprecated since 0.13 and may be removed in the future. The current behavior is equivalent to passing `weights=ResNet50_Weights.IMAGENET1K_V1`. You can also use `weights=ResNet50_Weights.DEFAULT` to get the most up-to-date weights.\n",
      "  warnings.warn(msg)\n",
      "Downloading: \"https://download.pytorch.org/models/resnet50-0676ba61.pth\" to /root/.cache/torch/hub/checkpoints/resnet50-0676ba61.pth\n",
      "100%|██████████| 97.8M/97.8M [00:08<00:00, 11.9MB/s]\n"
     ]
    }
   ],
   "source": [
    "from secretflow.utils.compressor import QuantizedZeroPoint, QuantizedFP, QuantizedKmeans\n",
    "from torchvision import models\n",
    "import ssl\n",
    "import time\n",
    "\n",
    "import numpy as np\n",
    "import matplotlib.pyplot as plt\n",
    "\n",
    "ssl._create_default_https_context = ssl._create_unverified_context\n",
    "net = models.resnet50(pretrained=True)\n",
    "net_params = [p.detach().numpy().flatten() for p in net.parameters()]\n",
    "\n",
    "coms = [\n",
    "    QuantizedZeroPoint(8),\n",
    "    QuantizedFP(8, format='E4M3'),\n",
    "    QuantizedFP(8, format='E5M2'),\n",
    "    QuantizedKmeans(8, n_clusters=100),\n",
    "]\n",
    "losses = []\n",
    "durations = []\n",
    "\n",
    "for c in coms:\n",
    "    start = time.time()\n",
    "    c_params = c.compress(net_params)\n",
    "    dc_params = c.decompress(c_params)\n",
    "    losses.append(sum([np.sum((a - b) ** 2) for a, b in zip(net_params, dc_params)]))\n",
    "    durations.append(time.time() - start)"
   ]
  },
  {
   "cell_type": "code",
   "execution_count": 21,
   "metadata": {
    "pycharm": {
     "name": "#%%\n"
    }
   },
   "outputs": [
    {
     "data": {
      "text/plain": "<Figure size 1280x480 with 2 Axes>",
      "image/png": "[encoded data removed]"
     },
     "metadata": {},
     "output_type": "display_data"
    }
   ],
   "source": [
    "plt.figure(figsize=(12.8, 4.8))\n",
    "x = [1, 2, 3, 4]\n",
    "x_label = ['Int8', 'Fp8-E4M3', 'Fp8-E5M2', 'Kmeans']\n",
    "\n",
    "plt.subplot(121)\n",
    "p1 = plt.bar(x, losses, color='deepskyblue')\n",
    "plt.bar_label(p1, label_type='edge')\n",
    "plt.xticks(x, x_label)\n",
    "plt.title('SSE loss in compressing ResNet50')\n",
    "plt.ylabel('Sum Square Error')\n",
    "\n",
    "plt.subplot(122)\n",
    "p2 = plt.bar(x, durations, color='salmon')\n",
    "plt.bar_label(p2, label_type='edge')\n",
    "plt.xticks(x, x_label)\n",
    "plt.title('Time comsuming in compressing ResNet50')\n",
    "plt.ylabel('time')\n",
    "\n",
    "plt.show()"
   ]
  },
  {
   "cell_type": "markdown",
   "metadata": {
    "pycharm": {
     "name": "#%% md\n"
    }
   },
   "source": [
    "可以看到，kmeans压缩在控制精度损失方面表现最好，但压缩时间非常长。\n",
    "\n",
    "浮点数(Fp8-M4E3)对ResNet模型参数压缩的效果略优于整型(Int8)压缩，时间消耗是整型压缩的3倍。\n",
    "\n",
    "实际应用压缩算法时，可根据计算资源和压缩精度进行平衡。"
   ]
  },
  {
   "cell_type": "markdown",
   "metadata": {
    "pycharm": {
     "name": "#%% md\n"
    }
   },
   "source": [
    "### 总结\n",
    "\n",
    "本篇示例介绍了通讯压缩算法，并在拆分学习的基础之上使用了SecretFlow提供和自行设计的压缩算法。\n",
    "\n",
    "从实验数据可以看出，将32位数压缩为8位的精度损失不大，而理论通信消耗仅为不作压缩时的1/4，因此在需要频繁传输数据和梯度的拆分学习中，加入通讯压缩不失为一个好的选择。\n",
    "\n",
    "本教程使用明文聚合来做演示，同时没有考虑隐藏层的泄露问题，SecretFlow提供了聚合层AggLayer，通过MPC,TEE,HE，以及DP等方式规避隐层明文传输泄露的问题。如果您感兴趣，可以看相关文档。"
   ]
  }
 ],
 "metadata": {
  "kernelspec": {
   "name": "default",
   "language": "python",
   "display_name": "default"
  },
  "language_info": {
   "codemirror_mode": {
    "name": "ipython",
    "version": 3
   },
   "file_extension": ".py",
   "mimetype": "text/x-python",
   "name": "python",
   "nbconvert_exporter": "python",
   "pygments_lexer": "ipython3",
   "version": "3.8.15"
  },
  "orig_nbformat": 4
 },
 "nbformat": 4,
 "nbformat_minor": 2
}