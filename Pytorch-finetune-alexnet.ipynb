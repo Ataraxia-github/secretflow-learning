{
 "cells": [
  {
   "cell_type": "markdown",
   "metadata": {
    "pycharm": {
     "name": "#%% md\n"
    }
   },
   "source": [
    "# 基于 PyTorch 的预训练模型在隐语联邦学习环境下的微调\n",
    "## 引言\n",
    "预训练模型加载和精调在机器学习中非常重要。一般来说，从头训练一个非常大的模型，不仅需要大量的算力资源，同时也需要耗费大量的时间。所以在传统的机器学习中，使用预训练模型，然后针对具体的任务做微调和迁移学习非常普遍。同样的，对于联邦学习来说，如果能够加载预训练模型进行微调和迁移学习，不仅能够节省参与方的算力资源，降低参与方的准入门槛，同时也能够加快模型的学习速度。\n",
    "\n",
    "得益于隐语联邦学习模块优异的兼容性，使得其可以直接加载 PyTorch 的一系列[预训练模型](https://pytorch.org/vision/master/models.html)；本教程将基于 PyTorch 的 [AlexNet](https://proceedings.neurips.cc/paper_files/paper/2012/file/c399862d3b9d6b76c8436e924a68c45b-Paper.pdf) 的微调教程展现如何基于PyTorch的[预训练模型](https://pytorch.org/vision/master/models/alexnet.html)在SecretFlow的框架下进行微调，充分展现SecretFlow的易用性。"
   ]
  },
  {
   "cell_type": "code",
   "execution_count": 1,
   "metadata": {
    "pycharm": {
     "name": "#%%\n"
    }
   },
   "outputs": [],
   "source": [
    "%load_ext autoreload\n",
    "%autoreload 2"
   ]
  },
  {
   "cell_type": "markdown",
   "metadata": {
    "pycharm": {
     "name": "#%% md\n"
    }
   },
   "source": [
    "## 加载数据集\n",
    "### 数据集介绍\n",
    "Flower 数据集介绍：flower 数据集是一个包含了 5 种花卉（雏菊、蒲公英、玫瑰、向日葵、郁金香）共计 4323 张彩色图片的数据集。每种花卉都有多个角度和不同光照下的图片，每张图片的分辨率为 320x240。这个数据集常用于图像分类和机器学习算法的训练与测试。数据集中每个类别的数量分别是：daisy（633），dandelion（898），rose（641），sunflower（699），tulip（852）\n",
    "\n",
    "下载地址: http://download.tensorflow.org/example_images/flower_photos.tgz\n",
    "\n",
    "### 下载数据集并解压"
   ]
  },
  {
   "cell_type": "code",
   "execution_count": 2,
   "metadata": {
    "pycharm": {
     "name": "#%%\n"
    }
   },
   "outputs": [
    {
     "name": "stderr",
     "output_type": "stream",
     "text": [
      "2024-01-10 08:27:18.524367: I tensorflow/core/platform/cpu_feature_guard.cc:193] This TensorFlow binary is optimized with oneAPI Deep Neural Network Library (oneDNN) to use the following CPU instructions in performance-critical operations:  AVX2 AVX512F AVX512_VNNI FMA\n",
      "To enable them in other operations, rebuild TensorFlow with the appropriate compiler flags.\n",
      "2024-01-10 08:27:18.663518: I tensorflow/core/util/port.cc:104] oneDNN custom operations are on. You may see slightly different numerical results due to floating-point round-off errors from different computation orders. To turn them off, set the environment variable `TF_ENABLE_ONEDNN_OPTS=0`.\n",
      "2024-01-10 08:27:18.667741: W tensorflow/compiler/xla/stream_executor/platform/default/dso_loader.cc:64] Could not load dynamic library 'libcudart.so.11.0'; dlerror: libcudart.so.11.0: cannot open shared object file: No such file or directory\n",
      "2024-01-10 08:27:18.667750: I tensorflow/compiler/xla/stream_executor/cuda/cudart_stub.cc:29] Ignore above cudart dlerror if you do not have a GPU set up on your machine.\n",
      "2024-01-10 08:27:20.687669: W tensorflow/compiler/xla/stream_executor/platform/default/dso_loader.cc:64] Could not load dynamic library 'libnvinfer.so.7'; dlerror: libnvinfer.so.7: cannot open shared object file: No such file or directory\n",
      "2024-01-10 08:27:20.687769: W tensorflow/compiler/xla/stream_executor/platform/default/dso_loader.cc:64] Could not load dynamic library 'libnvinfer_plugin.so.7'; dlerror: libnvinfer_plugin.so.7: cannot open shared object file: No such file or directory\n",
      "2024-01-10 08:27:20.687779: W tensorflow/compiler/tf2tensorrt/utils/py_utils.cc:38] TF-TRT Warning: Cannot dlopen some TensorRT libraries. If you would like to use Nvidia GPU with TensorRT, please make sure the missing libraries mentioned above are installed properly.\n"
     ]
    },
    {
     "name": "stdout",
     "output_type": "stream",
     "text": [
      "Downloading data from https://secretflow-data.oss-accelerate.aliyuncs.com/datasets/tf_flowers/flower_photos.tgz\n",
      "67588319/67588319 [==============================] - 5s 0us/step\n"
     ]
    }
   ],
   "source": [
    "# The TensorFlow interface is reused to download images , and the output is a folder, as shown in the following figure.\n",
    "import tempfile\n",
    "import tensorflow as tf\n",
    "\n",
    "_temp_dir = tempfile.mkdtemp()\n",
    "path_to_flower_dataset = tf.keras.utils.get_file(\n",
    "    \"flower_photos\",\n",
    "    \"https://secretflow-data.oss-accelerate.aliyuncs.com/datasets/tf_flowers/flower_photos.tgz\",\n",
    "    untar=True,\n",
    "    cache_dir=_temp_dir,\n",
    ")"
   ]
  },
  {
   "cell_type": "markdown",
   "metadata": {
    "pycharm": {
     "name": "#%% md\n"
    }
   },
   "source": [
    "## 环境设置\n",
    "首先我们初始化各个参与方。"
   ]
  },
  {
   "cell_type": "code",
   "execution_count": 11,
   "metadata": {
    "pycharm": {
     "name": "#%%\n"
    }
   },
   "outputs": [
    {
     "name": "stdout",
     "output_type": "stream",
     "text": [
      "The version of SecretFlow: 1.4.0.dev20240105\n"
     ]
    },
    {
     "name": "stderr",
     "output_type": "stream",
     "text": [
      "2024-01-10 08:29:31,672\tWARNING services.py:1732 -- WARNING: The object store is using /tmp instead of /dev/shm because /dev/shm has only 3300114432 bytes available. This will harm performance! You may be able to free up space by deleting files in /dev/shm. If you are inside a Docker container, you can increase /dev/shm size by passing '--shm-size=4.00gb' to 'docker run' (or add it to the run_options list in a Ray cluster config). Make sure to set this to more than 30% of available RAM.\n",
      "2024-01-10 08:29:31,873\tINFO worker.py:1538 -- Started a local Ray instance.\n"
     ]
    }
   ],
   "source": [
    "import secretflow as sf\n",
    "\n",
    "# Check the version of your SecretFlow\n",
    "print('The version of SecretFlow: {}'.format(sf.__version__))\n",
    "\n",
    "# In case you have a running secretflow runtime already.\n",
    "sf.shutdown()\n",
    "sf.init(['alice', 'bob', 'charlie'], address=\"local\", log_to_driver=False, num_cpus=64)\n",
    "alice, bob, charlie = sf.PYU('alice'), sf.PYU('bob'), sf.PYU('charlie')"
   ]
  },
  {
   "cell_type": "markdown",
   "metadata": {
    "pycharm": {
     "name": "#%% md\n"
    }
   },
   "source": [
    "## 定义Dataloader\n",
    "我们可以参考[PyTorch下的DataBuilder教程](https://www.secretflow.org.cn/docs/secretflow/latest/zh-Hans/tutorial/CustomDataLoaderTorch)定义我们自己的DataBuilder。"
   ]
  },
  {
   "cell_type": "code",
   "execution_count": 12,
   "metadata": {
    "pycharm": {
     "name": "#%%\n"
    }
   },
   "outputs": [],
   "source": [
    "def create_dataset_builder(\n",
    "    batch_size=32,\n",
    "    train_split=0.8,\n",
    "    shuffle=True,\n",
    "    random_seed=1234,\n",
    "):\n",
    "    def dataset_builder(x, stage=\"train\"):\n",
    "        \"\"\" \"\"\"\n",
    "        import math\n",
    "\n",
    "        import numpy as np\n",
    "        from torch.utils.data import DataLoader\n",
    "        from torch.utils.data.sampler import SubsetRandomSampler\n",
    "        from torchvision import datasets, transforms\n",
    "\n",
    "        # Define dataset\n",
    "        flower_transform = transforms.Compose(\n",
    "            [\n",
    "                transforms.Resize((180, 180)),\n",
    "                transforms.ToTensor(),\n",
    "            ]\n",
    "        )\n",
    "        flower_dataset = datasets.ImageFolder(x, transform=flower_transform)\n",
    "        dataset_size = len(flower_dataset)\n",
    "        # Define sampler\n",
    "\n",
    "        indices = list(range(dataset_size))\n",
    "        if shuffle:\n",
    "            np.random.seed(random_seed)\n",
    "            np.random.shuffle(indices)\n",
    "        split = int(np.floor(train_split * dataset_size))\n",
    "        train_indices, val_indices = indices[:split], indices[split:]\n",
    "        train_sampler = SubsetRandomSampler(train_indices)\n",
    "        valid_sampler = SubsetRandomSampler(val_indices)\n",
    "\n",
    "        # Define databuilder\n",
    "        train_loader = DataLoader(\n",
    "            flower_dataset, batch_size=batch_size, sampler=train_sampler\n",
    "        )\n",
    "        valid_loader = DataLoader(\n",
    "            flower_dataset, batch_size=batch_size, sampler=valid_sampler\n",
    "        )\n",
    "\n",
    "        # Return\n",
    "        if stage == \"train\":\n",
    "            train_step_per_epoch = math.ceil(split / batch_size)\n",
    "\n",
    "            return train_loader, train_step_per_epoch\n",
    "        elif stage == \"eval\":\n",
    "            eval_step_per_epoch = math.ceil((dataset_size - split) / batch_size)\n",
    "            return valid_loader, eval_step_per_epoch\n",
    "\n",
    "    return dataset_builder"
   ]
  },
  {
   "cell_type": "code",
   "execution_count": 13,
   "metadata": {
    "pycharm": {
     "name": "#%%\n"
    }
   },
   "outputs": [],
   "source": [
    "# prepare dataset dict\n",
    "data_builder_dict = {\n",
    "    alice: create_dataset_builder(\n",
    "        batch_size=32,\n",
    "        train_split=0.8,\n",
    "        shuffle=False,\n",
    "        random_seed=1234,\n",
    "    ),\n",
    "    bob: create_dataset_builder(\n",
    "        batch_size=32,\n",
    "        train_split=0.8,\n",
    "        shuffle=False,\n",
    "        random_seed=1234,\n",
    "    ),\n",
    "}"
   ]
  },
  {
   "cell_type": "markdown",
   "metadata": {
    "pycharm": {
     "name": "#%% md\n"
    }
   },
   "source": [
    "## 加载模型\n",
    "我们只要参照教程里对模型的定义，在函数里完成我们对模型的定义即可；可以看到代码几乎不需要作任何修改，只需要进行适当的封装。并且得益于隐语优异的封装性，我们可以在定义模型很快进行进行训练，而不是需要自行编写训练和测试函数；相反如果我们自行从头开始写整个神经网络结构的话，我们需要自行参考AlexNet的[源代码](https://pytorch.org/vision/master/_modules/torchvision/models/alexnet.html#alexnet)，将其适配在隐语的`secretflow.ml.nn.utils.BaseModule`;为便于对比，我们分别给出两种实现方式："
   ]
  },
  {
   "cell_type": "markdown",
   "metadata": {
    "pycharm": {
     "name": "#%% md\n"
    }
   },
   "source": [
    "### 加载预训练模型"
   ]
  },
  {
   "cell_type": "code",
   "execution_count": 14,
   "metadata": {
    "pycharm": {
     "name": "#%%\n"
    }
   },
   "outputs": [],
   "source": [
    "from secretflow.ml.nn.utils import BaseModule\n",
    "from torchvision.models import alexnet\n",
    "from torch import nn\n",
    "\n",
    "\n",
    "class AlexNet(BaseModule):\n",
    "    def __init__(self, *args, **kwargs) -> None:\n",
    "        super().__init__(*args, **kwargs)\n",
    "        self.finetune_net = alexnet(weights='IMAGENET1K_V1')\n",
    "        self.finetune_net.classifier[6] = nn.Linear(4096, 5)\n",
    "        nn.init.xavier_uniform_(self.finetune_net.classifier[6].weight)\n",
    "\n",
    "        for named_param in self.finetune_net.named_parameters():\n",
    "            if 'classifier' in named_param[0]:\n",
    "                print('Will train', named_param[0])\n",
    "                named_param[1].requires_grad = True\n",
    "            else:\n",
    "                print('Won\\'t train', named_param[0])\n",
    "                named_param[1].requires_grad = False\n",
    "\n",
    "    def forward(self, xb):\n",
    "        return self.finetune_net(xb)"
   ]
  },
  {
   "cell_type": "markdown",
   "metadata": {
    "pycharm": {
     "name": "#%% md\n"
    }
   },
   "source": [
    "### 自行编写网络结构"
   ]
  },
  {
   "cell_type": "code",
   "execution_count": 15,
   "metadata": {
    "pycharm": {
     "name": "#%%\n"
    }
   },
   "outputs": [],
   "source": [
    "import torch\n",
    "\n",
    "\n",
    "class handy_AlexNet(BaseModule):\n",
    "    def __init__(self, num_classes: int = 5, dropout: float = 0.5, **kwargs) -> None:\n",
    "        super().__init__(**kwargs)\n",
    "        self.features = nn.Sequential(\n",
    "            nn.Conv2d(3, 64, kernel_size=11, stride=4, padding=2),\n",
    "            nn.ReLU(inplace=True),\n",
    "            nn.MaxPool2d(kernel_size=3, stride=2),\n",
    "            nn.Conv2d(64, 192, kernel_size=5, padding=2),\n",
    "            nn.ReLU(inplace=True),\n",
    "            nn.MaxPool2d(kernel_size=3, stride=2),\n",
    "            nn.Conv2d(192, 384, kernel_size=3, padding=1),\n",
    "            nn.ReLU(inplace=True),\n",
    "            nn.Conv2d(384, 256, kernel_size=3, padding=1),\n",
    "            nn.ReLU(inplace=True),\n",
    "            nn.Conv2d(256, 256, kernel_size=3, padding=1),\n",
    "            nn.ReLU(inplace=True),\n",
    "            nn.MaxPool2d(kernel_size=3, stride=2),\n",
    "        )\n",
    "        self.avgpool = nn.AdaptiveAvgPool2d((6, 6))\n",
    "        self.classifier = nn.Sequential(\n",
    "            nn.Dropout(p=dropout),\n",
    "            nn.Linear(256 * 6 * 6, 4096),\n",
    "            nn.ReLU(inplace=True),\n",
    "            nn.Dropout(p=dropout),\n",
    "            nn.Linear(4096, 4096),\n",
    "            nn.ReLU(inplace=True),\n",
    "            nn.Linear(4096, num_classes),\n",
    "        )\n",
    "\n",
    "        for named_param in self.features.named_parameters():\n",
    "            named_param[1].requires_grad = True\n",
    "\n",
    "        for named_param in self.classifier.named_parameters():\n",
    "            named_param[1].requires_grad = True\n",
    "\n",
    "    def forward(self, x: torch.Tensor) -> torch.Tensor:\n",
    "        x = self.features(x)\n",
    "        x = self.avgpool(x)\n",
    "        x = torch.flatten(x, 1)\n",
    "        x = self.classifier(x)\n",
    "        return x"
   ]
  },
  {
   "cell_type": "code",
   "execution_count": 16,
   "metadata": {
    "pycharm": {
     "name": "#%%\n"
    }
   },
   "outputs": [],
   "source": [
    "from secretflow.ml.nn import FLModel\n",
    "from secretflow.security.aggregation import SecureAggregator\n",
    "from torch import nn, optim\n",
    "from torchmetrics import Accuracy, Precision\n",
    "from secretflow.ml.nn.fl.utils import metric_wrapper, optim_wrapper\n",
    "from secretflow.ml.nn.utils import TorchModel"
   ]
  },
  {
   "cell_type": "markdown",
   "metadata": {
    "pycharm": {
     "name": "#%% md\n"
    }
   },
   "source": [
    "## 定义 FLModel 并且训练\n",
    "\n",
    "### 基于预训练模型定义 Torch 后端的 FLModel "
   ]
  },
  {
   "cell_type": "code",
   "execution_count": 17,
   "metadata": {
    "pycharm": {
     "name": "#%%\n"
    }
   },
   "outputs": [
    {
     "name": "stderr",
     "output_type": "stream",
     "text": [
      "INFO:root:Create proxy actor <class 'secretflow.security.aggregation.secure_aggregator._Masker'> with party alice.\n",
      "INFO:root:Create proxy actor <class 'secretflow.security.aggregation.secure_aggregator._Masker'> with party bob.\n",
      "INFO:root:Create proxy actor <class 'secretflow.ml.nn.fl.backend.torch.strategy.fed_avg_w.PYUFedAvgW'> with party alice.\n",
      "INFO:root:Create proxy actor <class 'secretflow.ml.nn.fl.backend.torch.strategy.fed_avg_w.PYUFedAvgW'> with party bob.\n"
     ]
    }
   ],
   "source": [
    "device_list = [alice, bob]\n",
    "aggregator = SecureAggregator(charlie, [alice, bob])\n",
    "\n",
    "data = {\n",
    "    alice: path_to_flower_dataset,\n",
    "    bob: path_to_flower_dataset,\n",
    "}\n",
    "# prepare model\n",
    "num_classes = 5\n",
    "\n",
    "\n",
    "# torch model\n",
    "loss_fn = nn.CrossEntropyLoss\n",
    "optim_fn = optim_wrapper(optim.Adam, lr=1e-3)\n",
    "model_def = TorchModel(\n",
    "    model_fn=AlexNet,\n",
    "    loss_fn=loss_fn,\n",
    "    optim_fn=optim_fn,\n",
    "    metrics=[\n",
    "        metric_wrapper(\n",
    "            Accuracy, task=\"multiclass\", num_classes=num_classes, average='micro'\n",
    "        ),\n",
    "        metric_wrapper(\n",
    "            Precision, task=\"multiclass\", num_classes=num_classes, average='micro'\n",
    "        ),\n",
    "    ],\n",
    ")\n",
    "\n",
    "fed_model = FLModel(\n",
    "    device_list=device_list,\n",
    "    model=model_def,\n",
    "    aggregator=aggregator,\n",
    "    backend=\"torch\",\n",
    "    strategy=\"fed_avg_w\",\n",
    "    random_seed=1234,\n",
    ")"
   ]
  },
  {
   "cell_type": "markdown",
   "metadata": {
    "pycharm": {
     "name": "#%% md\n"
    }
   },
   "source": [
    "### 基于预训练模型的 FLModel 开始训练"
   ]
  },
  {
   "cell_type": "code",
   "execution_count": 18,
   "metadata": {
    "pycharm": {
     "name": "#%%\n"
    }
   },
   "outputs": [
    {
     "name": "stderr",
     "output_type": "stream",
     "text": [
      "INFO:root:FL Train Params: {'x': {PYURuntime(alice): '/tmp/tmpr_oxw0l7/datasets/flower_photos', PYURuntime(bob): '/tmp/tmpr_oxw0l7/datasets/flower_photos'}, 'y': None, 'batch_size': 32, 'batch_sampling_rate': None, 'epochs': 20, 'verbose': 1, 'callbacks': None, 'validation_data': {PYURuntime(alice): '/tmp/tmpr_oxw0l7/datasets/flower_photos', PYURuntime(bob): '/tmp/tmpr_oxw0l7/datasets/flower_photos'}, 'shuffle': False, 'class_weight': None, 'sample_weight': None, 'validation_freq': 1, 'aggregate_freq': 2, 'label_decoder': None, 'max_batch_size': 20000, 'prefetch_buffer_size': None, 'sampler_method': 'batch', 'random_seed': 1234, 'dp_spent_step_freq': 1, 'audit_log_dir': None, 'dataset_builder': {PYURuntime(alice): <function create_dataset_builder.<locals>.dataset_builder at 0x7f8ace9559d0>, PYURuntime(bob): <function create_dataset_builder.<locals>.dataset_builder at 0x7f8acf39e670>}, 'wait_steps': 100, 'self': <secretflow.ml.nn.fl.fl_model.FLModel object at 0x7f8acead5580>}\n",
      "Train Processing: :   0%|          | 0/30 [00:00<?, ?it/s]"
     ]
    },
    {
     "name": "stdout",
     "output_type": "stream",
     "text": [
      "Epoch 1/20\n"
     ]
    },
    {
     "name": "stderr",
     "output_type": "stream",
     "text": [
      "Train Processing: :  93%|█████████▎| 28/30 [02:58<00:09,  4.82s/it]/opt/conda/envs/default/lib/python3.8/site-packages/secretflow/ml/nn/metrics.py:59: UserWarning: Please pay attention to local metrics, global only do naive aggregation.\n",
      "  warnings.warn(\n",
      "2024-01-10 08:33:24.717503: W tensorflow/compiler/xla/stream_executor/platform/default/dso_loader.cc:64] Could not load dynamic library 'libcudart.so.11.0'; dlerror: libcudart.so.11.0: cannot open shared object file: No such file or directory\n",
      "2024-01-10 08:33:24.717839: W tensorflow/compiler/xla/stream_executor/platform/default/dso_loader.cc:64] Could not load dynamic library 'libcublas.so.11'; dlerror: libcublas.so.11: cannot open shared object file: No such file or directory\n",
      "2024-01-10 08:33:24.717982: W tensorflow/compiler/xla/stream_executor/platform/default/dso_loader.cc:64] Could not load dynamic library 'libcublasLt.so.11'; dlerror: libcublasLt.so.11: cannot open shared object file: No such file or directory\n",
      "2024-01-10 08:33:24.718112: W tensorflow/compiler/xla/stream_executor/platform/default/dso_loader.cc:64] Could not load dynamic library 'libcufft.so.10'; dlerror: libcufft.so.10: cannot open shared object file: No such file or directory\n",
      "2024-01-10 08:33:24.718268: W tensorflow/compiler/xla/stream_executor/platform/default/dso_loader.cc:64] Could not load dynamic library 'libcusolver.so.11'; dlerror: libcusolver.so.11: cannot open shared object file: No such file or directory\n",
      "2024-01-10 08:33:24.718399: W tensorflow/compiler/xla/stream_executor/platform/default/dso_loader.cc:64] Could not load dynamic library 'libcusparse.so.11'; dlerror: libcusparse.so.11: cannot open shared object file: No such file or directory\n",
      "2024-01-10 08:33:24.718439: W tensorflow/core/common_runtime/gpu/gpu_device.cc:1934] Cannot dlopen some GPU libraries. Please make sure the missing libraries mentioned above are installed properly if you would like to use GPU. Follow the guide at https://www.tensorflow.org/install/gpu for how to download and setup the required libraries for your platform.\n",
      "Skipping registering GPU devices...\n",
      "2024-01-10 08:33:24.719892: I tensorflow/core/platform/cpu_feature_guard.cc:193] This TensorFlow binary is optimized with oneAPI Deep Neural Network Library (oneDNN) to use the following CPU instructions in performance-critical operations:  AVX2 AVX512F AVX512_VNNI FMA\n",
      "To enable them in other operations, rebuild TensorFlow with the appropriate compiler flags.\n",
      "Train Processing: :  93%|█████████▎| 28/30 [03:15<00:13,  6.99s/it, {'multiclassaccuracy': 0.625, 'multiclassprecision': 0.625, 'val_multiclassaccuracy': 0.45643154, 'val_multiclassprecision': 0.45643154}]\n",
      "Train Processing: :   0%|          | 0/30 [00:00<?, ?it/s]"
     ]
    },
    {
     "name": "stdout",
     "output_type": "stream",
     "text": [
      "Epoch 2/20\n"
     ]
    },
    {
     "name": "stderr",
     "output_type": "stream",
     "text": [
      "Train Processing: :  93%|█████████▎| 28/30 [03:11<00:13,  6.85s/it, {'multiclassaccuracy': 0.759375, 'multiclassprecision': 0.759375, 'val_multiclassaccuracy': 0.32365146, 'val_multiclassprecision': 0.32365146}]\n",
      "Train Processing: :   0%|          | 0/30 [00:00<?, ?it/s]"
     ]
    },
    {
     "name": "stdout",
     "output_type": "stream",
     "text": [
      "Epoch 3/20\n"
     ]
    },
    {
     "name": "stderr",
     "output_type": "stream",
     "text": [
      "Train Processing: :  93%|█████████▎| 28/30 [03:09<00:13,  6.77s/it, {'multiclassaccuracy': 0.840625, 'multiclassprecision': 0.840625, 'val_multiclassaccuracy': 0.4647303, 'val_multiclassprecision': 0.4647303}]\n",
      "Train Processing: :   0%|          | 0/30 [00:00<?, ?it/s]"
     ]
    },
    {
     "name": "stdout",
     "output_type": "stream",
     "text": [
      "Epoch 4/20\n"
     ]
    },
    {
     "name": "stderr",
     "output_type": "stream",
     "text": [
      "Train Processing: :  93%|█████████▎| 28/30 [03:32<00:15,  7.57s/it, {'multiclassaccuracy': 0.8697917, 'multiclassprecision': 0.8697917, 'val_multiclassaccuracy': 0.62240666, 'val_multiclassprecision': 0.62240666}]\n",
      "Train Processing: :   0%|          | 0/30 [00:00<?, ?it/s]"
     ]
    },
    {
     "name": "stdout",
     "output_type": "stream",
     "text": [
      "Epoch 5/20\n"
     ]
    },
    {
     "name": "stderr",
     "output_type": "stream",
     "text": [
      "Train Processing: :  93%|█████████▎| 28/30 [03:13<00:13,  6.90s/it, {'multiclassaccuracy': 0.9125, 'multiclassprecision': 0.9125, 'val_multiclassaccuracy': 0.53526974, 'val_multiclassprecision': 0.53526974}]\n",
      "Train Processing: :   0%|          | 0/30 [00:00<?, ?it/s]"
     ]
    },
    {
     "name": "stdout",
     "output_type": "stream",
     "text": [
      "Epoch 6/20\n"
     ]
    },
    {
     "name": "stderr",
     "output_type": "stream",
     "text": [
      "Train Processing: :  93%|█████████▎| 28/30 [03:02<00:13,  6.51s/it, {'multiclassaccuracy': 0.8875, 'multiclassprecision': 0.8875, 'val_multiclassaccuracy': 0.22406639, 'val_multiclassprecision': 0.22406639}]\n",
      "Train Processing: :   0%|          | 0/30 [00:00<?, ?it/s]"
     ]
    },
    {
     "name": "stdout",
     "output_type": "stream",
     "text": [
      "Epoch 7/20\n"
     ]
    },
    {
     "name": "stderr",
     "output_type": "stream",
     "text": [
      "Train Processing: :  93%|█████████▎| 28/30 [03:29<00:14,  7.47s/it, {'multiclassaccuracy': 0.9135417, 'multiclassprecision': 0.9135417, 'val_multiclassaccuracy': 0.6846473, 'val_multiclassprecision': 0.6846473}]\n",
      "Train Processing: :   0%|          | 0/30 [00:00<?, ?it/s]"
     ]
    },
    {
     "name": "stdout",
     "output_type": "stream",
     "text": [
      "Epoch 8/20\n"
     ]
    },
    {
     "name": "stderr",
     "output_type": "stream",
     "text": [
      "Train Processing: :  93%|█████████▎| 28/30 [03:32<00:15,  7.59s/it, {'multiclassaccuracy': 0.9114583, 'multiclassprecision': 0.9114583, 'val_multiclassaccuracy': 0.32365146, 'val_multiclassprecision': 0.32365146}]\n",
      "Train Processing: :   0%|          | 0/30 [00:00<?, ?it/s]"
     ]
    },
    {
     "name": "stdout",
     "output_type": "stream",
     "text": [
      "Epoch 9/20\n"
     ]
    },
    {
     "name": "stderr",
     "output_type": "stream",
     "text": [
      "Train Processing: :  93%|█████████▎| 28/30 [03:06<00:13,  6.67s/it, {'multiclassaccuracy': 0.928125, 'multiclassprecision': 0.928125, 'val_multiclassaccuracy': 0.39834026, 'val_multiclassprecision': 0.39834026}]\n",
      "Train Processing: :   0%|          | 0/30 [00:00<?, ?it/s]"
     ]
    },
    {
     "name": "stdout",
     "output_type": "stream",
     "text": [
      "Epoch 10/20\n"
     ]
    },
    {
     "name": "stderr",
     "output_type": "stream",
     "text": [
      "Train Processing: :  93%|█████████▎| 28/30 [03:03<00:13,  6.54s/it, {'multiclassaccuracy': 0.95729166, 'multiclassprecision': 0.95729166, 'val_multiclassaccuracy': 0.2821577, 'val_multiclassprecision': 0.2821577}]\n",
      "Train Processing: :   0%|          | 0/30 [00:00<?, ?it/s]"
     ]
    },
    {
     "name": "stdout",
     "output_type": "stream",
     "text": [
      "Epoch 11/20\n"
     ]
    },
    {
     "name": "stderr",
     "output_type": "stream",
     "text": [
      "Train Processing: :  93%|█████████▎| 28/30 [03:24<00:14,  7.31s/it, {'multiclassaccuracy': 0.971875, 'multiclassprecision': 0.971875, 'val_multiclassaccuracy': 0.54771787, 'val_multiclassprecision': 0.54771787}]\n",
      "Train Processing: :   0%|          | 0/30 [00:00<?, ?it/s]"
     ]
    },
    {
     "name": "stdout",
     "output_type": "stream",
     "text": [
      "Epoch 12/20\n"
     ]
    },
    {
     "name": "stderr",
     "output_type": "stream",
     "text": [
      "Train Processing: :  93%|█████████▎| 28/30 [03:39<00:15,  7.84s/it, {'multiclassaccuracy': 0.9583333, 'multiclassprecision': 0.9583333, 'val_multiclassaccuracy': 0.47717842, 'val_multiclassprecision': 0.47717842}]\n",
      "Train Processing: :   0%|          | 0/30 [00:00<?, ?it/s]"
     ]
    },
    {
     "name": "stdout",
     "output_type": "stream",
     "text": [
      "Epoch 13/20\n"
     ]
    },
    {
     "name": "stderr",
     "output_type": "stream",
     "text": [
      "Train Processing: :  93%|█████████▎| 28/30 [03:52<00:16,  8.29s/it, {'multiclassaccuracy': 0.96979165, 'multiclassprecision': 0.96979165, 'val_multiclassaccuracy': 0.31120333, 'val_multiclassprecision': 0.31120333}]\n",
      "Train Processing: :   0%|          | 0/30 [00:00<?, ?it/s]"
     ]
    },
    {
     "name": "stdout",
     "output_type": "stream",
     "text": [
      "Epoch 14/20\n"
     ]
    },
    {
     "name": "stderr",
     "output_type": "stream",
     "text": [
      "Train Processing: :  93%|█████████▎| 28/30 [03:02<00:13,  6.52s/it, {'multiclassaccuracy': 0.9604167, 'multiclassprecision': 0.9604167, 'val_multiclassaccuracy': 0.57261413, 'val_multiclassprecision': 0.57261413}]\n",
      "Train Processing: :   0%|          | 0/30 [00:00<?, ?it/s]"
     ]
    },
    {
     "name": "stdout",
     "output_type": "stream",
     "text": [
      "Epoch 15/20\n"
     ]
    },
    {
     "name": "stderr",
     "output_type": "stream",
     "text": [
      "Train Processing: :  93%|█████████▎| 28/30 [03:49<00:16,  8.20s/it, {'multiclassaccuracy': 0.97083336, 'multiclassprecision': 0.97083336, 'val_multiclassaccuracy': 0.560166, 'val_multiclassprecision': 0.560166}]\n",
      "Train Processing: :   0%|          | 0/30 [00:00<?, ?it/s]"
     ]
    },
    {
     "name": "stdout",
     "output_type": "stream",
     "text": [
      "Epoch 16/20\n"
     ]
    },
    {
     "name": "stderr",
     "output_type": "stream",
     "text": [
      "Train Processing: :  93%|█████████▎| 28/30 [04:33<00:19,  9.79s/it, {'multiclassaccuracy': 0.959375, 'multiclassprecision': 0.959375, 'val_multiclassaccuracy': 0.68049794, 'val_multiclassprecision': 0.68049794}]\n",
      "Train Processing: :   0%|          | 0/30 [00:00<?, ?it/s]"
     ]
    },
    {
     "name": "stdout",
     "output_type": "stream",
     "text": [
      "Epoch 17/20\n"
     ]
    },
    {
     "name": "stderr",
     "output_type": "stream",
     "text": [
      "Train Processing: :  93%|█████████▎| 28/30 [03:32<00:15,  7.58s/it, {'multiclassaccuracy': 0.95208335, 'multiclassprecision': 0.95208335, 'val_multiclassaccuracy': 0.5767635, 'val_multiclassprecision': 0.5767635}]\n",
      "Train Processing: :   0%|          | 0/30 [00:00<?, ?it/s]"
     ]
    },
    {
     "name": "stdout",
     "output_type": "stream",
     "text": [
      "Epoch 18/20\n"
     ]
    },
    {
     "name": "stderr",
     "output_type": "stream",
     "text": [
      "Train Processing: :  93%|█████████▎| 28/30 [03:37<00:15,  7.76s/it, {'multiclassaccuracy': 0.9447917, 'multiclassprecision': 0.9447917, 'val_multiclassaccuracy': 0.4439834, 'val_multiclassprecision': 0.4439834}]\n",
      "Train Processing: :   0%|          | 0/30 [00:00<?, ?it/s]"
     ]
    },
    {
     "name": "stdout",
     "output_type": "stream",
     "text": [
      "Epoch 19/20\n"
     ]
    },
    {
     "name": "stderr",
     "output_type": "stream",
     "text": [
      "Train Processing: :  93%|█████████▎| 28/30 [03:31<00:15,  7.56s/it, {'multiclassaccuracy': 0.9479167, 'multiclassprecision': 0.9479167, 'val_multiclassaccuracy': 0.5228216, 'val_multiclassprecision': 0.5228216}]\n",
      "Train Processing: :   0%|          | 0/30 [00:00<?, ?it/s]"
     ]
    },
    {
     "name": "stdout",
     "output_type": "stream",
     "text": [
      "Epoch 20/20\n"
     ]
    },
    {
     "name": "stderr",
     "output_type": "stream",
     "text": [
      "Train Processing: :  73%|███████▎  | 22/30 [02:23<01:06,  8.31s/it]"
     ]
    },
    {
     "ename": "OutOfDiskError",
     "evalue": "Local disk is full\nThe object cannot be created because the local object store is full and the local disk's utilization is over capacity (95% by default).Tip: Use `df` on this node to check disk usage and `ray memory` to check object store memory usage.",
     "output_type": "error",
     "traceback": [
      "\u001B[0;31m---------------------------------------------------------------------------\u001B[0m",
      "\u001B[0;31mOutOfDiskError\u001B[0m                            Traceback (most recent call last)",
      "Cell \u001B[0;32mIn[18], line 1\u001B[0m\n\u001B[0;32m----> 1\u001B[0m history \u001B[38;5;241m=\u001B[39m \u001B[43mfed_model\u001B[49m\u001B[38;5;241;43m.\u001B[39;49m\u001B[43mfit\u001B[49m\u001B[43m(\u001B[49m\n\u001B[1;32m      2\u001B[0m \u001B[43m    \u001B[49m\u001B[43mdata\u001B[49m\u001B[43m,\u001B[49m\n\u001B[1;32m      3\u001B[0m \u001B[43m    \u001B[49m\u001B[38;5;28;43;01mNone\u001B[39;49;00m\u001B[43m,\u001B[49m\n\u001B[1;32m      4\u001B[0m \u001B[43m    \u001B[49m\u001B[43mvalidation_data\u001B[49m\u001B[38;5;241;43m=\u001B[39;49m\u001B[43mdata\u001B[49m\u001B[43m,\u001B[49m\n\u001B[1;32m      5\u001B[0m \u001B[43m    \u001B[49m\u001B[43mepochs\u001B[49m\u001B[38;5;241;43m=\u001B[39;49m\u001B[38;5;241;43m20\u001B[39;49m\u001B[43m,\u001B[49m\n\u001B[1;32m      6\u001B[0m \u001B[43m    \u001B[49m\u001B[43mbatch_size\u001B[49m\u001B[38;5;241;43m=\u001B[39;49m\u001B[38;5;241;43m32\u001B[39;49m\u001B[43m,\u001B[49m\n\u001B[1;32m      7\u001B[0m \u001B[43m    \u001B[49m\u001B[43maggregate_freq\u001B[49m\u001B[38;5;241;43m=\u001B[39;49m\u001B[38;5;241;43m2\u001B[39;49m\u001B[43m,\u001B[49m\n\u001B[1;32m      8\u001B[0m \u001B[43m    \u001B[49m\u001B[43msampler_method\u001B[49m\u001B[38;5;241;43m=\u001B[39;49m\u001B[38;5;124;43m\"\u001B[39;49m\u001B[38;5;124;43mbatch\u001B[39;49m\u001B[38;5;124;43m\"\u001B[39;49m\u001B[43m,\u001B[49m\n\u001B[1;32m      9\u001B[0m \u001B[43m    \u001B[49m\u001B[43mrandom_seed\u001B[49m\u001B[38;5;241;43m=\u001B[39;49m\u001B[38;5;241;43m1234\u001B[39;49m\u001B[43m,\u001B[49m\n\u001B[1;32m     10\u001B[0m \u001B[43m    \u001B[49m\u001B[43mdp_spent_step_freq\u001B[49m\u001B[38;5;241;43m=\u001B[39;49m\u001B[38;5;241;43m1\u001B[39;49m\u001B[43m,\u001B[49m\n\u001B[1;32m     11\u001B[0m \u001B[43m    \u001B[49m\u001B[43mdataset_builder\u001B[49m\u001B[38;5;241;43m=\u001B[39;49m\u001B[43mdata_builder_dict\u001B[49m\u001B[43m,\u001B[49m\n\u001B[1;32m     12\u001B[0m \u001B[43m)\u001B[49m\n",
      "File \u001B[0;32m/opt/conda/envs/default/lib/python3.8/site-packages/secretflow/ml/nn/fl/fl_model.py:503\u001B[0m, in \u001B[0;36mFLModel.fit\u001B[0;34m(self, x, y, batch_size, batch_sampling_rate, epochs, verbose, callbacks, validation_data, shuffle, class_weight, sample_weight, validation_freq, aggregate_freq, label_decoder, max_batch_size, prefetch_buffer_size, sampler_method, random_seed, dp_spent_step_freq, audit_log_dir, dataset_builder, wait_steps)\u001B[0m\n\u001B[1;32m    501\u001B[0m     res\u001B[38;5;241m.\u001B[39mappend(client_params)\n\u001B[1;32m    502\u001B[0m \u001B[38;5;28;01mif\u001B[39;00m \u001B[38;5;28mself\u001B[39m\u001B[38;5;241m.\u001B[39m_aggregator \u001B[38;5;129;01mis\u001B[39;00m \u001B[38;5;129;01mnot\u001B[39;00m \u001B[38;5;28;01mNone\u001B[39;00m:\n\u001B[0;32m--> 503\u001B[0m     model_params \u001B[38;5;241m=\u001B[39m \u001B[38;5;28;43mself\u001B[39;49m\u001B[38;5;241;43m.\u001B[39;49m\u001B[43m_aggregator\u001B[49m\u001B[38;5;241;43m.\u001B[39;49m\u001B[43maverage\u001B[49m\u001B[43m(\u001B[49m\n\u001B[1;32m    504\u001B[0m \u001B[43m        \u001B[49m\u001B[43mclient_param_list\u001B[49m\u001B[43m,\u001B[49m\u001B[43m \u001B[49m\u001B[43maxis\u001B[49m\u001B[38;5;241;43m=\u001B[39;49m\u001B[38;5;241;43m0\u001B[39;49m\u001B[43m,\u001B[49m\u001B[43m \u001B[49m\u001B[43mweights\u001B[49m\u001B[38;5;241;43m=\u001B[39;49m\u001B[43msample_num_list\u001B[49m\n\u001B[1;32m    505\u001B[0m \u001B[43m    \u001B[49m\u001B[43m)\u001B[49m\n\u001B[1;32m    506\u001B[0m \u001B[38;5;28;01melse\u001B[39;00m:\n\u001B[1;32m    507\u001B[0m     \u001B[38;5;28;01mif\u001B[39;00m \u001B[38;5;28mself\u001B[39m\u001B[38;5;241m.\u001B[39mserver \u001B[38;5;129;01mis\u001B[39;00m \u001B[38;5;129;01mnot\u001B[39;00m \u001B[38;5;28;01mNone\u001B[39;00m:\n\u001B[1;32m    508\u001B[0m         \u001B[38;5;66;03m# server will do aggregation\u001B[39;00m\n",
      "File \u001B[0;32m/opt/conda/envs/default/lib/python3.8/site-packages/secretflow/security/aggregation/secure_aggregator.py:294\u001B[0m, in \u001B[0;36mSecureAggregator.average\u001B[0;34m(self, data, axis, weights)\u001B[0m\n\u001B[1;32m    292\u001B[0m masked_data \u001B[38;5;241m=\u001B[39m [d\u001B[38;5;241m.\u001B[39mto(\u001B[38;5;28mself\u001B[39m\u001B[38;5;241m.\u001B[39m_device) \u001B[38;5;28;01mfor\u001B[39;00m d \u001B[38;5;129;01min\u001B[39;00m masked_data]\n\u001B[1;32m    293\u001B[0m dtypes \u001B[38;5;241m=\u001B[39m [dtype\u001B[38;5;241m.\u001B[39mto(\u001B[38;5;28mself\u001B[39m\u001B[38;5;241m.\u001B[39m_device) \u001B[38;5;28;01mfor\u001B[39;00m dtype \u001B[38;5;129;01min\u001B[39;00m dtypes]\n\u001B[0;32m--> 294\u001B[0m \u001B[38;5;28;01mreturn\u001B[39;00m \u001B[38;5;28;43mself\u001B[39;49m\u001B[38;5;241;43m.\u001B[39;49m\u001B[43m_device\u001B[49m\u001B[43m(\u001B[49m\u001B[43m_average\u001B[49m\u001B[43m)\u001B[49m\u001B[43m(\u001B[49m\n\u001B[1;32m    295\u001B[0m \u001B[43m    \u001B[49m\u001B[38;5;241;43m*\u001B[39;49m\u001B[43mmasked_data\u001B[49m\u001B[43m,\u001B[49m\u001B[43m \u001B[49m\u001B[43mdtypes\u001B[49m\u001B[38;5;241;43m=\u001B[39;49m\u001B[43mdtypes\u001B[49m\u001B[43m,\u001B[49m\u001B[43m \u001B[49m\u001B[43mweights\u001B[49m\u001B[38;5;241;43m=\u001B[39;49m\u001B[43m_weights\u001B[49m\u001B[43m,\u001B[49m\u001B[43m \u001B[49m\u001B[43mfxp_bits\u001B[49m\u001B[38;5;241;43m=\u001B[39;49m\u001B[38;5;28;43mself\u001B[39;49m\u001B[38;5;241;43m.\u001B[39;49m\u001B[43m_fxp_bits\u001B[49m\n\u001B[1;32m    296\u001B[0m \u001B[43m\u001B[49m\u001B[43m)\u001B[49m\n",
      "File \u001B[0;32m/opt/conda/envs/default/lib/python3.8/site-packages/secretflow/device/device/pyu.py:100\u001B[0m, in \u001B[0;36mPYU.__call__.<locals>.wrapper\u001B[0;34m(*args, **kwargs)\u001B[0m\n\u001B[1;32m     94\u001B[0m args_, kwargs_ \u001B[38;5;241m=\u001B[39m jax\u001B[38;5;241m.\u001B[39mtree_util\u001B[38;5;241m.\u001B[39mtree_map(\n\u001B[1;32m     95\u001B[0m     \u001B[38;5;28;01mlambda\u001B[39;00m arg: try_get_data(arg, \u001B[38;5;28mself\u001B[39m), (args, kwargs)\n\u001B[1;32m     96\u001B[0m )\n\u001B[1;32m     98\u001B[0m _num_returns \u001B[38;5;241m=\u001B[39m check_num_returns(fn) \u001B[38;5;28;01mif\u001B[39;00m num_returns \u001B[38;5;129;01mis\u001B[39;00m \u001B[38;5;28;01mNone\u001B[39;00m \u001B[38;5;28;01melse\u001B[39;00m num_returns\n\u001B[1;32m     99\u001B[0m data \u001B[38;5;241m=\u001B[39m (\n\u001B[0;32m--> 100\u001B[0m     \u001B[43msfd\u001B[49m\u001B[38;5;241;43m.\u001B[39;49m\u001B[43mremote\u001B[49m\u001B[43m(\u001B[49m\u001B[38;5;28;43mself\u001B[39;49m\u001B[38;5;241;43m.\u001B[39;49m\u001B[43m_run\u001B[49m\u001B[43m)\u001B[49m\n\u001B[1;32m    101\u001B[0m \u001B[43m    \u001B[49m\u001B[38;5;241;43m.\u001B[39;49m\u001B[43mparty\u001B[49m\u001B[43m(\u001B[49m\u001B[38;5;28;43mself\u001B[39;49m\u001B[38;5;241;43m.\u001B[39;49m\u001B[43mparty\u001B[49m\u001B[43m)\u001B[49m\n\u001B[1;32m    102\u001B[0m \u001B[43m    \u001B[49m\u001B[38;5;241;43m.\u001B[39;49m\u001B[43moptions\u001B[49m\u001B[43m(\u001B[49m\u001B[43mnum_returns\u001B[49m\u001B[38;5;241;43m=\u001B[39;49m\u001B[43m_num_returns\u001B[49m\u001B[43m)\u001B[49m\n\u001B[1;32m    103\u001B[0m \u001B[43m    \u001B[49m\u001B[38;5;241;43m.\u001B[39;49m\u001B[43mremote\u001B[49m\u001B[43m(\u001B[49m\u001B[43mfn\u001B[49m\u001B[43m,\u001B[49m\u001B[43m \u001B[49m\u001B[38;5;241;43m*\u001B[39;49m\u001B[43margs_\u001B[49m\u001B[43m,\u001B[49m\u001B[43m \u001B[49m\u001B[38;5;241;43m*\u001B[39;49m\u001B[38;5;241;43m*\u001B[39;49m\u001B[43mkwargs_\u001B[49m\u001B[43m)\u001B[49m\n\u001B[1;32m    104\u001B[0m )\n\u001B[1;32m    105\u001B[0m logging\u001B[38;5;241m.\u001B[39mdebug(\n\u001B[1;32m    106\u001B[0m     (\n\u001B[1;32m    107\u001B[0m         \u001B[38;5;124mf\u001B[39m\u001B[38;5;124m'\u001B[39m\u001B[38;5;124mPYU remote function: \u001B[39m\u001B[38;5;132;01m{\u001B[39;00mfn\u001B[38;5;132;01m}\u001B[39;00m\u001B[38;5;124m, num_returns=\u001B[39m\u001B[38;5;132;01m{\u001B[39;00mnum_returns\u001B[38;5;132;01m}\u001B[39;00m\u001B[38;5;124m, \u001B[39m\u001B[38;5;124m'\u001B[39m\n\u001B[1;32m    108\u001B[0m         \u001B[38;5;124mf\u001B[39m\u001B[38;5;124m'\u001B[39m\u001B[38;5;124margs len: \u001B[39m\u001B[38;5;132;01m{\u001B[39;00m\u001B[38;5;28mlen\u001B[39m(args)\u001B[38;5;132;01m}\u001B[39;00m\u001B[38;5;124m, kwargs len: \u001B[39m\u001B[38;5;132;01m{\u001B[39;00m\u001B[38;5;28mlen\u001B[39m(kwargs)\u001B[38;5;132;01m}\u001B[39;00m\u001B[38;5;124m.\u001B[39m\u001B[38;5;124m'\u001B[39m\n\u001B[1;32m    109\u001B[0m     )\n\u001B[1;32m    110\u001B[0m )\n\u001B[1;32m    111\u001B[0m \u001B[38;5;28;01mif\u001B[39;00m _num_returns \u001B[38;5;241m==\u001B[39m \u001B[38;5;241m1\u001B[39m:\n",
      "File \u001B[0;32m/opt/conda/envs/default/lib/python3.8/site-packages/ray/remote_function.py:226\u001B[0m, in \u001B[0;36mRemoteFunction.options.<locals>.FuncWrapper.remote\u001B[0;34m(self, *args, **kwargs)\u001B[0m\n\u001B[1;32m    225\u001B[0m \u001B[38;5;28;01mdef\u001B[39;00m \u001B[38;5;21mremote\u001B[39m(\u001B[38;5;28mself\u001B[39m, \u001B[38;5;241m*\u001B[39margs, \u001B[38;5;241m*\u001B[39m\u001B[38;5;241m*\u001B[39mkwargs):\n\u001B[0;32m--> 226\u001B[0m     \u001B[38;5;28;01mreturn\u001B[39;00m \u001B[43mfunc_cls\u001B[49m\u001B[38;5;241;43m.\u001B[39;49m\u001B[43m_remote\u001B[49m\u001B[43m(\u001B[49m\u001B[43margs\u001B[49m\u001B[38;5;241;43m=\u001B[39;49m\u001B[43margs\u001B[49m\u001B[43m,\u001B[49m\u001B[43m \u001B[49m\u001B[43mkwargs\u001B[49m\u001B[38;5;241;43m=\u001B[39;49m\u001B[43mkwargs\u001B[49m\u001B[43m,\u001B[49m\u001B[43m \u001B[49m\u001B[38;5;241;43m*\u001B[39;49m\u001B[38;5;241;43m*\u001B[39;49m\u001B[43mupdated_options\u001B[49m\u001B[43m)\u001B[49m\n",
      "File \u001B[0;32m/opt/conda/envs/default/lib/python3.8/site-packages/secretflow/distributed/primitive.py:213\u001B[0m, in \u001B[0;36mRemoteFunctionWrapper._remote\u001B[0;34m(self, *args, **kwargs)\u001B[0m\n\u001B[1;32m    211\u001B[0m \u001B[38;5;28;01mdef\u001B[39;00m \u001B[38;5;21m_remote\u001B[39m(\u001B[38;5;28mself\u001B[39m, \u001B[38;5;241m*\u001B[39margs, \u001B[38;5;241m*\u001B[39m\u001B[38;5;241m*\u001B[39mkwargs):\n\u001B[1;32m    212\u001B[0m     args, kwargs \u001B[38;5;241m=\u001B[39m _resolve_args(\u001B[38;5;241m*\u001B[39margs, \u001B[38;5;241m*\u001B[39m\u001B[38;5;241m*\u001B[39mkwargs)\n\u001B[0;32m--> 213\u001B[0m     \u001B[38;5;28;01mreturn\u001B[39;00m \u001B[38;5;28;43msuper\u001B[39;49m\u001B[43m(\u001B[49m\u001B[43m)\u001B[49m\u001B[38;5;241;43m.\u001B[39;49m\u001B[43m_remote\u001B[49m\u001B[43m(\u001B[49m\u001B[38;5;241;43m*\u001B[39;49m\u001B[43margs\u001B[49m\u001B[43m,\u001B[49m\u001B[43m \u001B[49m\u001B[38;5;241;43m*\u001B[39;49m\u001B[38;5;241;43m*\u001B[39;49m\u001B[43mkwargs\u001B[49m\u001B[43m)\u001B[49m\n",
      "File \u001B[0;32m/opt/conda/envs/default/lib/python3.8/site-packages/ray/util/tracing/tracing_helper.py:307\u001B[0m, in \u001B[0;36m_tracing_task_invocation.<locals>._invocation_remote_span\u001B[0;34m(self, args, kwargs, *_args, **_kwargs)\u001B[0m\n\u001B[1;32m    305\u001B[0m     \u001B[38;5;28;01mif\u001B[39;00m kwargs \u001B[38;5;129;01mis\u001B[39;00m \u001B[38;5;129;01mnot\u001B[39;00m \u001B[38;5;28;01mNone\u001B[39;00m:\n\u001B[1;32m    306\u001B[0m         \u001B[38;5;28;01massert\u001B[39;00m \u001B[38;5;124m\"\u001B[39m\u001B[38;5;124m_ray_trace_ctx\u001B[39m\u001B[38;5;124m\"\u001B[39m \u001B[38;5;129;01mnot\u001B[39;00m \u001B[38;5;129;01min\u001B[39;00m kwargs\n\u001B[0;32m--> 307\u001B[0m     \u001B[38;5;28;01mreturn\u001B[39;00m \u001B[43mmethod\u001B[49m\u001B[43m(\u001B[49m\u001B[38;5;28;43mself\u001B[39;49m\u001B[43m,\u001B[49m\u001B[43m \u001B[49m\u001B[43margs\u001B[49m\u001B[43m,\u001B[49m\u001B[43m \u001B[49m\u001B[43mkwargs\u001B[49m\u001B[43m,\u001B[49m\u001B[43m \u001B[49m\u001B[38;5;241;43m*\u001B[39;49m\u001B[43m_args\u001B[49m\u001B[43m,\u001B[49m\u001B[43m \u001B[49m\u001B[38;5;241;43m*\u001B[39;49m\u001B[38;5;241;43m*\u001B[39;49m\u001B[43m_kwargs\u001B[49m\u001B[43m)\u001B[49m\n\u001B[1;32m    309\u001B[0m \u001B[38;5;28;01massert\u001B[39;00m \u001B[38;5;124m\"\u001B[39m\u001B[38;5;124m_ray_trace_ctx\u001B[39m\u001B[38;5;124m\"\u001B[39m \u001B[38;5;129;01mnot\u001B[39;00m \u001B[38;5;129;01min\u001B[39;00m kwargs\n\u001B[1;32m    311\u001B[0m tracer \u001B[38;5;241m=\u001B[39m _opentelemetry\u001B[38;5;241m.\u001B[39mtrace\u001B[38;5;241m.\u001B[39mget_tracer(\u001B[38;5;18m__name__\u001B[39m)\n",
      "File \u001B[0;32m/opt/conda/envs/default/lib/python3.8/site-packages/ray/remote_function.py:412\u001B[0m, in \u001B[0;36mRemoteFunction._remote\u001B[0;34m(self, args, kwargs, **task_options)\u001B[0m\n\u001B[1;32m    409\u001B[0m \u001B[38;5;28;01mif\u001B[39;00m \u001B[38;5;28mself\u001B[39m\u001B[38;5;241m.\u001B[39m_decorator \u001B[38;5;129;01mis\u001B[39;00m \u001B[38;5;129;01mnot\u001B[39;00m \u001B[38;5;28;01mNone\u001B[39;00m:\n\u001B[1;32m    410\u001B[0m     invocation \u001B[38;5;241m=\u001B[39m \u001B[38;5;28mself\u001B[39m\u001B[38;5;241m.\u001B[39m_decorator(invocation)\n\u001B[0;32m--> 412\u001B[0m \u001B[38;5;28;01mreturn\u001B[39;00m \u001B[43minvocation\u001B[49m\u001B[43m(\u001B[49m\u001B[43margs\u001B[49m\u001B[43m,\u001B[49m\u001B[43m \u001B[49m\u001B[43mkwargs\u001B[49m\u001B[43m)\u001B[49m\n",
      "File \u001B[0;32m/opt/conda/envs/default/lib/python3.8/site-packages/ray/remote_function.py:387\u001B[0m, in \u001B[0;36mRemoteFunction._remote.<locals>.invocation\u001B[0;34m(args, kwargs)\u001B[0m\n\u001B[1;32m    383\u001B[0m \u001B[38;5;28;01mif\u001B[39;00m worker\u001B[38;5;241m.\u001B[39mmode \u001B[38;5;241m==\u001B[39m ray\u001B[38;5;241m.\u001B[39m_private\u001B[38;5;241m.\u001B[39mworker\u001B[38;5;241m.\u001B[39mLOCAL_MODE:\n\u001B[1;32m    384\u001B[0m     \u001B[38;5;28;01massert\u001B[39;00m (\n\u001B[1;32m    385\u001B[0m         \u001B[38;5;129;01mnot\u001B[39;00m \u001B[38;5;28mself\u001B[39m\u001B[38;5;241m.\u001B[39m_is_cross_language\n\u001B[1;32m    386\u001B[0m     ), \u001B[38;5;124m\"\u001B[39m\u001B[38;5;124mCross language remote function cannot be executed locally.\u001B[39m\u001B[38;5;124m\"\u001B[39m\n\u001B[0;32m--> 387\u001B[0m object_refs \u001B[38;5;241m=\u001B[39m \u001B[43mworker\u001B[49m\u001B[38;5;241;43m.\u001B[39;49m\u001B[43mcore_worker\u001B[49m\u001B[38;5;241;43m.\u001B[39;49m\u001B[43msubmit_task\u001B[49m\u001B[43m(\u001B[49m\n\u001B[1;32m    388\u001B[0m \u001B[43m    \u001B[49m\u001B[38;5;28;43mself\u001B[39;49m\u001B[38;5;241;43m.\u001B[39;49m\u001B[43m_language\u001B[49m\u001B[43m,\u001B[49m\n\u001B[1;32m    389\u001B[0m \u001B[43m    \u001B[49m\u001B[38;5;28;43mself\u001B[39;49m\u001B[38;5;241;43m.\u001B[39;49m\u001B[43m_function_descriptor\u001B[49m\u001B[43m,\u001B[49m\n\u001B[1;32m    390\u001B[0m \u001B[43m    \u001B[49m\u001B[43mlist_args\u001B[49m\u001B[43m,\u001B[49m\n\u001B[1;32m    391\u001B[0m \u001B[43m    \u001B[49m\u001B[43mname\u001B[49m\u001B[43m \u001B[49m\u001B[38;5;28;43;01mif\u001B[39;49;00m\u001B[43m \u001B[49m\u001B[43mname\u001B[49m\u001B[43m \u001B[49m\u001B[38;5;129;43;01mis\u001B[39;49;00m\u001B[43m \u001B[49m\u001B[38;5;129;43;01mnot\u001B[39;49;00m\u001B[43m \u001B[49m\u001B[38;5;28;43;01mNone\u001B[39;49;00m\u001B[43m \u001B[49m\u001B[38;5;28;43;01melse\u001B[39;49;00m\u001B[43m \u001B[49m\u001B[38;5;124;43m\"\u001B[39;49m\u001B[38;5;124;43m\"\u001B[39;49m\u001B[43m,\u001B[49m\n\u001B[1;32m    392\u001B[0m \u001B[43m    \u001B[49m\u001B[43mnum_returns\u001B[49m\u001B[43m,\u001B[49m\n\u001B[1;32m    393\u001B[0m \u001B[43m    \u001B[49m\u001B[43mresources\u001B[49m\u001B[43m,\u001B[49m\n\u001B[1;32m    394\u001B[0m \u001B[43m    \u001B[49m\u001B[43mmax_retries\u001B[49m\u001B[43m,\u001B[49m\n\u001B[1;32m    395\u001B[0m \u001B[43m    \u001B[49m\u001B[43mretry_exceptions\u001B[49m\u001B[43m,\u001B[49m\n\u001B[1;32m    396\u001B[0m \u001B[43m    \u001B[49m\u001B[43mretry_exception_allowlist\u001B[49m\u001B[43m,\u001B[49m\n\u001B[1;32m    397\u001B[0m \u001B[43m    \u001B[49m\u001B[43mscheduling_strategy\u001B[49m\u001B[43m,\u001B[49m\n\u001B[1;32m    398\u001B[0m \u001B[43m    \u001B[49m\u001B[43mworker\u001B[49m\u001B[38;5;241;43m.\u001B[39;49m\u001B[43mdebugger_breakpoint\u001B[49m\u001B[43m,\u001B[49m\n\u001B[1;32m    399\u001B[0m \u001B[43m    \u001B[49m\u001B[43mserialized_runtime_env_info\u001B[49m\u001B[43m \u001B[49m\u001B[38;5;129;43;01mor\u001B[39;49;00m\u001B[43m \u001B[49m\u001B[38;5;124;43m\"\u001B[39;49m\u001B[38;5;132;43;01m{}\u001B[39;49;00m\u001B[38;5;124;43m\"\u001B[39;49m\u001B[43m,\u001B[49m\n\u001B[1;32m    400\u001B[0m \u001B[43m\u001B[49m\u001B[43m)\u001B[49m\n\u001B[1;32m    401\u001B[0m \u001B[38;5;66;03m# Reset worker's debug context from the last \"remote\" command\u001B[39;00m\n\u001B[1;32m    402\u001B[0m \u001B[38;5;66;03m# (which applies only to this .remote call).\u001B[39;00m\n\u001B[1;32m    403\u001B[0m worker\u001B[38;5;241m.\u001B[39mdebugger_breakpoint \u001B[38;5;241m=\u001B[39m \u001B[38;5;124mb\u001B[39m\u001B[38;5;124m\"\u001B[39m\u001B[38;5;124m\"\u001B[39m\n",
      "File \u001B[0;32mpython/ray/_raylet.pyx:1896\u001B[0m, in \u001B[0;36mray._raylet.CoreWorker.submit_task\u001B[0;34m()\u001B[0m\n",
      "File \u001B[0;32mpython/ray/_raylet.pyx:1900\u001B[0m, in \u001B[0;36mray._raylet.CoreWorker.submit_task\u001B[0;34m()\u001B[0m\n",
      "File \u001B[0;32mpython/ray/_raylet.pyx:407\u001B[0m, in \u001B[0;36mray._raylet.prepare_args_and_increment_put_refs\u001B[0;34m()\u001B[0m\n",
      "File \u001B[0;32mpython/ray/_raylet.pyx:398\u001B[0m, in \u001B[0;36mray._raylet.prepare_args_and_increment_put_refs\u001B[0;34m()\u001B[0m\n",
      "File \u001B[0;32mpython/ray/_raylet.pyx:487\u001B[0m, in \u001B[0;36mray._raylet.prepare_args_internal\u001B[0;34m()\u001B[0m\n",
      "File \u001B[0;32mpython/ray/_raylet.pyx:1708\u001B[0m, in \u001B[0;36mray._raylet.CoreWorker.put_serialized_object_and_increment_local_ref\u001B[0;34m()\u001B[0m\n",
      "File \u001B[0;32mpython/ray/_raylet.pyx:1597\u001B[0m, in \u001B[0;36mray._raylet.CoreWorker._create_put_buffer\u001B[0;34m()\u001B[0m\n",
      "File \u001B[0;32mpython/ray/_raylet.pyx:193\u001B[0m, in \u001B[0;36mray._raylet.check_status\u001B[0;34m()\u001B[0m\n",
      "\u001B[0;31mOutOfDiskError\u001B[0m: Local disk is full\nThe object cannot be created because the local object store is full and the local disk's utilization is over capacity (95% by default).Tip: Use `df` on this node to check disk usage and `ray memory` to check object store memory usage."
     ]
    }
   ],
   "source": [
    "history = fed_model.fit(\n",
    "    data,\n",
    "    None,\n",
    "    validation_data=data,\n",
    "    epochs=20,\n",
    "    batch_size=32,\n",
    "    aggregate_freq=2,\n",
    "    sampler_method=\"batch\",\n",
    "    random_seed=1234,\n",
    "    dp_spent_step_freq=1,\n",
    "    dataset_builder=data_builder_dict,\n",
    ")"
   ]
  },
  {
   "cell_type": "markdown",
   "metadata": {
    "pycharm": {
     "name": "#%% md\n"
    }
   },
   "source": [
    "### 训练结果可视化"
   ]
  },
  {
   "cell_type": "code",
   "execution_count": 19,
   "metadata": {
    "pycharm": {
     "name": "#%%\n"
    }
   },
   "outputs": [
    {
     "ename": "NameError",
     "evalue": "name 'history' is not defined",
     "output_type": "error",
     "traceback": [
      "\u001B[0;31m---------------------------------------------------------------------------\u001B[0m",
      "\u001B[0;31mNameError\u001B[0m                                 Traceback (most recent call last)",
      "Cell \u001B[0;32mIn[19], line 4\u001B[0m\n\u001B[1;32m      1\u001B[0m \u001B[38;5;28;01mfrom\u001B[39;00m \u001B[38;5;21;01mmatplotlib\u001B[39;00m \u001B[38;5;28;01mimport\u001B[39;00m pyplot \u001B[38;5;28;01mas\u001B[39;00m plt\n\u001B[1;32m      3\u001B[0m \u001B[38;5;66;03m# Draw accuracy values for training & validation\u001B[39;00m\n\u001B[0;32m----> 4\u001B[0m plt\u001B[38;5;241m.\u001B[39mplot(\u001B[43mhistory\u001B[49m\u001B[38;5;241m.\u001B[39mglobal_history[\u001B[38;5;124m'\u001B[39m\u001B[38;5;124mmulticlassaccuracy\u001B[39m\u001B[38;5;124m'\u001B[39m])\n\u001B[1;32m      5\u001B[0m plt\u001B[38;5;241m.\u001B[39mplot(history\u001B[38;5;241m.\u001B[39mglobal_history[\u001B[38;5;124m'\u001B[39m\u001B[38;5;124mval_multiclassaccuracy\u001B[39m\u001B[38;5;124m'\u001B[39m])\n\u001B[1;32m      6\u001B[0m plt\u001B[38;5;241m.\u001B[39mtitle(\u001B[38;5;124m'\u001B[39m\u001B[38;5;124mFLModel accuracy\u001B[39m\u001B[38;5;124m'\u001B[39m)\n",
      "\u001B[0;31mNameError\u001B[0m: name 'history' is not defined"
     ]
    }
   ],
   "source": [
    "from matplotlib import pyplot as plt\n",
    "\n",
    "# Draw accuracy values for training & validation\n",
    "plt.plot(history.global_history['multiclassaccuracy'])\n",
    "plt.plot(history.global_history['val_multiclassaccuracy'])\n",
    "plt.title('FLModel accuracy')\n",
    "plt.ylabel('Accuracy')\n",
    "plt.xlabel('Epoch')\n",
    "plt.legend(['Train', 'Valid'], loc='upper left')\n",
    "plt.show()\n",
    "\n",
    "# Draw precision for training & validation\n",
    "plt.plot(history.global_history['multiclassprecision'])\n",
    "plt.plot(history.global_history['val_multiclassprecision'])\n",
    "plt.title('FLModel multiclassprecision')\n",
    "plt.ylabel('precision')\n",
    "plt.xlabel('Epoch')\n",
    "plt.legend(['Train', 'Valid'], loc='upper left')\n",
    "plt.show()"
   ]
  },
  {
   "cell_type": "markdown",
   "metadata": {
    "pycharm": {
     "name": "#%% md\n"
    }
   },
   "source": [
    "### 基于自编写网络定义 Torch 后端的 FLModel "
   ]
  },
  {
   "cell_type": "code",
   "execution_count": 12,
   "metadata": {
    "pycharm": {
     "name": "#%%\n"
    }
   },
   "outputs": [
    {
     "name": "stderr",
     "output_type": "stream",
     "text": [
      "INFO:root:Create proxy actor <class 'secretflow.ml.nn.fl.backend.torch.strategy.fed_avg_w.PYUFedAvgW'> with party alice.\n",
      "INFO:root:Create proxy actor <class 'secretflow.ml.nn.fl.backend.torch.strategy.fed_avg_w.PYUFedAvgW'> with party bob.\n"
     ]
    }
   ],
   "source": [
    "model_def = TorchModel(\n",
    "    model_fn=handy_AlexNet,\n",
    "    loss_fn=loss_fn,\n",
    "    optim_fn=optim_fn,\n",
    "    metrics=[\n",
    "        metric_wrapper(\n",
    "            Accuracy, task=\"multiclass\", num_classes=num_classes, average='micro'\n",
    "        ),\n",
    "        metric_wrapper(\n",
    "            Precision, task=\"multiclass\", num_classes=num_classes, average='micro'\n",
    "        ),\n",
    "    ],\n",
    ")\n",
    "\n",
    "fed_model = FLModel(\n",
    "    device_list=device_list,\n",
    "    model=model_def,\n",
    "    aggregator=aggregator,\n",
    "    backend=\"torch\",\n",
    "    strategy=\"fed_avg_w\",\n",
    "    random_seed=1234,\n",
    ")"
   ]
  },
  {
   "cell_type": "markdown",
   "metadata": {
    "pycharm": {
     "name": "#%% md\n"
    }
   },
   "source": [
    "### 基于自编写网络模型的 FLModel 开始训练"
   ]
  },
  {
   "cell_type": "code",
   "execution_count": 13,
   "metadata": {
    "pycharm": {
     "name": "#%%\n"
    }
   },
   "outputs": [
    {
     "name": "stderr",
     "output_type": "stream",
     "text": [
      "INFO:root:FL Train Params: {'x': {PYURuntime(alice): '/tmp/tmphh_f8sq7/datasets/flower_photos', PYURuntime(bob): '/tmp/tmphh_f8sq7/datasets/flower_photos'}, 'y': None, 'batch_size': 32, 'batch_sampling_rate': None, 'epochs': 20, 'verbose': 1, 'callbacks': None, 'validation_data': {PYURuntime(alice): '/tmp/tmphh_f8sq7/datasets/flower_photos', PYURuntime(bob): '/tmp/tmphh_f8sq7/datasets/flower_photos'}, 'shuffle': False, 'class_weight': None, 'sample_weight': None, 'validation_freq': 1, 'aggregate_freq': 2, 'label_decoder': None, 'max_batch_size': 20000, 'prefetch_buffer_size': None, 'sampler_method': 'batch', 'random_seed': 1234, 'dp_spent_step_freq': 1, 'audit_log_dir': None, 'dataset_builder': {PYURuntime(alice): <function create_dataset_builder.<locals>.dataset_builder at 0x7f683654edc0>, PYURuntime(bob): <function create_dataset_builder.<locals>.dataset_builder at 0x7f68365845e0>}, 'wait_steps': 100, 'self': <secretflow.ml.nn.fl.fl_model.FLModel object at 0x7f689e53fac0>}\n",
      "100%|██████████| 30/30 [02:29<00:00,  5.61s/it]WARNING:root:Please pay attention to local metrics, global only do naive aggregation \n",
      "WARNING:root:Please pay attention to local metrics, global only do naive aggregation \n",
      "WARNING:root:Please pay attention to local metrics, global only do naive aggregation \n",
      "WARNING:root:Please pay attention to local metrics, global only do naive aggregation \n",
      "WARNING:root:Please pay attention to local metrics, global only do naive aggregation \n",
      "WARNING:root:Please pay attention to local metrics, global only do naive aggregation \n",
      "WARNING:root:Please pay attention to local metrics, global only do naive aggregation \n",
      "WARNING:root:Please pay attention to local metrics, global only do naive aggregation \n",
      "WARNING:root:Please pay attention to local metrics, global only do naive aggregation \n",
      "WARNING:root:Please pay attention to local metrics, global only do naive aggregation \n",
      "WARNING:root:Please pay attention to local metrics, global only do naive aggregation \n",
      "WARNING:root:Please pay attention to local metrics, global only do naive aggregation \n",
      "100%|██████████| 30/30 [02:47<00:00,  5.57s/it, epoch: 1/20 -  multiclassaccuracy:0.2979166805744171  multiclassprecision:0.2979166805744171  val_multiclassaccuracy:0.0  val_multiclassprecision:0.0 ]\n",
      "100%|██████████| 30/30 [02:28<00:00,  5.87s/it]WARNING:root:Please pay attention to local metrics, global only do naive aggregation \n",
      "WARNING:root:Please pay attention to local metrics, global only do naive aggregation \n",
      "WARNING:root:Please pay attention to local metrics, global only do naive aggregation \n",
      "WARNING:root:Please pay attention to local metrics, global only do naive aggregation \n",
      "WARNING:root:Please pay attention to local metrics, global only do naive aggregation \n",
      "WARNING:root:Please pay attention to local metrics, global only do naive aggregation \n",
      "WARNING:root:Please pay attention to local metrics, global only do naive aggregation \n",
      "WARNING:root:Please pay attention to local metrics, global only do naive aggregation \n",
      "WARNING:root:Please pay attention to local metrics, global only do naive aggregation \n",
      "WARNING:root:Please pay attention to local metrics, global only do naive aggregation \n",
      "WARNING:root:Please pay attention to local metrics, global only do naive aggregation \n",
      "WARNING:root:Please pay attention to local metrics, global only do naive aggregation \n",
      "100%|██████████| 30/30 [02:45<00:00,  5.51s/it, epoch: 2/20 -  multiclassaccuracy:0.39375001192092896  multiclassprecision:0.39375001192092896  val_multiclassaccuracy:0.0  val_multiclassprecision:0.0 ]\n",
      "100%|██████████| 30/30 [02:22<00:00,  4.90s/it]WARNING:root:Please pay attention to local metrics, global only do naive aggregation \n",
      "WARNING:root:Please pay attention to local metrics, global only do naive aggregation \n",
      "WARNING:root:Please pay attention to local metrics, global only do naive aggregation \n",
      "WARNING:root:Please pay attention to local metrics, global only do naive aggregation \n",
      "WARNING:root:Please pay attention to local metrics, global only do naive aggregation \n",
      "WARNING:root:Please pay attention to local metrics, global only do naive aggregation \n",
      "WARNING:root:Please pay attention to local metrics, global only do naive aggregation \n",
      "WARNING:root:Please pay attention to local metrics, global only do naive aggregation \n",
      "WARNING:root:Please pay attention to local metrics, global only do naive aggregation \n",
      "WARNING:root:Please pay attention to local metrics, global only do naive aggregation \n",
      "WARNING:root:Please pay attention to local metrics, global only do naive aggregation \n",
      "WARNING:root:Please pay attention to local metrics, global only do naive aggregation \n",
      "100%|██████████| 30/30 [02:38<00:00,  5.28s/it, epoch: 3/20 -  multiclassaccuracy:0.4010416567325592  multiclassprecision:0.4010416567325592  val_multiclassaccuracy:0.0  val_multiclassprecision:0.0 ]\n",
      "100%|██████████| 30/30 [02:18<00:00,  4.91s/it]WARNING:root:Please pay attention to local metrics, global only do naive aggregation \n",
      "WARNING:root:Please pay attention to local metrics, global only do naive aggregation \n",
      "WARNING:root:Please pay attention to local metrics, global only do naive aggregation \n",
      "WARNING:root:Please pay attention to local metrics, global only do naive aggregation \n",
      "WARNING:root:Please pay attention to local metrics, global only do naive aggregation \n",
      "WARNING:root:Please pay attention to local metrics, global only do naive aggregation \n",
      "WARNING:root:Please pay attention to local metrics, global only do naive aggregation \n",
      "WARNING:root:Please pay attention to local metrics, global only do naive aggregation \n",
      "WARNING:root:Please pay attention to local metrics, global only do naive aggregation \n",
      "WARNING:root:Please pay attention to local metrics, global only do naive aggregation \n",
      "WARNING:root:Please pay attention to local metrics, global only do naive aggregation \n",
      "WARNING:root:Please pay attention to local metrics, global only do naive aggregation \n",
      "100%|██████████| 30/30 [02:35<00:00,  5.19s/it, epoch: 4/20 -  multiclassaccuracy:0.47083333134651184  multiclassprecision:0.47083333134651184  val_multiclassaccuracy:0.0  val_multiclassprecision:0.0 ]\n",
      "100%|██████████| 30/30 [02:21<00:00,  5.26s/it]WARNING:root:Please pay attention to local metrics, global only do naive aggregation \n",
      "WARNING:root:Please pay attention to local metrics, global only do naive aggregation \n",
      "WARNING:root:Please pay attention to local metrics, global only do naive aggregation \n",
      "WARNING:root:Please pay attention to local metrics, global only do naive aggregation \n",
      "WARNING:root:Please pay attention to local metrics, global only do naive aggregation \n",
      "WARNING:root:Please pay attention to local metrics, global only do naive aggregation \n",
      "WARNING:root:Please pay attention to local metrics, global only do naive aggregation \n",
      "WARNING:root:Please pay attention to local metrics, global only do naive aggregation \n",
      "WARNING:root:Please pay attention to local metrics, global only do naive aggregation \n",
      "WARNING:root:Please pay attention to local metrics, global only do naive aggregation \n",
      "WARNING:root:Please pay attention to local metrics, global only do naive aggregation \n",
      "WARNING:root:Please pay attention to local metrics, global only do naive aggregation \n",
      "100%|██████████| 30/30 [02:36<00:00,  5.21s/it, epoch: 5/20 -  multiclassaccuracy:0.47083333134651184  multiclassprecision:0.47083333134651184  val_multiclassaccuracy:0.0  val_multiclassprecision:0.0 ]\n",
      "100%|██████████| 30/30 [02:21<00:00,  5.45s/it]WARNING:root:Please pay attention to local metrics, global only do naive aggregation \n",
      "WARNING:root:Please pay attention to local metrics, global only do naive aggregation \n",
      "WARNING:root:Please pay attention to local metrics, global only do naive aggregation \n",
      "WARNING:root:Please pay attention to local metrics, global only do naive aggregation \n",
      "WARNING:root:Please pay attention to local metrics, global only do naive aggregation \n",
      "WARNING:root:Please pay attention to local metrics, global only do naive aggregation \n",
      "WARNING:root:Please pay attention to local metrics, global only do naive aggregation \n",
      "WARNING:root:Please pay attention to local metrics, global only do naive aggregation \n",
      "WARNING:root:Please pay attention to local metrics, global only do naive aggregation \n",
      "WARNING:root:Please pay attention to local metrics, global only do naive aggregation \n",
      "WARNING:root:Please pay attention to local metrics, global only do naive aggregation \n",
      "WARNING:root:Please pay attention to local metrics, global only do naive aggregation \n",
      "100%|██████████| 30/30 [02:39<00:00,  5.30s/it, epoch: 6/20 -  multiclassaccuracy:0.45520833134651184  multiclassprecision:0.45520833134651184  val_multiclassaccuracy:0.0  val_multiclassprecision:0.0 ]\n",
      "100%|██████████| 30/30 [02:38<00:00,  6.13s/it]WARNING:root:Please pay attention to local metrics, global only do naive aggregation \n",
      "WARNING:root:Please pay attention to local metrics, global only do naive aggregation \n",
      "WARNING:root:Please pay attention to local metrics, global only do naive aggregation \n",
      "WARNING:root:Please pay attention to local metrics, global only do naive aggregation \n",
      "WARNING:root:Please pay attention to local metrics, global only do naive aggregation \n",
      "WARNING:root:Please pay attention to local metrics, global only do naive aggregation \n",
      "WARNING:root:Please pay attention to local metrics, global only do naive aggregation \n",
      "WARNING:root:Please pay attention to local metrics, global only do naive aggregation \n",
      "WARNING:root:Please pay attention to local metrics, global only do naive aggregation \n",
      "WARNING:root:Please pay attention to local metrics, global only do naive aggregation \n",
      "WARNING:root:Please pay attention to local metrics, global only do naive aggregation \n",
      "WARNING:root:Please pay attention to local metrics, global only do naive aggregation \n",
      "100%|██████████| 30/30 [02:58<00:00,  5.95s/it, epoch: 7/20 -  multiclassaccuracy:0.5197916626930237  multiclassprecision:0.5197916626930237  val_multiclassaccuracy:0.0  val_multiclassprecision:0.0 ]\n",
      "100%|██████████| 30/30 [02:35<00:00,  5.92s/it]WARNING:root:Please pay attention to local metrics, global only do naive aggregation \n",
      "WARNING:root:Please pay attention to local metrics, global only do naive aggregation \n",
      "WARNING:root:Please pay attention to local metrics, global only do naive aggregation \n",
      "WARNING:root:Please pay attention to local metrics, global only do naive aggregation \n",
      "WARNING:root:Please pay attention to local metrics, global only do naive aggregation \n",
      "WARNING:root:Please pay attention to local metrics, global only do naive aggregation \n",
      "WARNING:root:Please pay attention to local metrics, global only do naive aggregation \n",
      "WARNING:root:Please pay attention to local metrics, global only do naive aggregation \n",
      "WARNING:root:Please pay attention to local metrics, global only do naive aggregation \n",
      "WARNING:root:Please pay attention to local metrics, global only do naive aggregation \n",
      "WARNING:root:Please pay attention to local metrics, global only do naive aggregation \n",
      "WARNING:root:Please pay attention to local metrics, global only do naive aggregation \n",
      "100%|██████████| 30/30 [02:51<00:00,  5.70s/it, epoch: 8/20 -  multiclassaccuracy:0.5385416746139526  multiclassprecision:0.5385416746139526  val_multiclassaccuracy:0.0  val_multiclassprecision:0.0 ]\n",
      "100%|██████████| 30/30 [02:29<00:00,  5.36s/it]WARNING:root:Please pay attention to local metrics, global only do naive aggregation \n",
      "WARNING:root:Please pay attention to local metrics, global only do naive aggregation \n",
      "WARNING:root:Please pay attention to local metrics, global only do naive aggregation \n",
      "WARNING:root:Please pay attention to local metrics, global only do naive aggregation \n",
      "WARNING:root:Please pay attention to local metrics, global only do naive aggregation \n",
      "WARNING:root:Please pay attention to local metrics, global only do naive aggregation \n",
      "WARNING:root:Please pay attention to local metrics, global only do naive aggregation \n",
      "WARNING:root:Please pay attention to local metrics, global only do naive aggregation \n",
      "WARNING:root:Please pay attention to local metrics, global only do naive aggregation \n",
      "WARNING:root:Please pay attention to local metrics, global only do naive aggregation \n",
      "WARNING:root:Please pay attention to local metrics, global only do naive aggregation \n",
      "WARNING:root:Please pay attention to local metrics, global only do naive aggregation \n",
      "100%|██████████| 30/30 [02:47<00:00,  5.57s/it, epoch: 9/20 -  multiclassaccuracy:0.5333333611488342  multiclassprecision:0.5333333611488342  val_multiclassaccuracy:0.0  val_multiclassprecision:0.0 ]\n",
      "100%|██████████| 30/30 [02:27<00:00,  6.01s/it]WARNING:root:Please pay attention to local metrics, global only do naive aggregation \n",
      "WARNING:root:Please pay attention to local metrics, global only do naive aggregation \n",
      "WARNING:root:Please pay attention to local metrics, global only do naive aggregation \n",
      "WARNING:root:Please pay attention to local metrics, global only do naive aggregation \n",
      "WARNING:root:Please pay attention to local metrics, global only do naive aggregation \n",
      "WARNING:root:Please pay attention to local metrics, global only do naive aggregation \n",
      "WARNING:root:Please pay attention to local metrics, global only do naive aggregation \n",
      "WARNING:root:Please pay attention to local metrics, global only do naive aggregation \n",
      "WARNING:root:Please pay attention to local metrics, global only do naive aggregation \n",
      "WARNING:root:Please pay attention to local metrics, global only do naive aggregation \n",
      "WARNING:root:Please pay attention to local metrics, global only do naive aggregation \n",
      "WARNING:root:Please pay attention to local metrics, global only do naive aggregation \n",
      "100%|██████████| 30/30 [02:44<00:00,  5.47s/it, epoch: 10/20 -  multiclassaccuracy:0.5677083134651184  multiclassprecision:0.5677083134651184  val_multiclassaccuracy:0.0  val_multiclassprecision:0.0 ]\n",
      "100%|██████████| 30/30 [02:35<00:00,  5.79s/it]WARNING:root:Please pay attention to local metrics, global only do naive aggregation \n",
      "WARNING:root:Please pay attention to local metrics, global only do naive aggregation \n",
      "WARNING:root:Please pay attention to local metrics, global only do naive aggregation \n",
      "WARNING:root:Please pay attention to local metrics, global only do naive aggregation \n",
      "WARNING:root:Please pay attention to local metrics, global only do naive aggregation \n",
      "WARNING:root:Please pay attention to local metrics, global only do naive aggregation \n",
      "WARNING:root:Please pay attention to local metrics, global only do naive aggregation \n",
      "WARNING:root:Please pay attention to local metrics, global only do naive aggregation \n",
      "WARNING:root:Please pay attention to local metrics, global only do naive aggregation \n",
      "WARNING:root:Please pay attention to local metrics, global only do naive aggregation \n",
      "WARNING:root:Please pay attention to local metrics, global only do naive aggregation \n",
      "WARNING:root:Please pay attention to local metrics, global only do naive aggregation \n",
      "100%|██████████| 30/30 [02:54<00:00,  5.83s/it, epoch: 11/20 -  multiclassaccuracy:0.5895833373069763  multiclassprecision:0.5895833373069763  val_multiclassaccuracy:0.01244813296943903  val_multiclassprecision:0.01244813296943903 ]\n",
      "100%|██████████| 30/30 [02:36<00:00,  5.92s/it]WARNING:root:Please pay attention to local metrics, global only do naive aggregation \n",
      "WARNING:root:Please pay attention to local metrics, global only do naive aggregation \n",
      "WARNING:root:Please pay attention to local metrics, global only do naive aggregation \n",
      "WARNING:root:Please pay attention to local metrics, global only do naive aggregation \n",
      "WARNING:root:Please pay attention to local metrics, global only do naive aggregation \n",
      "WARNING:root:Please pay attention to local metrics, global only do naive aggregation \n",
      "WARNING:root:Please pay attention to local metrics, global only do naive aggregation \n",
      "WARNING:root:Please pay attention to local metrics, global only do naive aggregation \n",
      "WARNING:root:Please pay attention to local metrics, global only do naive aggregation \n",
      "WARNING:root:Please pay attention to local metrics, global only do naive aggregation \n",
      "WARNING:root:Please pay attention to local metrics, global only do naive aggregation \n",
      "WARNING:root:Please pay attention to local metrics, global only do naive aggregation \n",
      "100%|██████████| 30/30 [02:56<00:00,  5.87s/it, epoch: 12/20 -  multiclassaccuracy:0.6156250238418579  multiclassprecision:0.6156250238418579  val_multiclassaccuracy:0.0  val_multiclassprecision:0.0 ]\n",
      "100%|██████████| 30/30 [02:28<00:00,  5.86s/it]WARNING:root:Please pay attention to local metrics, global only do naive aggregation \n",
      "WARNING:root:Please pay attention to local metrics, global only do naive aggregation \n",
      "WARNING:root:Please pay attention to local metrics, global only do naive aggregation \n",
      "WARNING:root:Please pay attention to local metrics, global only do naive aggregation \n",
      "WARNING:root:Please pay attention to local metrics, global only do naive aggregation \n",
      "WARNING:root:Please pay attention to local metrics, global only do naive aggregation \n",
      "WARNING:root:Please pay attention to local metrics, global only do naive aggregation \n",
      "WARNING:root:Please pay attention to local metrics, global only do naive aggregation \n",
      "WARNING:root:Please pay attention to local metrics, global only do naive aggregation \n",
      "WARNING:root:Please pay attention to local metrics, global only do naive aggregation \n",
      "WARNING:root:Please pay attention to local metrics, global only do naive aggregation \n",
      "WARNING:root:Please pay attention to local metrics, global only do naive aggregation \n",
      "100%|██████████| 30/30 [02:43<00:00,  5.46s/it, epoch: 13/20 -  multiclassaccuracy:0.6260416507720947  multiclassprecision:0.6260416507720947  val_multiclassaccuracy:0.0  val_multiclassprecision:0.0 ]\n",
      "100%|██████████| 30/30 [02:40<00:00,  6.08s/it]WARNING:root:Please pay attention to local metrics, global only do naive aggregation \n",
      "WARNING:root:Please pay attention to local metrics, global only do naive aggregation \n",
      "WARNING:root:Please pay attention to local metrics, global only do naive aggregation \n",
      "WARNING:root:Please pay attention to local metrics, global only do naive aggregation \n",
      "WARNING:root:Please pay attention to local metrics, global only do naive aggregation \n",
      "WARNING:root:Please pay attention to local metrics, global only do naive aggregation \n",
      "WARNING:root:Please pay attention to local metrics, global only do naive aggregation \n",
      "WARNING:root:Please pay attention to local metrics, global only do naive aggregation \n",
      "WARNING:root:Please pay attention to local metrics, global only do naive aggregation \n",
      "WARNING:root:Please pay attention to local metrics, global only do naive aggregation \n",
      "WARNING:root:Please pay attention to local metrics, global only do naive aggregation \n",
      "WARNING:root:Please pay attention to local metrics, global only do naive aggregation \n",
      "100%|██████████| 30/30 [02:58<00:00,  5.96s/it, epoch: 14/20 -  multiclassaccuracy:0.640625  multiclassprecision:0.640625  val_multiclassaccuracy:0.0  val_multiclassprecision:0.0 ]\n",
      "100%|██████████| 30/30 [02:36<00:00,  5.90s/it]WARNING:root:Please pay attention to local metrics, global only do naive aggregation \n",
      "WARNING:root:Please pay attention to local metrics, global only do naive aggregation \n",
      "WARNING:root:Please pay attention to local metrics, global only do naive aggregation \n",
      "WARNING:root:Please pay attention to local metrics, global only do naive aggregation \n",
      "WARNING:root:Please pay attention to local metrics, global only do naive aggregation \n",
      "WARNING:root:Please pay attention to local metrics, global only do naive aggregation \n",
      "WARNING:root:Please pay attention to local metrics, global only do naive aggregation \n",
      "WARNING:root:Please pay attention to local metrics, global only do naive aggregation \n",
      "WARNING:root:Please pay attention to local metrics, global only do naive aggregation \n",
      "WARNING:root:Please pay attention to local metrics, global only do naive aggregation \n",
      "WARNING:root:Please pay attention to local metrics, global only do naive aggregation \n",
      "WARNING:root:Please pay attention to local metrics, global only do naive aggregation \n",
      "100%|██████████| 30/30 [02:54<00:00,  5.81s/it, epoch: 15/20 -  multiclassaccuracy:0.640625  multiclassprecision:0.640625  val_multiclassaccuracy:0.4730290472507477  val_multiclassprecision:0.4730290472507477 ]\n",
      "100%|██████████| 30/30 [02:27<00:00,  5.60s/it]WARNING:root:Please pay attention to local metrics, global only do naive aggregation \n",
      "WARNING:root:Please pay attention to local metrics, global only do naive aggregation \n",
      "WARNING:root:Please pay attention to local metrics, global only do naive aggregation \n",
      "WARNING:root:Please pay attention to local metrics, global only do naive aggregation \n",
      "WARNING:root:Please pay attention to local metrics, global only do naive aggregation \n",
      "WARNING:root:Please pay attention to local metrics, global only do naive aggregation \n",
      "WARNING:root:Please pay attention to local metrics, global only do naive aggregation \n",
      "WARNING:root:Please pay attention to local metrics, global only do naive aggregation \n",
      "WARNING:root:Please pay attention to local metrics, global only do naive aggregation \n",
      "WARNING:root:Please pay attention to local metrics, global only do naive aggregation \n",
      "WARNING:root:Please pay attention to local metrics, global only do naive aggregation \n",
      "WARNING:root:Please pay attention to local metrics, global only do naive aggregation \n",
      "100%|██████████| 30/30 [02:43<00:00,  5.44s/it, epoch: 16/20 -  multiclassaccuracy:0.6395833492279053  multiclassprecision:0.6395833492279053  val_multiclassaccuracy:0.0  val_multiclassprecision:0.0 ]\n",
      "100%|██████████| 30/30 [02:27<00:00,  5.12s/it]WARNING:root:Please pay attention to local metrics, global only do naive aggregation \n",
      "WARNING:root:Please pay attention to local metrics, global only do naive aggregation \n",
      "WARNING:root:Please pay attention to local metrics, global only do naive aggregation \n",
      "WARNING:root:Please pay attention to local metrics, global only do naive aggregation \n",
      "WARNING:root:Please pay attention to local metrics, global only do naive aggregation \n",
      "WARNING:root:Please pay attention to local metrics, global only do naive aggregation \n",
      "WARNING:root:Please pay attention to local metrics, global only do naive aggregation \n",
      "WARNING:root:Please pay attention to local metrics, global only do naive aggregation \n",
      "WARNING:root:Please pay attention to local metrics, global only do naive aggregation \n",
      "WARNING:root:Please pay attention to local metrics, global only do naive aggregation \n",
      "WARNING:root:Please pay attention to local metrics, global only do naive aggregation \n",
      "WARNING:root:Please pay attention to local metrics, global only do naive aggregation \n",
      "100%|██████████| 30/30 [02:42<00:00,  5.42s/it, epoch: 17/20 -  multiclassaccuracy:0.6979166865348816  multiclassprecision:0.6979166865348816  val_multiclassaccuracy:0.0  val_multiclassprecision:0.0 ]\n",
      "100%|██████████| 30/30 [02:35<00:00,  6.70s/it]WARNING:root:Please pay attention to local metrics, global only do naive aggregation \n",
      "WARNING:root:Please pay attention to local metrics, global only do naive aggregation \n",
      "WARNING:root:Please pay attention to local metrics, global only do naive aggregation \n",
      "WARNING:root:Please pay attention to local metrics, global only do naive aggregation \n",
      "WARNING:root:Please pay attention to local metrics, global only do naive aggregation \n",
      "WARNING:root:Please pay attention to local metrics, global only do naive aggregation \n",
      "WARNING:root:Please pay attention to local metrics, global only do naive aggregation \n",
      "WARNING:root:Please pay attention to local metrics, global only do naive aggregation \n",
      "WARNING:root:Please pay attention to local metrics, global only do naive aggregation \n",
      "WARNING:root:Please pay attention to local metrics, global only do naive aggregation \n",
      "WARNING:root:Please pay attention to local metrics, global only do naive aggregation \n",
      "WARNING:root:Please pay attention to local metrics, global only do naive aggregation \n",
      "100%|██████████| 30/30 [02:52<00:00,  5.75s/it, epoch: 18/20 -  multiclassaccuracy:0.7197916507720947  multiclassprecision:0.7197916507720947  val_multiclassaccuracy:0.24066390097141266  val_multiclassprecision:0.24066390097141266 ]\n",
      "100%|██████████| 30/30 [02:25<00:00,  5.47s/it]WARNING:root:Please pay attention to local metrics, global only do naive aggregation \n",
      "WARNING:root:Please pay attention to local metrics, global only do naive aggregation \n",
      "WARNING:root:Please pay attention to local metrics, global only do naive aggregation \n",
      "WARNING:root:Please pay attention to local metrics, global only do naive aggregation \n",
      "WARNING:root:Please pay attention to local metrics, global only do naive aggregation \n",
      "WARNING:root:Please pay attention to local metrics, global only do naive aggregation \n",
      "WARNING:root:Please pay attention to local metrics, global only do naive aggregation \n",
      "WARNING:root:Please pay attention to local metrics, global only do naive aggregation \n",
      "WARNING:root:Please pay attention to local metrics, global only do naive aggregation \n",
      "WARNING:root:Please pay attention to local metrics, global only do naive aggregation \n",
      "WARNING:root:Please pay attention to local metrics, global only do naive aggregation \n",
      "WARNING:root:Please pay attention to local metrics, global only do naive aggregation \n",
      "100%|██████████| 30/30 [02:42<00:00,  5.41s/it, epoch: 19/20 -  multiclassaccuracy:0.734375  multiclassprecision:0.734375  val_multiclassaccuracy:0.0  val_multiclassprecision:0.0 ]\n",
      "100%|██████████| 30/30 [02:40<00:00,  5.66s/it]WARNING:root:Please pay attention to local metrics, global only do naive aggregation \n",
      "WARNING:root:Please pay attention to local metrics, global only do naive aggregation \n",
      "WARNING:root:Please pay attention to local metrics, global only do naive aggregation \n",
      "WARNING:root:Please pay attention to local metrics, global only do naive aggregation \n",
      "WARNING:root:Please pay attention to local metrics, global only do naive aggregation \n",
      "WARNING:root:Please pay attention to local metrics, global only do naive aggregation \n",
      "WARNING:root:Please pay attention to local metrics, global only do naive aggregation \n",
      "WARNING:root:Please pay attention to local metrics, global only do naive aggregation \n",
      "WARNING:root:Please pay attention to local metrics, global only do naive aggregation \n",
      "WARNING:root:Please pay attention to local metrics, global only do naive aggregation \n",
      "WARNING:root:Please pay attention to local metrics, global only do naive aggregation \n",
      "WARNING:root:Please pay attention to local metrics, global only do naive aggregation \n",
      "100%|██████████| 30/30 [02:58<00:00,  5.95s/it, epoch: 20/20 -  multiclassaccuracy:0.6635416746139526  multiclassprecision:0.6635416746139526  val_multiclassaccuracy:0.0  val_multiclassprecision:0.0 ]\n"
     ]
    }
   ],
   "source": [
    "history = fed_model.fit(\n",
    "    data,\n",
    "    None,\n",
    "    validation_data=data,\n",
    "    epochs=20,\n",
    "    batch_size=32,\n",
    "    aggregate_freq=2,\n",
    "    sampler_method=\"batch\",\n",
    "    random_seed=1234,\n",
    "    dp_spent_step_freq=1,\n",
    "    dataset_builder=data_builder_dict,\n",
    ")"
   ]
  },
  {
   "cell_type": "markdown",
   "metadata": {
    "pycharm": {
     "name": "#%% md\n"
    }
   },
   "source": [
    "### 训练结果可视化"
   ]
  },
  {
   "cell_type": "code",
   "execution_count": 14,
   "metadata": {
    "pycharm": {
     "name": "#%%\n"
    }
   },
   "outputs": [
    {
     "data": {
      "image/png": "[encoded data removed]",
      "text/plain": [
       "<Figure size 640x480 with 1 Axes>"
      ]
     },
     "metadata": {},
     "output_type": "display_data"
    },
    {
     "data": {
      "image/png": "[encoded data removed]",
      "text/plain": [
       "<Figure size 640x480 with 1 Axes>"
      ]
     },
     "metadata": {},
     "output_type": "display_data"
    }
   ],
   "source": [
    "# Draw accuracy values for training & validation\n",
    "plt.plot(history.global_history['multiclassaccuracy'])\n",
    "plt.plot(history.global_history['val_multiclassaccuracy'])\n",
    "plt.title('FLModel accuracy')\n",
    "plt.ylabel('Accuracy')\n",
    "plt.xlabel('Epoch')\n",
    "plt.legend(['Train', 'Valid'], loc='upper left')\n",
    "plt.show()\n",
    "\n",
    "# Draw precision for training & validation\n",
    "plt.plot(history.global_history['multiclassprecision'])\n",
    "plt.plot(history.global_history['val_multiclassprecision'])\n",
    "plt.title('FLModel multiclassprecision')\n",
    "plt.ylabel('precision')\n",
    "plt.xlabel('Epoch')\n",
    "plt.legend(['Train', 'Valid'], loc='upper left')\n",
    "plt.show()"
   ]
  },
  {
   "cell_type": "markdown",
   "metadata": {
    "pycharm": {
     "name": "#%% md\n"
    }
   },
   "source": [
    "可以看到，在同样的任务，同样的模型上，我们加载预训练模型，不仅能省时省力，还能获得更好的模型性能。"
   ]
  },
  {
   "cell_type": "markdown",
   "metadata": {
    "pycharm": {
     "name": "#%% md\n"
    }
   },
   "source": [
    "## 小结\n",
    "隐语能够无缝地兼容基于 PyTorch 预训练模型，我们可以不需要自己再重新写出复杂网络的模型结构，这对于大型网络结构可以起到省时省力的效果。并且通过加载预训练模型的权重，可以让我们的模型性能更优秀。\n",
    "\n",
    "本篇教程，我们以 AlexNet 为例介绍了如何在隐语的联邦学习模式下基于直接加载 PyTorch 的[预训练模型](https://pytorch.org/vision/stable/models.html)，通过直接加载预训练模型，我们能够获得：\n",
    "- 不需要再次编写复杂模型的结构代码\n",
    "- 基于预训练模型进行微调和迁移学习\n",
    "- 使用预训练权重模型能够使得联邦模型获得更好的性能"
   ]
  }
 ],
 "metadata": {
  "kernelspec": {
   "name": "default",
   "language": "python",
   "display_name": "default"
  },
  "language_info": {
   "codemirror_mode": {
    "name": "ipython",
    "version": 3
   },
   "file_extension": ".py",
   "mimetype": "text/x-python",
   "name": "python",
   "nbconvert_exporter": "python",
   "pygments_lexer": "ipython3",
   "version": "3.8.17"
  },
  "orig_nbformat": 4
 },
 "nbformat": 4,
 "nbformat_minor": 2
}