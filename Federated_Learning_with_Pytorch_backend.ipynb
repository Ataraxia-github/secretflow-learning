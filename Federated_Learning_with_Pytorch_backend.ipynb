{
 "cells": [
  {
   "attachments": {},
   "cell_type": "markdown",
   "id": "9f6ceddd",
   "metadata": {
    "pycharm": {
     "name": "#%% md\n"
    }
   },
   "source": [
    "# Federated Learning with Pytorch Backend"
   ]
  },
  {
   "attachments": {},
   "cell_type": "markdown",
   "id": "3c2fb4f8",
   "metadata": {
    "pycharm": {
     "name": "#%% md\n"
    }
   },
   "source": [
    ">The following codes are demos only. It's **NOT for production** due to system security concerns, please **DO NOT** use it directly in production."
   ]
  },
  {
   "attachments": {},
   "cell_type": "markdown",
   "id": "13008203",
   "metadata": {
    "pycharm": {
     "name": "#%% md\n"
    }
   },
   "source": [
    "In this tutorial, We will walk you through how to use pytorch backend on SecretFlow for federated learning.  \n",
    "\n",
    "+ We will use the image clasification task as example\n",
    "+ Use pytorch as backend\n",
    "+ We will show how to use multi fl strategy\n",
    "  \n",
    "If you want to learn more about federated learning, datasets, etc., you can move to [Federated Learning for Image Classification](Federate_Learning_for_Image_Classification.ipynb).\n",
    "  \n",
    "**Here we go!**"
   ]
  },
  {
   "cell_type": "code",
   "execution_count": 1,
   "id": "4c69265d",
   "metadata": {
    "pycharm": {
     "name": "#%%\n"
    }
   },
   "outputs": [],
   "source": [
    "%load_ext autoreload\n",
    "%autoreload 2"
   ]
  },
  {
   "cell_type": "code",
   "execution_count": 2,
   "id": "b00d46f2",
   "metadata": {
    "pycharm": {
     "name": "#%%\n"
    }
   },
   "outputs": [
    {
     "name": "stdout",
     "output_type": "stream",
     "text": [
      "The version of SecretFlow: 1.4.0.dev20240105\n"
     ]
    },
    {
     "name": "stderr",
     "output_type": "stream",
     "text": [
      "2024-01-09 13:49:01,807\tINFO worker.py:1538 -- Started a local Ray instance.\n"
     ]
    }
   ],
   "source": [
    "import secretflow as sf\n",
    "\n",
    "# Check the version of your SecretFlow\n",
    "print('The version of SecretFlow: {}'.format(sf.__version__))\n",
    "\n",
    "# In case you have a running secretflow runtime already.\n",
    "sf.shutdown()\n",
    "\n",
    "sf.init(['alice', 'bob', 'charlie'], address='local')\n",
    "alice, bob, charlie = sf.PYU('alice'), sf.PYU('bob'), sf.PYU('charlie')"
   ]
  },
  {
   "attachments": {},
   "cell_type": "markdown",
   "id": "f58fe11d",
   "metadata": {
    "pycharm": {
     "name": "#%% md\n"
    }
   },
   "source": [
    "### Here, let us first introduce some concepts\n",
    "BaseModule: Similar to the `torch.nn.module`.    \n",
    "TorchModel: A wrap class include `loss_fn`,`optim_fn`,`model_def`,`metrics`.  \n",
    "metric_wrapper: Wrap metrics to workers.  \n",
    "optim_wrapper: Wrap optim_fn to workers.  \n",
    "FLModel: Federated model, use `backend` to specify which bachend will be use, use `strategy` to spcify which federated strategy will be use."
   ]
  },
  {
   "cell_type": "code",
   "execution_count": 3,
   "id": "de99cbf8",
   "metadata": {
    "pycharm": {
     "name": "#%%\n"
    }
   },
   "outputs": [
    {
     "name": "stderr",
     "output_type": "stream",
     "text": [
      "2024-01-09 13:49:40.811033: W tensorflow/compiler/xla/stream_executor/platform/default/dso_loader.cc:64] Could not load dynamic library 'libcudart.so.11.0'; dlerror: libcudart.so.11.0: cannot open shared object file: No such file or directory\n",
      "2024-01-09 13:49:42.241506: W tensorflow/compiler/xla/stream_executor/platform/default/dso_loader.cc:64] Could not load dynamic library 'libnvinfer.so.7'; dlerror: libnvinfer.so.7: cannot open shared object file: No such file or directory\n",
      "2024-01-09 13:49:42.241632: W tensorflow/compiler/xla/stream_executor/platform/default/dso_loader.cc:64] Could not load dynamic library 'libnvinfer_plugin.so.7'; dlerror: libnvinfer_plugin.so.7: cannot open shared object file: No such file or directory\n",
      "2024-01-09 13:49:42.241638: W tensorflow/compiler/tf2tensorrt/utils/py_utils.cc:38] TF-TRT Warning: Cannot dlopen some TensorRT libraries. If you would like to use Nvidia GPU with TensorRT, please make sure the missing libraries mentioned above are installed properly.\n"
     ]
    }
   ],
   "source": [
    "from secretflow.ml.nn.utils import BaseModule, TorchModel\n",
    "from secretflow.ml.nn.fl.utils import metric_wrapper, optim_wrapper\n",
    "from secretflow.ml.nn import FLModel\n",
    "from torchmetrics import Accuracy, Precision\n",
    "from secretflow.security.aggregation import SecureAggregator\n",
    "from secretflow.utils.simulation.datasets import load_mnist\n",
    "from torch import nn, optim\n",
    "from torch.nn import functional as F"
   ]
  },
  {
   "attachments": {},
   "cell_type": "markdown",
   "id": "b9c3ea64",
   "metadata": {
    "pycharm": {
     "name": "#%% md\n"
    }
   },
   "source": [
    "When we define the model, we only need to inherit `BaseModule` instead of `nn.Module`, and the others are consistent with pytorch."
   ]
  },
  {
   "cell_type": "code",
   "execution_count": 4,
   "id": "85d2028a",
   "metadata": {
    "pycharm": {
     "name": "#%%\n"
    }
   },
   "outputs": [],
   "source": [
    "class ConvNet(BaseModule):\n",
    "    \"\"\"Small ConvNet for MNIST.\"\"\"\n",
    "\n",
    "    def __init__(self):\n",
    "        super(ConvNet, self).__init__()\n",
    "        self.conv1 = nn.Conv2d(1, 3, kernel_size=3)\n",
    "        self.fc_in_dim = 192\n",
    "        self.fc = nn.Linear(self.fc_in_dim, 10)\n",
    "\n",
    "    def forward(self, x):\n",
    "        x = F.relu(F.max_pool2d(self.conv1(x), 3))\n",
    "        x = x.view(-1, self.fc_in_dim)\n",
    "        x = self.fc(x)\n",
    "        return F.softmax(x, dim=1)"
   ]
  },
  {
   "attachments": {},
   "cell_type": "markdown",
   "id": "e62ce093",
   "metadata": {
    "pycharm": {
     "name": "#%% md\n"
    }
   },
   "source": [
    "We can continue to use the loss function and optimizer defined in pytorch, the only difference is that we need to wrap it with the wrapper provided in secretflow."
   ]
  },
  {
   "cell_type": "code",
   "execution_count": 5,
   "id": "645e3fbc",
   "metadata": {
    "pycharm": {
     "name": "#%%\n"
    }
   },
   "outputs": [],
   "source": [
    "(train_data, train_label), (test_data, test_label) = load_mnist(\n",
    "    parts={alice: 0.4, bob: 0.6},\n",
    "    normalized_x=True,\n",
    "    categorical_y=True,\n",
    "    is_torch=True,\n",
    ")\n",
    "\n",
    "loss_fn = nn.CrossEntropyLoss\n",
    "optim_fn = optim_wrapper(optim.Adam, lr=1e-2)\n",
    "model_def = TorchModel(\n",
    "    model_fn=ConvNet,\n",
    "    loss_fn=loss_fn,\n",
    "    optim_fn=optim_fn,\n",
    "    metrics=[\n",
    "        metric_wrapper(Accuracy, task=\"multiclass\", num_classes=10, average='micro'),\n",
    "        metric_wrapper(Precision, task=\"multiclass\", num_classes=10, average='micro'),\n",
    "    ],\n",
    ")"
   ]
  },
  {
   "cell_type": "code",
   "execution_count": 6,
   "id": "95fcf7b6",
   "metadata": {
    "pycharm": {
     "name": "#%%\n"
    }
   },
   "outputs": [
    {
     "name": "stderr",
     "output_type": "stream",
     "text": [
      "INFO:root:Create proxy actor <class 'secretflow.security.aggregation.secure_aggregator._Masker'> with party alice.\n",
      "INFO:root:Create proxy actor <class 'secretflow.security.aggregation.secure_aggregator._Masker'> with party bob.\n",
      "INFO:root:Create proxy actor <class 'secretflow.ml.nn.fl.backend.torch.strategy.fed_avg_w.PYUFedAvgW'> with party alice.\n",
      "INFO:root:Create proxy actor <class 'secretflow.ml.nn.fl.backend.torch.strategy.fed_avg_w.PYUFedAvgW'> with party bob.\n"
     ]
    }
   ],
   "source": [
    "device_list = [alice, bob]\n",
    "server = charlie\n",
    "aggregator = SecureAggregator(server, [alice, bob])\n",
    "\n",
    "# spcify params\n",
    "fl_model = FLModel(\n",
    "    server=server,\n",
    "    device_list=device_list,\n",
    "    model=model_def,\n",
    "    aggregator=aggregator,\n",
    "    strategy='fed_avg_w',  # fl strategy\n",
    "    backend=\"torch\",  # backend support ['tensorflow', 'torch']\n",
    ")"
   ]
  },
  {
   "cell_type": "code",
   "execution_count": 7,
   "id": "c595099d",
   "metadata": {
    "pycharm": {
     "name": "#%%\n"
    }
   },
   "outputs": [
    {
     "name": "stderr",
     "output_type": "stream",
     "text": [
      "INFO:root:FL Train Params: {'x': FedNdarray(partitions={PYURuntime(alice): <secretflow.device.device.pyu.PYUObject object at 0x7fb076a1f550>, PYURuntime(bob): <secretflow.device.device.pyu.PYUObject object at 0x7fb076a1f910>}, partition_way=<PartitionWay.HORIZONTAL: 'horizontal'>), 'y': FedNdarray(partitions={PYURuntime(alice): <secretflow.device.device.pyu.PYUObject object at 0x7fb0769e0310>, PYURuntime(bob): <secretflow.device.device.pyu.PYUObject object at 0x7fb0769e0760>}, partition_way=<PartitionWay.HORIZONTAL: 'horizontal'>), 'batch_size': 32, 'batch_sampling_rate': None, 'epochs': 20, 'verbose': 1, 'callbacks': None, 'validation_data': (FedNdarray(partitions={PYURuntime(alice): <secretflow.device.device.pyu.PYUObject object at 0x7fb0769e0880>, PYURuntime(bob): <secretflow.device.device.pyu.PYUObject object at 0x7fb0769e0b80>}, partition_way=<PartitionWay.HORIZONTAL: 'horizontal'>), FedNdarray(partitions={PYURuntime(alice): <secretflow.device.device.pyu.PYUObject object at 0x7fb0769e0c40>, PYURuntime(bob): <secretflow.device.device.pyu.PYUObject object at 0x7fb0769e04c0>}, partition_way=<PartitionWay.HORIZONTAL: 'horizontal'>)), 'shuffle': False, 'class_weight': None, 'sample_weight': None, 'validation_freq': 1, 'aggregate_freq': 1, 'label_decoder': None, 'max_batch_size': 20000, 'prefetch_buffer_size': None, 'sampler_method': 'batch', 'random_seed': 5631, 'dp_spent_step_freq': None, 'audit_log_dir': None, 'dataset_builder': None, 'wait_steps': 100, 'self': <secretflow.ml.nn.fl.fl_model.FLModel object at 0x7fb076ab7be0>}\n",
      "\u001B[2m\u001B[36m(pid=32495)\u001B[0m 2024-01-09 13:51:26.729855: W tensorflow/compiler/xla/stream_executor/platform/default/dso_loader.cc:64] Could not load dynamic library 'libnvinfer.so.7'; dlerror: libnvinfer.so.7: cannot open shared object file: No such file or directory\n",
      "\u001B[2m\u001B[36m(pid=32495)\u001B[0m 2024-01-09 13:51:26.730128: W tensorflow/compiler/xla/stream_executor/platform/default/dso_loader.cc:64] Could not load dynamic library 'libnvinfer_plugin.so.7'; dlerror: libnvinfer_plugin.so.7: cannot open shared object file: No such file or directory\n",
      "\u001B[2m\u001B[36m(pid=32495)\u001B[0m 2024-01-09 13:51:26.730147: W tensorflow/compiler/tf2tensorrt/utils/py_utils.cc:38] TF-TRT Warning: Cannot dlopen some TensorRT libraries. If you would like to use Nvidia GPU with TensorRT, please make sure the missing libraries mentioned above are installed properly.\n",
      "\u001B[2m\u001B[36m(pid=32498)\u001B[0m 2024-01-09 13:51:27.110142: W tensorflow/compiler/xla/stream_executor/platform/default/dso_loader.cc:64] Could not load dynamic library 'libnvinfer.so.7'; dlerror: libnvinfer.so.7: cannot open shared object file: No such file or directory\n",
      "\u001B[2m\u001B[36m(pid=32498)\u001B[0m 2024-01-09 13:51:27.110437: W tensorflow/compiler/xla/stream_executor/platform/default/dso_loader.cc:64] Could not load dynamic library 'libnvinfer_plugin.so.7'; dlerror: libnvinfer_plugin.so.7: cannot open shared object file: No such file or directory\n",
      "\u001B[2m\u001B[36m(pid=32498)\u001B[0m 2024-01-09 13:51:27.110458: W tensorflow/compiler/tf2tensorrt/utils/py_utils.cc:38] TF-TRT Warning: Cannot dlopen some TensorRT libraries. If you would like to use Nvidia GPU with TensorRT, please make sure the missing libraries mentioned above are installed properly.\n",
      "Train Processing: :   0%|          | 0/750 [00:00<?, ?it/s]\u001B[2m\u001B[36m(PYUFedAvgW pid=32495)\u001B[0m /opt/conda/envs/default/lib/python3.8/site-packages/torch/autograd/__init__.py:251: UserWarning: CUDA initialization: The NVIDIA driver on your system is too old (found version 11020). Please update your GPU driver by downloading and installing a new version from the URL: http://www.nvidia.com/Download/index.aspx Alternatively, go to: https://pytorch.org to install a PyTorch version that has been compiled with your version of the CUDA driver. (Triggered internally at ../c10/cuda/CUDAFunctions.cpp:108.)\n",
      "\u001B[2m\u001B[36m(PYUFedAvgW pid=32495)\u001B[0m   Variable._execution_engine.run_backward(  # Calls into the C++ engine to run the backward pass\n",
      "\u001B[2m\u001B[36m(PYUFedAvgW pid=32498)\u001B[0m /opt/conda/envs/default/lib/python3.8/site-packages/torch/autograd/__init__.py:251: UserWarning: CUDA initialization: The NVIDIA driver on your system is too old (found version 11020). Please update your GPU driver by downloading and installing a new version from the URL: http://www.nvidia.com/Download/index.aspx Alternatively, go to: https://pytorch.org to install a PyTorch version that has been compiled with your version of the CUDA driver. (Triggered internally at ../c10/cuda/CUDAFunctions.cpp:108.)\n",
      "\u001B[2m\u001B[36m(PYUFedAvgW pid=32498)\u001B[0m   Variable._execution_engine.run_backward(  # Calls into the C++ engine to run the backward pass\n"
     ]
    },
    {
     "name": "stdout",
     "output_type": "stream",
     "text": [
      "Epoch 1/20\n"
     ]
    },
    {
     "name": "stderr",
     "output_type": "stream",
     "text": [
      "Train Processing: :  96%|█████████▋| 722/750 [00:26<00:00, 30.38it/s]\u001B[2m\u001B[33m(raylet)\u001B[0m [2024-01-09 13:52:01,747 E 25563 25563] (raylet) node_manager.cc:3097: 6 Workers (tasks / actors) killed due to memory pressure (OOM), 0 Workers crashed due to other reasons at node (ID: d479e7b188ac726f4e8606e6559d5d5b8381b3364887775d73118d2b, IP: 10.0.0.1) over the last time period. To see more information about the Workers killed on this node, use `ray logs raylet.out -ip 10.0.0.1`\n",
      "\u001B[2m\u001B[33m(raylet)\u001B[0m \n",
      "\u001B[2m\u001B[33m(raylet)\u001B[0m Refer to the documentation on how to address the out of memory issue: https://docs.ray.io/en/latest/ray-core/scheduling/ray-oom-prevention.html. Consider provisioning more memory on this node or reducing task parallelism by requesting more CPUs per task. To adjust the kill threshold, set the environment variable `RAY_memory_usage_threshold` when starting Ray. To disable worker killing, set the environment variable `RAY_memory_monitor_refresh_ms` to zero.\n",
      "Train Processing: :  99%|█████████▉| 746/750 [00:27<00:00, 34.03it/s]/opt/conda/envs/default/lib/python3.8/site-packages/secretflow/ml/nn/metrics.py:59: UserWarning: Please pay attention to local metrics, global only do naive aggregation.\n",
      "  warnings.warn(\n",
      "2024-01-09 13:52:03.550013: W tensorflow/compiler/xla/stream_executor/platform/default/dso_loader.cc:64] Could not load dynamic library 'libcudart.so.11.0'; dlerror: libcudart.so.11.0: cannot open shared object file: No such file or directory\n",
      "2024-01-09 13:52:03.550194: W tensorflow/compiler/xla/stream_executor/platform/default/dso_loader.cc:64] Could not load dynamic library 'libcublas.so.11'; dlerror: libcublas.so.11: cannot open shared object file: No such file or directory\n",
      "2024-01-09 13:52:03.550310: W tensorflow/compiler/xla/stream_executor/platform/default/dso_loader.cc:64] Could not load dynamic library 'libcublasLt.so.11'; dlerror: libcublasLt.so.11: cannot open shared object file: No such file or directory\n",
      "2024-01-09 13:52:03.550428: W tensorflow/compiler/xla/stream_executor/platform/default/dso_loader.cc:64] Could not load dynamic library 'libcufft.so.10'; dlerror: libcufft.so.10: cannot open shared object file: No such file or directory\n",
      "2024-01-09 13:52:03.550573: W tensorflow/compiler/xla/stream_executor/platform/default/dso_loader.cc:64] Could not load dynamic library 'libcusolver.so.11'; dlerror: libcusolver.so.11: cannot open shared object file: No such file or directory\n",
      "2024-01-09 13:52:03.550674: W tensorflow/compiler/xla/stream_executor/platform/default/dso_loader.cc:64] Could not load dynamic library 'libcusparse.so.11'; dlerror: libcusparse.so.11: cannot open shared object file: No such file or directory\n",
      "2024-01-09 13:52:03.550730: W tensorflow/core/common_runtime/gpu/gpu_device.cc:1934] Cannot dlopen some GPU libraries. Please make sure the missing libraries mentioned above are installed properly if you would like to use GPU. Follow the guide at https://www.tensorflow.org/install/gpu for how to download and setup the required libraries for your platform.\n",
      "Skipping registering GPU devices...\n",
      "Train Processing: : 100%|█████████▉| 749/750 [00:31<00:00, 23.44it/s, {'multiclassaccuracy': 0.012895834, 'multiclassprecision': 0.012895834, 'val_multiclassaccuracy': 0.021454167, 'val_multiclassprecision': 0.021454167}]\n",
      "Train Processing: :   0%|          | 3/750 [00:00<00:29, 24.93it/s]"
     ]
    },
    {
     "name": "stdout",
     "output_type": "stream",
     "text": [
      "Epoch 2/20\n",
      "\u001B[2m\u001B[36m(PYUFedAvgW pid=32498)\u001B[0m {'train-loss': 1.5026354789733887, 'train_multiclassaccuracy': tensor(0.0129), 'train_multiclassprecision': tensor(0.0129), 'val_eval_multiclassaccuracy': tensor(0.0261), 'val_eval_multiclassprecision': tensor(0.0261)}\n",
      "\u001B[2m\u001B[36m(PYUFedAvgW pid=32495)\u001B[0m {'train-loss': 1.5381978750228882, 'train_multiclassaccuracy': tensor(0.0129), 'train_multiclassprecision': tensor(0.0129), 'val_eval_multiclassaccuracy': tensor(0.0168), 'val_eval_multiclassprecision': tensor(0.0168)}\n"
     ]
    },
    {
     "name": "stderr",
     "output_type": "stream",
     "text": [
      "Train Processing: : 100%|█████████▉| 749/750 [00:37<00:00, 20.19it/s, {'multiclassaccuracy': 0.025293056, 'multiclassprecision': 0.025293056, 'val_multiclassaccuracy': 0.0255625, 'val_multiclassprecision': 0.0255625}]\n",
      "Train Processing: :   0%|          | 3/750 [00:00<00:31, 24.03it/s]"
     ]
    },
    {
     "name": "stdout",
     "output_type": "stream",
     "text": [
      "Epoch 3/20\n",
      "\u001B[2m\u001B[36m(PYUFedAvgW pid=32498)\u001B[0m {'train-loss': 1.499314308166504, 'train_multiclassaccuracy': tensor(0.0251), 'train_multiclassprecision': tensor(0.0251), 'val_eval_multiclassaccuracy': tensor(0.0310), 'val_eval_multiclassprecision': tensor(0.0310)}\n",
      "\u001B[2m\u001B[36m(PYUFedAvgW pid=32495)\u001B[0m {'train-loss': 1.5248055458068848, 'train_multiclassaccuracy': tensor(0.0255), 'train_multiclassprecision': tensor(0.0255), 'val_eval_multiclassaccuracy': tensor(0.0202), 'val_eval_multiclassprecision': tensor(0.0202)}\n"
     ]
    },
    {
     "name": "stderr",
     "output_type": "stream",
     "text": [
      "Train Processing: :  23%|██▎       | 171/750 [00:05<00:17, 32.48it/s]\u001B[2m\u001B[33m(raylet)\u001B[0m [2024-01-09 13:53:01,749 E 25563 25563] (raylet) node_manager.cc:3097: 1 Workers (tasks / actors) killed due to memory pressure (OOM), 0 Workers crashed due to other reasons at node (ID: d479e7b188ac726f4e8606e6559d5d5b8381b3364887775d73118d2b, IP: 10.0.0.1) over the last time period. To see more information about the Workers killed on this node, use `ray logs raylet.out -ip 10.0.0.1`\n",
      "\u001B[2m\u001B[33m(raylet)\u001B[0m \n",
      "\u001B[2m\u001B[33m(raylet)\u001B[0m Refer to the documentation on how to address the out of memory issue: https://docs.ray.io/en/latest/ray-core/scheduling/ray-oom-prevention.html. Consider provisioning more memory on this node or reducing task parallelism by requesting more CPUs per task. To adjust the kill threshold, set the environment variable `RAY_memory_usage_threshold` when starting Ray. To disable worker killing, set the environment variable `RAY_memory_monitor_refresh_ms` to zero.\n",
      "Train Processing: : 100%|█████████▉| 749/750 [00:53<00:00, 14.11it/s, {'multiclassaccuracy': 0.03293403, 'multiclassprecision': 0.03293403, 'val_multiclassaccuracy': 0.0336125, 'val_multiclassprecision': 0.0336125}]\n",
      "Train Processing: :   0%|          | 3/750 [00:00<00:29, 25.17it/s]"
     ]
    },
    {
     "name": "stdout",
     "output_type": "stream",
     "text": [
      "Epoch 4/20\n",
      "\u001B[2m\u001B[36m(PYUFedAvgW pid=32498)\u001B[0m {'train-loss': 1.4700618982315063, 'train_multiclassaccuracy': tensor(0.0327), 'train_multiclassprecision': tensor(0.0327), 'val_eval_multiclassaccuracy': tensor(0.0386), 'val_eval_multiclassprecision': tensor(0.0386)}\n",
      "\u001B[2m\u001B[36m(PYUFedAvgW pid=32495)\u001B[0m {'train-loss': 1.5233030319213867, 'train_multiclassaccuracy': tensor(0.0331), 'train_multiclassprecision': tensor(0.0331), 'val_eval_multiclassaccuracy': tensor(0.0287), 'val_eval_multiclassprecision': tensor(0.0287)}\n"
     ]
    },
    {
     "name": "stderr",
     "output_type": "stream",
     "text": [
      "Train Processing: :   3%|▎         | 23/750 [00:00<00:20, 34.86it/s]\u001B[2m\u001B[33m(raylet)\u001B[0m [2024-01-09 13:54:01,751 E 25563 25563] (raylet) node_manager.cc:3097: 9 Workers (tasks / actors) killed due to memory pressure (OOM), 0 Workers crashed due to other reasons at node (ID: d479e7b188ac726f4e8606e6559d5d5b8381b3364887775d73118d2b, IP: 10.0.0.1) over the last time period. To see more information about the Workers killed on this node, use `ray logs raylet.out -ip 10.0.0.1`\n",
      "\u001B[2m\u001B[33m(raylet)\u001B[0m \n",
      "\u001B[2m\u001B[33m(raylet)\u001B[0m Refer to the documentation on how to address the out of memory issue: https://docs.ray.io/en/latest/ray-core/scheduling/ray-oom-prevention.html. Consider provisioning more memory on this node or reducing task parallelism by requesting more CPUs per task. To adjust the kill threshold, set the environment variable `RAY_memory_usage_threshold` when starting Ray. To disable worker killing, set the environment variable `RAY_memory_monitor_refresh_ms` to zero.\n",
      "Train Processing: : 100%|█████████▉| 749/750 [00:41<00:00, 17.95it/s, {'multiclassaccuracy': 0.040049307, 'multiclassprecision': 0.040049307, 'val_multiclassaccuracy': 0.042783335, 'val_multiclassprecision': 0.042783335}]\n",
      "Train Processing: :   0%|          | 3/750 [00:00<00:31, 23.55it/s]"
     ]
    },
    {
     "name": "stdout",
     "output_type": "stream",
     "text": [
      "Epoch 5/20\n",
      "\u001B[2m\u001B[36m(PYUFedAvgW pid=32498)\u001B[0m {'train-loss': 1.463574767112732, 'train_multiclassaccuracy': tensor(0.0398), 'train_multiclassprecision': tensor(0.0398), 'val_eval_multiclassaccuracy': tensor(0.0479), 'val_eval_multiclassprecision': tensor(0.0479)}\n",
      "\u001B[2m\u001B[36m(PYUFedAvgW pid=32495)\u001B[0m {'train-loss': 1.5122534036636353, 'train_multiclassaccuracy': tensor(0.0403), 'train_multiclassprecision': tensor(0.0403), 'val_eval_multiclassaccuracy': tensor(0.0377), 'val_eval_multiclassprecision': tensor(0.0377)}\n"
     ]
    },
    {
     "name": "stderr",
     "output_type": "stream",
     "text": [
      "Train Processing: : 100%|█████████▉| 749/750 [00:45<00:00, 16.54it/s, {'multiclassaccuracy': 0.04462222, 'multiclassprecision': 0.04462222, 'val_multiclassaccuracy': 0.047220834, 'val_multiclassprecision': 0.047220834}]\n",
      "Train Processing: :   0%|          | 3/750 [00:00<00:32, 22.88it/s]"
     ]
    },
    {
     "name": "stdout",
     "output_type": "stream",
     "text": [
      "Epoch 6/20\n",
      "\u001B[2m\u001B[36m(PYUFedAvgW pid=32498)\u001B[0m {'train-loss': 1.4665617942810059, 'train_multiclassaccuracy': tensor(0.0444), 'train_multiclassprecision': tensor(0.0444), 'val_eval_multiclassaccuracy': tensor(0.0522), 'val_eval_multiclassprecision': tensor(0.0522)}\n",
      "\u001B[2m\u001B[36m(PYUFedAvgW pid=32495)\u001B[0m {'train-loss': 1.4984899759292603, 'train_multiclassaccuracy': tensor(0.0448), 'train_multiclassprecision': tensor(0.0448), 'val_eval_multiclassaccuracy': tensor(0.0423), 'val_eval_multiclassprecision': tensor(0.0423)}\n"
     ]
    },
    {
     "name": "stderr",
     "output_type": "stream",
     "text": [
      "Train Processing: : 100%|█████████▉| 749/750 [00:49<00:00, 15.12it/s, {'multiclassaccuracy': 0.049110416, 'multiclassprecision': 0.049110416, 'val_multiclassaccuracy': 0.05215417, 'val_multiclassprecision': 0.05215417}]\n",
      "Train Processing: :   0%|          | 3/750 [00:00<00:27, 26.93it/s]"
     ]
    },
    {
     "name": "stdout",
     "output_type": "stream",
     "text": [
      "Epoch 7/20\n",
      "\u001B[2m\u001B[36m(PYUFedAvgW pid=32498)\u001B[0m {'train-loss': 1.4646514654159546, 'train_multiclassaccuracy': tensor(0.0488), 'train_multiclassprecision': tensor(0.0488), 'val_eval_multiclassaccuracy': tensor(0.0578), 'val_eval_multiclassprecision': tensor(0.0578)}\n",
      "\u001B[2m\u001B[36m(PYUFedAvgW pid=32495)\u001B[0m {'train-loss': 1.4911092519760132, 'train_multiclassaccuracy': tensor(0.0494), 'train_multiclassprecision': tensor(0.0494), 'val_eval_multiclassaccuracy': tensor(0.0465), 'val_eval_multiclassprecision': tensor(0.0465)}\n"
     ]
    },
    {
     "name": "stderr",
     "output_type": "stream",
     "text": [
      "Train Processing: : 100%|█████████▉| 749/750 [00:53<00:00, 13.95it/s, {'multiclassaccuracy': 0.053397223, 'multiclassprecision': 0.053397223, 'val_multiclassaccuracy': 0.057466667, 'val_multiclassprecision': 0.057466667}]\n"
     ]
    },
    {
     "name": "stdout",
     "output_type": "stream",
     "text": [
      "\u001B[2m\u001B[36m(PYUFedAvgW pid=32495)\u001B[0m {'train-loss': 1.4858157634735107, 'train_multiclassaccuracy': tensor(0.0536), 'train_multiclassprecision': tensor(0.0536), 'val_eval_multiclassaccuracy': tensor(0.0520), 'val_eval_multiclassprecision': tensor(0.0520)}\n",
      "\u001B[2m\u001B[36m(PYUFedAvgW pid=32498)\u001B[0m {'train-loss': 1.4620774984359741, 'train_multiclassaccuracy': tensor(0.0532), 'train_multiclassprecision': tensor(0.0532), 'val_eval_multiclassaccuracy': tensor(0.0629), 'val_eval_multiclassprecision': tensor(0.0629)}\n"
     ]
    },
    {
     "name": "stderr",
     "output_type": "stream",
     "text": [
      "Train Processing: :   0%|          | 3/750 [00:00<00:31, 24.07it/s]"
     ]
    },
    {
     "name": "stdout",
     "output_type": "stream",
     "text": [
      "Epoch 8/20\n"
     ]
    },
    {
     "name": "stderr",
     "output_type": "stream",
     "text": [
      "Train Processing: : 100%|█████████▉| 749/750 [00:57<00:00, 13.02it/s, {'multiclassaccuracy': 0.05952639, 'multiclassprecision': 0.05952639, 'val_multiclassaccuracy': 0.06555, 'val_multiclassprecision': 0.06555}]\n",
      "Train Processing: :   0%|          | 3/750 [00:00<00:30, 24.22it/s]"
     ]
    },
    {
     "name": "stdout",
     "output_type": "stream",
     "text": [
      "Epoch 9/20\n",
      "\u001B[2m\u001B[36m(PYUFedAvgW pid=32498)\u001B[0m {'train-loss': 1.4617977142333984, 'train_multiclassaccuracy': tensor(0.0596), 'train_multiclassprecision': tensor(0.0596), 'val_eval_multiclassaccuracy': tensor(0.0701), 'val_eval_multiclassprecision': tensor(0.0701)}\n",
      "\u001B[2m\u001B[36m(PYUFedAvgW pid=32495)\u001B[0m {'train-loss': 1.483565092086792, 'train_multiclassaccuracy': tensor(0.0594), 'train_multiclassprecision': tensor(0.0594), 'val_eval_multiclassaccuracy': tensor(0.0610), 'val_eval_multiclassprecision': tensor(0.0610)}\n"
     ]
    },
    {
     "name": "stderr",
     "output_type": "stream",
     "text": [
      "Train Processing: : 100%|█████████▉| 749/750 [01:01<00:00, 12.12it/s, {'multiclassaccuracy': 0.06534375, 'multiclassprecision': 0.06534375, 'val_multiclassaccuracy': 0.06815833, 'val_multiclassprecision': 0.06815833}]\n",
      "Train Processing: :   0%|          | 3/750 [00:00<00:30, 24.60it/s]"
     ]
    },
    {
     "name": "stdout",
     "output_type": "stream",
     "text": [
      "Epoch 10/20\n",
      "\u001B[2m\u001B[36m(PYUFedAvgW pid=32498)\u001B[0m {'train-loss': 1.463520884513855, 'train_multiclassaccuracy': tensor(0.0654), 'train_multiclassprecision': tensor(0.0654), 'val_eval_multiclassaccuracy': tensor(0.0730), 'val_eval_multiclassprecision': tensor(0.0730)}\n",
      "\u001B[2m\u001B[36m(PYUFedAvgW pid=32495)\u001B[0m {'train-loss': 1.4812475442886353, 'train_multiclassaccuracy': tensor(0.0653), 'train_multiclassprecision': tensor(0.0653), 'val_eval_multiclassaccuracy': tensor(0.0633), 'val_eval_multiclassprecision': tensor(0.0633)}\n"
     ]
    },
    {
     "name": "stderr",
     "output_type": "stream",
     "text": [
      "Train Processing: : 100%|█████████▉| 749/750 [01:05<00:00, 11.39it/s, {'multiclassaccuracy': 0.06946042, 'multiclassprecision': 0.06946042, 'val_multiclassaccuracy': 0.07415833, 'val_multiclassprecision': 0.07415833}]\n"
     ]
    },
    {
     "name": "stdout",
     "output_type": "stream",
     "text": [
      "\u001B[2m\u001B[36m(PYUFedAvgW pid=32498)\u001B[0m {'train-loss': 1.4615941047668457, 'train_multiclassaccuracy': tensor(0.0695), 'train_multiclassprecision': tensor(0.0695), 'val_eval_multiclassaccuracy': tensor(0.0800), 'val_eval_multiclassprecision': tensor(0.0800)}\n",
      "\u001B[2m\u001B[36m(PYUFedAvgW pid=32495)\u001B[0m {'train-loss': 1.4624273777008057, 'train_multiclassaccuracy': tensor(0.0694), 'train_multiclassprecision': tensor(0.0694), 'val_eval_multiclassaccuracy': tensor(0.0683), 'val_eval_multiclassprecision': tensor(0.0683)}\n"
     ]
    },
    {
     "name": "stderr",
     "output_type": "stream",
     "text": [
      "Train Processing: :   0%|          | 3/750 [00:00<00:28, 26.12it/s]"
     ]
    },
    {
     "name": "stdout",
     "output_type": "stream",
     "text": [
      "Epoch 11/20\n"
     ]
    },
    {
     "name": "stderr",
     "output_type": "stream",
     "text": [
      "Train Processing: :  99%|█████████▉| 746/750 [00:24<00:00, 36.09it/s]\u001B[2m\u001B[33m(raylet)\u001B[0m [2024-01-09 14:04:01,779 E 25563 25563] (raylet) node_manager.cc:3097: 1 Workers (tasks / actors) killed due to memory pressure (OOM), 0 Workers crashed due to other reasons at node (ID: d479e7b188ac726f4e8606e6559d5d5b8381b3364887775d73118d2b, IP: 10.0.0.1) over the last time period. To see more information about the Workers killed on this node, use `ray logs raylet.out -ip 10.0.0.1`\n",
      "\u001B[2m\u001B[33m(raylet)\u001B[0m \n",
      "\u001B[2m\u001B[33m(raylet)\u001B[0m Refer to the documentation on how to address the out of memory issue: https://docs.ray.io/en/latest/ray-core/scheduling/ray-oom-prevention.html. Consider provisioning more memory on this node or reducing task parallelism by requesting more CPUs per task. To adjust the kill threshold, set the environment variable `RAY_memory_usage_threshold` when starting Ray. To disable worker killing, set the environment variable `RAY_memory_monitor_refresh_ms` to zero.\n",
      "Train Processing: : 100%|█████████▉| 749/750 [01:09<00:00, 10.78it/s, {'multiclassaccuracy': 0.073010415, 'multiclassprecision': 0.073010415, 'val_multiclassaccuracy': 0.076525, 'val_multiclassprecision': 0.076525}]\n",
      "Train Processing: :   0%|          | 3/750 [00:00<00:29, 24.94it/s]"
     ]
    },
    {
     "name": "stdout",
     "output_type": "stream",
     "text": [
      "Epoch 12/20\n",
      "\u001B[2m\u001B[36m(PYUFedAvgW pid=32498)\u001B[0m {'train-loss': 1.4612447023391724, 'train_multiclassaccuracy': tensor(0.0728), 'train_multiclassprecision': tensor(0.0728), 'val_eval_multiclassaccuracy': tensor(0.0822), 'val_eval_multiclassprecision': tensor(0.0822)}\n",
      "\u001B[2m\u001B[36m(PYUFedAvgW pid=32495)\u001B[0m {'train-loss': 1.4623854160308838, 'train_multiclassaccuracy': tensor(0.0732), 'train_multiclassprecision': tensor(0.0732), 'val_eval_multiclassaccuracy': tensor(0.0708), 'val_eval_multiclassprecision': tensor(0.0708)}\n"
     ]
    },
    {
     "name": "stderr",
     "output_type": "stream",
     "text": [
      "Train Processing: : 100%|█████████▉| 749/750 [01:13<00:00, 10.16it/s, {'multiclassaccuracy': 0.07952153, 'multiclassprecision': 0.07952153, 'val_multiclassaccuracy': 0.0864375, 'val_multiclassprecision': 0.0864375}]\n",
      "Train Processing: :   0%|          | 3/750 [00:00<00:28, 26.48it/s]"
     ]
    },
    {
     "name": "stdout",
     "output_type": "stream",
     "text": [
      "Epoch 13/20\n",
      "\u001B[2m\u001B[36m(PYUFedAvgW pid=32498)\u001B[0m {'train-loss': 1.4611862897872925, 'train_multiclassaccuracy': tensor(0.0793), 'train_multiclassprecision': tensor(0.0793), 'val_eval_multiclassaccuracy': tensor(0.0924), 'val_eval_multiclassprecision': tensor(0.0924)}\n",
      "\u001B[2m\u001B[36m(PYUFedAvgW pid=32495)\u001B[0m {'train-loss': 1.4621374607086182, 'train_multiclassaccuracy': tensor(0.0798), 'train_multiclassprecision': tensor(0.0798), 'val_eval_multiclassaccuracy': tensor(0.0805), 'val_eval_multiclassprecision': tensor(0.0805)}\n"
     ]
    },
    {
     "name": "stderr",
     "output_type": "stream",
     "text": [
      "Train Processing: : 100%|█████████▉| 749/750 [01:17<00:00,  9.67it/s, {'multiclassaccuracy': 0.08615903, 'multiclassprecision': 0.08615903, 'val_multiclassaccuracy': 0.0892875, 'val_multiclassprecision': 0.0892875}]\n",
      "Train Processing: :   0%|          | 2/750 [00:00<00:40, 18.54it/s]"
     ]
    },
    {
     "name": "stdout",
     "output_type": "stream",
     "text": [
      "Epoch 14/20\n",
      "\u001B[2m\u001B[36m(PYUFedAvgW pid=32498)\u001B[0m {'train-loss': 1.4613405466079712, 'train_multiclassaccuracy': tensor(0.0857), 'train_multiclassprecision': tensor(0.0857), 'val_eval_multiclassaccuracy': tensor(0.0958), 'val_eval_multiclassprecision': tensor(0.0958)}\n",
      "\u001B[2m\u001B[36m(PYUFedAvgW pid=32495)\u001B[0m {'train-loss': 1.4614176750183105, 'train_multiclassaccuracy': tensor(0.0866), 'train_multiclassprecision': tensor(0.0866), 'val_eval_multiclassaccuracy': tensor(0.0828), 'val_eval_multiclassprecision': tensor(0.0828)}\n"
     ]
    },
    {
     "name": "stderr",
     "output_type": "stream",
     "text": [
      "Train Processing: : 100%|█████████▉| 749/750 [01:21<00:00,  9.16it/s, {'multiclassaccuracy': 0.09688403, 'multiclassprecision': 0.09688403, 'val_multiclassaccuracy': 0.104875, 'val_multiclassprecision': 0.104875}]\n",
      "Train Processing: :   0%|          | 3/750 [00:00<00:30, 24.89it/s]"
     ]
    },
    {
     "name": "stdout",
     "output_type": "stream",
     "text": [
      "Epoch 15/20\n",
      "\u001B[2m\u001B[36m(PYUFedAvgW pid=32498)\u001B[0m {'train-loss': 1.4611986875534058, 'train_multiclassaccuracy': tensor(0.0966), 'train_multiclassprecision': tensor(0.0966), 'val_eval_multiclassaccuracy': tensor(0.1119), 'val_eval_multiclassprecision': tensor(0.1119)}\n",
      "\u001B[2m\u001B[36m(PYUFedAvgW pid=32495)\u001B[0m {'train-loss': 1.4625885486602783, 'train_multiclassaccuracy': tensor(0.0972), 'train_multiclassprecision': tensor(0.0972), 'val_eval_multiclassaccuracy': tensor(0.0979), 'val_eval_multiclassprecision': tensor(0.0979)}\n"
     ]
    },
    {
     "name": "stderr",
     "output_type": "stream",
     "text": [
      "Train Processing: : 100%|█████████▉| 749/750 [01:26<00:00,  8.65it/s, {'multiclassaccuracy': 0.104736105, 'multiclassprecision': 0.104736105, 'val_multiclassaccuracy': 0.110495836, 'val_multiclassprecision': 0.110495836}]\n",
      "Train Processing: :   0%|          | 3/750 [00:00<00:30, 24.31it/s]"
     ]
    },
    {
     "name": "stdout",
     "output_type": "stream",
     "text": [
      "Epoch 16/20\n",
      "\u001B[2m\u001B[36m(PYUFedAvgW pid=32498)\u001B[0m {'train-loss': 1.4611600637435913, 'train_multiclassaccuracy': tensor(0.1045), 'train_multiclassprecision': tensor(0.1045), 'val_eval_multiclassaccuracy': tensor(0.1182), 'val_eval_multiclassprecision': tensor(0.1182)}\n",
      "\u001B[2m\u001B[36m(PYUFedAvgW pid=32495)\u001B[0m {'train-loss': 1.4660673141479492, 'train_multiclassaccuracy': tensor(0.1050), 'train_multiclassprecision': tensor(0.1050), 'val_eval_multiclassaccuracy': tensor(0.1028), 'val_eval_multiclassprecision': tensor(0.1028)}\n"
     ]
    },
    {
     "name": "stderr",
     "output_type": "stream",
     "text": [
      "Train Processing: : 100%|█████████▉| 749/750 [01:30<00:00,  8.24it/s, {'multiclassaccuracy': 0.11643402, 'multiclassprecision': 0.11643402, 'val_multiclassaccuracy': 0.13006666, 'val_multiclassprecision': 0.13006666}]\n",
      "Train Processing: :   0%|          | 3/750 [00:00<00:26, 28.38it/s]"
     ]
    },
    {
     "name": "stdout",
     "output_type": "stream",
     "text": [
      "Epoch 17/20\n",
      "\u001B[2m\u001B[36m(PYUFedAvgW pid=32498)\u001B[0m {'train-loss': 1.4616273641586304, 'train_multiclassaccuracy': tensor(0.1165), 'train_multiclassprecision': tensor(0.1165), 'val_eval_multiclassaccuracy': tensor(0.1386), 'val_eval_multiclassprecision': tensor(0.1386)}\n",
      "\u001B[2m\u001B[36m(PYUFedAvgW pid=32495)\u001B[0m {'train-loss': 1.461342215538025, 'train_multiclassaccuracy': tensor(0.1163), 'train_multiclassprecision': tensor(0.1163), 'val_eval_multiclassaccuracy': tensor(0.1215), 'val_eval_multiclassprecision': tensor(0.1215)}\n"
     ]
    },
    {
     "name": "stderr",
     "output_type": "stream",
     "text": [
      "Train Processing: : 100%|█████████▉| 749/750 [01:34<00:00,  7.90it/s, {'multiclassaccuracy': 0.13145626, 'multiclassprecision': 0.13145626, 'val_multiclassaccuracy': 0.13805833, 'val_multiclassprecision': 0.13805833}]\n"
     ]
    },
    {
     "name": "stdout",
     "output_type": "stream",
     "text": [
      "\u001B[2m\u001B[36m(PYUFedAvgW pid=32498)\u001B[0m {'train-loss': 1.4611574411392212, 'train_multiclassaccuracy': tensor(0.1319), 'train_multiclassprecision': tensor(0.1319), 'val_eval_multiclassaccuracy': tensor(0.1466), 'val_eval_multiclassprecision': tensor(0.1466)}\n",
      "\u001B[2m\u001B[36m(PYUFedAvgW pid=32495)\u001B[0m {'train-loss': 1.463371753692627, 'train_multiclassaccuracy': tensor(0.1311), 'train_multiclassprecision': tensor(0.1311), 'val_eval_multiclassaccuracy': tensor(0.1295), 'val_eval_multiclassprecision': tensor(0.1295)}\n"
     ]
    },
    {
     "name": "stderr",
     "output_type": "stream",
     "text": [
      "Train Processing: :   0%|          | 2/750 [00:00<00:41, 18.24it/s]"
     ]
    },
    {
     "name": "stdout",
     "output_type": "stream",
     "text": [
      "Epoch 18/20\n"
     ]
    },
    {
     "name": "stderr",
     "output_type": "stream",
     "text": [
      "Train Processing: : 100%|█████████▉| 749/750 [01:38<00:00,  7.61it/s, {'multiclassaccuracy': 0.1363875, 'multiclassprecision': 0.1363875, 'val_multiclassaccuracy': 0.1410125, 'val_multiclassprecision': 0.1410125}]\n",
      "Train Processing: :   0%|          | 3/750 [00:00<00:28, 26.12it/s]"
     ]
    },
    {
     "name": "stdout",
     "output_type": "stream",
     "text": [
      "Epoch 19/20\n",
      "\u001B[2m\u001B[36m(PYUFedAvgW pid=32498)\u001B[0m {'train-loss': 1.4611587524414062, 'train_multiclassaccuracy': tensor(0.1362), 'train_multiclassprecision': tensor(0.1362), 'val_eval_multiclassaccuracy': tensor(0.1495), 'val_eval_multiclassprecision': tensor(0.1495)}\n",
      "\u001B[2m\u001B[36m(PYUFedAvgW pid=32495)\u001B[0m {'train-loss': 1.4623215198516846, 'train_multiclassaccuracy': tensor(0.1366), 'train_multiclassprecision': tensor(0.1366), 'val_eval_multiclassaccuracy': tensor(0.1326), 'val_eval_multiclassprecision': tensor(0.1326)}\n"
     ]
    },
    {
     "name": "stderr",
     "output_type": "stream",
     "text": [
      "Train Processing: : 100%|█████████▉| 749/750 [01:42<00:00,  7.31it/s, {'multiclassaccuracy': 0.15365973, 'multiclassprecision': 0.15365973, 'val_multiclassaccuracy': 0.153825, 'val_multiclassprecision': 0.153825}]\n",
      "Train Processing: :   0%|          | 3/750 [00:00<00:29, 25.19it/s]"
     ]
    },
    {
     "name": "stdout",
     "output_type": "stream",
     "text": [
      "Epoch 20/20\n",
      "\u001B[2m\u001B[36m(PYUFedAvgW pid=32498)\u001B[0m {'train-loss': 1.461175560951233, 'train_multiclassaccuracy': tensor(0.1537), 'train_multiclassprecision': tensor(0.1537), 'val_eval_multiclassaccuracy': tensor(0.1623), 'val_eval_multiclassprecision': tensor(0.1623)}\n",
      "\u001B[2m\u001B[36m(PYUFedAvgW pid=32495)\u001B[0m {'train-loss': 1.4613087177276611, 'train_multiclassaccuracy': tensor(0.1536), 'train_multiclassprecision': tensor(0.1536), 'val_eval_multiclassaccuracy': tensor(0.1453), 'val_eval_multiclassprecision': tensor(0.1453)}\n"
     ]
    },
    {
     "name": "stderr",
     "output_type": "stream",
     "text": [
      "Train Processing: : 100%|█████████▉| 749/750 [01:45<00:00,  7.10it/s, {'multiclassaccuracy': 0.16500764, 'multiclassprecision': 0.16500764, 'val_multiclassaccuracy': 0.17248333, 'val_multiclassprecision': 0.17248333}]\n"
     ]
    },
    {
     "name": "stdout",
     "output_type": "stream",
     "text": [
      "\u001B[2m\u001B[36m(PYUFedAvgW pid=32498)\u001B[0m {'train-loss': 1.4612113237380981, 'train_multiclassaccuracy': tensor(0.1650), 'train_multiclassprecision': tensor(0.1650), 'val_eval_multiclassaccuracy': tensor(0.1828), 'val_eval_multiclassprecision': tensor(0.1828)}\n",
      "\u001B[2m\u001B[36m(PYUFedAvgW pid=32495)\u001B[0m {'train-loss': 1.4613637924194336, 'train_multiclassaccuracy': tensor(0.1650), 'train_multiclassprecision': tensor(0.1650), 'val_eval_multiclassaccuracy': tensor(0.1622), 'val_eval_multiclassprecision': tensor(0.1622)}\n"
     ]
    }
   ],
   "source": [
    "history = fl_model.fit(\n",
    "    train_data,\n",
    "    train_label,\n",
    "    validation_data=(test_data, test_label),\n",
    "    epochs=20,\n",
    "    batch_size=32,\n",
    "    aggregate_freq=1,\n",
    ")"
   ]
  },
  {
   "cell_type": "code",
   "execution_count": 8,
   "outputs": [
    {
     "data": {
      "text/plain": "<Figure size 640x480 with 1 Axes>",
      "image/png": "[encoded data removed]"
     },
     "metadata": {},
     "output_type": "display_data"
    }
   ],
   "source": [
    "from matplotlib import pyplot as plt\n",
    "\n",
    "# Draw accuracy values for training & validation\n",
    "plt.plot(history[\"global_history\"]['multiclassaccuracy'])\n",
    "plt.plot(history[\"global_history\"]['val_multiclassaccuracy'])\n",
    "plt.title('FLModel accuracy')\n",
    "plt.ylabel('Accuracy')\n",
    "plt.xlabel('Epoch')\n",
    "plt.legend(['Train', 'Valid'], loc='upper left')\n",
    "plt.show()"
   ],
   "metadata": {
    "collapsed": false,
    "pycharm": {
     "name": "#%%\n"
    }
   }
  }
 ],
 "metadata": {
  "kernelspec": {
   "name": "default",
   "language": "python",
   "display_name": "default"
  },
  "language_info": {
   "codemirror_mode": {
    "name": "ipython",
    "version": 3
   },
   "file_extension": ".py",
   "mimetype": "text/x-python",
   "name": "python",
   "nbconvert_exporter": "python",
   "pygments_lexer": "ipython3",
   "version": "3.8.16"
  },
  "vscode": {
   "interpreter": {
    "hash": "ae1fdd5fd034b7d694352220485921694ff89198520409089b4646721fce11ca"
   }
  }
 },
 "nbformat": 4,
 "nbformat_minor": 5
}