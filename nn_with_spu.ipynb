{
 "cells": [
  {
   "attachments": {},
   "cell_type": "markdown",
   "metadata": {
    "pycharm": {
     "name": "#%% md\n"
    }
   },
   "source": [
    "# Neural Network with SPU\n",
    "\n",
    ">  Please read lab [Logistic Regression On SPU](./lr_with_spu.ipynb) first if you have not。\n",
    "\n",
    "In lab [Logistic Regression On SPU](./lr_with_spu.ipynb), we have showed how to use SecretFlow/SPU to convert a plaintext JAX training program to a secure MPC training program.\n",
    "\n",
    "In this lab, the idea is quite similar but this time we will work with a Neural Network model.\n",
    "\n",
    "We are going to use the same dataset and all the settings as lab [Logistic Regression On SPU](./lr_with_spu.ipynb).\n",
    "\n",
    "And first, let's work out the plaintext model."
   ]
  },
  {
   "attachments": {},
   "cell_type": "markdown",
   "metadata": {
    "pycharm": {
     "name": "#%% md\n"
    }
   },
   "source": [
    ">The following codes are demos only. It's **NOT for production** due to system security concerns, please **DO NOT** use it directly in production."
   ]
  },
  {
   "attachments": {},
   "cell_type": "markdown",
   "metadata": {
    "pycharm": {
     "name": "#%% md\n"
    }
   },
   "source": [
    "> This tutorial needs more resources than 8c16g, which is the minimum requirement of SecretFlow."
   ]
  },
  {
   "attachments": {},
   "cell_type": "markdown",
   "metadata": {
    "pycharm": {
     "name": "#%% md\n"
    }
   },
   "source": [
    "## Train a model with JAX/FLAX\n",
    "\n",
    "### Load the Dataset\n",
    "\n",
    "The below is just copied from lab [Logistic Regression On SPU](./lr_with_spu.ipynb). I'm not going to explain again."
   ]
  },
  {
   "cell_type": "code",
   "execution_count": 1,
   "metadata": {
    "pycharm": {
     "name": "#%%\n"
    }
   },
   "outputs": [
    {
     "name": "stdout",
     "output_type": "stream",
     "text": [
      "Looking in indexes: https://pypi.tuna.tsinghua.edu.cn/simple\r\n",
      "Collecting flax==0.6.0\r\n",
      "  Using cached https://pypi.tuna.tsinghua.edu.cn/packages/fd/3d/4d137ac1a24733d585045d7a8b56403f4d1d318a9c8765174b2ef14063c9/flax-0.6.0-py3-none-any.whl (180 kB)\r\n",
      "Requirement already satisfied: PyYAML>=5.4.1 in /opt/conda/envs/default/lib/python3.8/site-packages (from flax==0.6.0) (6.0.1)\r\n",
      "Collecting optax\r\n",
      "  Using cached https://pypi.tuna.tsinghua.edu.cn/packages/13/71/787cc24c4b606f3bb9f1d14957ebd7cb9e4234f6d59081721230b2032196/optax-0.1.7-py3-none-any.whl (154 kB)\r\n",
      "Requirement already satisfied: msgpack in /opt/conda/envs/default/lib/python3.8/site-packages (from flax==0.6.0) (1.0.7)\r\n",
      "Collecting rich~=11.1\r\n",
      "  Using cached https://pypi.tuna.tsinghua.edu.cn/packages/74/41/6adf6aeb9b3d4a058a82fd053cbb6824432269caa0998574cb766c555287/rich-11.2.0-py3-none-any.whl (217 kB)\r\n",
      "Requirement already satisfied: typing-extensions>=4.1.1 in /opt/conda/envs/default/lib/python3.8/site-packages (from flax==0.6.0) (4.5.0)\r\n",
      "Requirement already satisfied: jax>=0.3.16 in /opt/conda/envs/default/lib/python3.8/site-packages (from flax==0.6.0) (0.4.12)\r\n",
      "Requirement already satisfied: matplotlib in /opt/conda/envs/default/lib/python3.8/site-packages (from flax==0.6.0) (3.7.4)\r\n",
      "Requirement already satisfied: numpy>=1.12 in /opt/conda/envs/default/lib/python3.8/site-packages (from flax==0.6.0) (1.23.5)\r\n",
      "Requirement already satisfied: scipy>=1.7 in /opt/conda/envs/default/lib/python3.8/site-packages (from jax>=0.3.16->flax==0.6.0) (1.10.0)\r\n",
      "Requirement already satisfied: importlib-metadata>=4.6 in /opt/conda/envs/default/lib/python3.8/site-packages (from jax>=0.3.16->flax==0.6.0) (4.11.3)\r\n",
      "Requirement already satisfied: ml-dtypes>=0.1.0 in /opt/conda/envs/default/lib/python3.8/site-packages (from jax>=0.3.16->flax==0.6.0) (0.2.0)\r\n",
      "Requirement already satisfied: opt-einsum in /opt/conda/envs/default/lib/python3.8/site-packages (from jax>=0.3.16->flax==0.6.0) (3.3.0)\r\n",
      "Collecting colorama<0.5.0,>=0.4.0\r\n",
      "  Downloading https://pypi.tuna.tsinghua.edu.cn/packages/d1/d6/3965ed04c63042e047cb6a3e6ed1a63a35087b6a609aa3a15ed8ac56c221/colorama-0.4.6-py2.py3-none-any.whl (25 kB)\r\n",
      "Requirement already satisfied: pygments<3.0.0,>=2.6.0 in /opt/conda/envs/default/lib/python3.8/site-packages (from rich~=11.1->flax==0.6.0) (2.17.2)\r\n",
      "Collecting commonmark<0.10.0,>=0.9.0\r\n",
      "  Using cached https://pypi.tuna.tsinghua.edu.cn/packages/b1/92/dfd892312d822f36c55366118b95d914e5f16de11044a27cf10a7d71bbbf/commonmark-0.9.1-py2.py3-none-any.whl (51 kB)\r\n",
      "Requirement already satisfied: packaging>=20.0 in /opt/conda/envs/default/lib/python3.8/site-packages (from matplotlib->flax==0.6.0) (22.0)\r\n",
      "Requirement already satisfied: pyparsing>=2.3.1 in /opt/conda/envs/default/lib/python3.8/site-packages (from matplotlib->flax==0.6.0) (3.1.1)\r\n",
      "Requirement already satisfied: cycler>=0.10 in /opt/conda/envs/default/lib/python3.8/site-packages (from matplotlib->flax==0.6.0) (0.12.1)\r\n",
      "Requirement already satisfied: kiwisolver>=1.0.1 in /opt/conda/envs/default/lib/python3.8/site-packages (from matplotlib->flax==0.6.0) (1.4.5)\r\n",
      "Requirement already satisfied: pillow>=6.2.0 in /opt/conda/envs/default/lib/python3.8/site-packages (from matplotlib->flax==0.6.0) (9.4.0)\r\n",
      "Requirement already satisfied: importlib-resources>=3.2.0 in /opt/conda/envs/default/lib/python3.8/site-packages (from matplotlib->flax==0.6.0) (6.1.1)\r\n",
      "Requirement already satisfied: contourpy>=1.0.1 in /opt/conda/envs/default/lib/python3.8/site-packages (from matplotlib->flax==0.6.0) (1.1.1)\r\n",
      "Requirement already satisfied: python-dateutil>=2.7 in /opt/conda/envs/default/lib/python3.8/site-packages (from matplotlib->flax==0.6.0) (2.8.2)\r\n",
      "Requirement already satisfied: fonttools>=4.22.0 in /opt/conda/envs/default/lib/python3.8/site-packages (from matplotlib->flax==0.6.0) (4.47.0)\r\n",
      "Requirement already satisfied: jaxlib>=0.1.37 in /opt/conda/envs/default/lib/python3.8/site-packages (from optax->flax==0.6.0) (0.4.12)\r\n",
      "Requirement already satisfied: absl-py>=0.7.1 in /opt/conda/envs/default/lib/python3.8/site-packages (from optax->flax==0.6.0) (1.3.0)\r\n",
      "Collecting chex>=0.1.5\r\n",
      "  Downloading https://pypi.tuna.tsinghua.edu.cn/packages/03/5f/3b0fd7ea23aa13a61430256234cf43895c29d6d0bbe7e98b68c6eaebbd48/chex-0.1.7-py3-none-any.whl (89 kB)\r\n",
      "\u001B[2K     \u001B[90m━━━━━━━━━━━━━━━━━━━━━━━━━━━━━━━━━━━━━━━━\u001B[0m \u001B[32m89.6/89.6 kB\u001B[0m \u001B[31m1.6 MB/s\u001B[0m eta \u001B[36m0:00:00\u001B[0ma \u001B[36m0:00:01\u001B[0m\r\n",
      "\u001B[?25hCollecting toolz>=0.9.0\r\n",
      "  Downloading https://pypi.tuna.tsinghua.edu.cn/packages/7f/5c/922a3508f5bda2892be3df86c74f9cf1e01217c2b1f8a0ac4841d903e3e9/toolz-0.12.0-py3-none-any.whl (55 kB)\r\n",
      "\u001B[2K     \u001B[90m━━━━━━━━━━━━━━━━━━━━━━━━━━━━━━━━━━━━━━━━\u001B[0m \u001B[32m55.8/55.8 kB\u001B[0m \u001B[31m11.2 MB/s\u001B[0m eta \u001B[36m0:00:00\u001B[0m\r\n",
      "\u001B[?25hCollecting dm-tree>=0.1.5\r\n",
      "  Downloading https://pypi.tuna.tsinghua.edu.cn/packages/e3/03/cd776c4f224aabe06225c3661f79e1114dbe337506ae9039575eb06cc568/dm_tree-0.1.8-cp38-cp38-manylinux_2_17_x86_64.manylinux2014_x86_64.whl (152 kB)\r\n",
      "\u001B[2K     \u001B[90m━━━━━━━━━━━━━━━━━━━━━━━━━━━━━━━━━━━━━━━\u001B[0m \u001B[32m152.9/152.9 kB\u001B[0m \u001B[31m4.6 MB/s\u001B[0m eta \u001B[36m0:00:00\u001B[0m\r\n",
      "\u001B[?25hRequirement already satisfied: zipp>=0.5 in /opt/conda/envs/default/lib/python3.8/site-packages (from importlib-metadata>=4.6->jax>=0.3.16->flax==0.6.0) (3.11.0)\r\n",
      "Requirement already satisfied: six>=1.5 in /opt/conda/envs/default/lib/python3.8/site-packages (from python-dateutil>=2.7->matplotlib->flax==0.6.0) (1.16.0)\r\n",
      "Installing collected packages: dm-tree, commonmark, toolz, colorama, rich, chex, optax, flax\r\n",
      "Successfully installed chex-0.1.7 colorama-0.4.6 commonmark-0.9.1 dm-tree-0.1.8 flax-0.6.0 optax-0.1.7 rich-11.2.0 toolz-0.12.0\r\n",
      "\u001B[33mWARNING: Running pip as the 'root' user can result in broken permissions and conflicting behaviour with the system package manager. It is recommended to use a virtual environment instead: https://pip.pypa.io/warnings/venv\u001B[0m\u001B[33m\r\n",
      "\u001B[0m"
     ]
    }
   ],
   "source": [
    "import sys\n",
    "\n",
    "!{sys.executable} -m pip install flax==0.6.0"
   ]
  },
  {
   "cell_type": "code",
   "execution_count": 2,
   "metadata": {
    "pycharm": {
     "name": "#%%\n"
    }
   },
   "outputs": [],
   "source": [
    "import numpy as np\n",
    "from sklearn.datasets import load_breast_cancer\n",
    "from sklearn.model_selection import train_test_split\n",
    "from sklearn.preprocessing import Normalizer\n",
    "\n",
    "\n",
    "def breast_cancer(party_id=None, train: bool = True) -> (np.ndarray, np.ndarray):\n",
    "    x, y = load_breast_cancer(return_X_y=True)\n",
    "    x = (x - np.min(x)) / (np.max(x) - np.min(x))\n",
    "    x_train, x_test, y_train, y_test = train_test_split(\n",
    "        x, y, test_size=0.2, random_state=42\n",
    "    )\n",
    "\n",
    "    if train:\n",
    "        if party_id:\n",
    "            if party_id == 1:\n",
    "                return x_train[:, :15], _\n",
    "            else:\n",
    "                return x_train[:, 15:], y_train\n",
    "        else:\n",
    "            return x_train, y_train\n",
    "    else:\n",
    "        return x_test, y_test"
   ]
  },
  {
   "attachments": {},
   "cell_type": "markdown",
   "metadata": {
    "pycharm": {
     "name": "#%% md\n"
    }
   },
   "source": [
    "### Define the Model\n",
    "\n",
    "\n",
    "We are going to use a 4-layer [MLP](https://en.wikipedia.org/wiki/Multilayer_perceptron) model with a [ReLU](https://en.wikipedia.org/wiki/Rectifier_(neural_networks)) activation function here."
   ]
  },
  {
   "cell_type": "code",
   "execution_count": 3,
   "metadata": {
    "pycharm": {
     "name": "#%%\n"
    }
   },
   "outputs": [
    {
     "name": "stderr",
     "output_type": "stream",
     "text": [
      "/opt/conda/envs/default/lib/python3.8/site-packages/flax/struct.py:132: FutureWarning: jax.tree_util.register_keypaths is deprecated, and will be removed in a future release. Please use `register_pytree_with_keys()` instead.\n",
      "  jax.tree_util.register_keypaths(data_clz, keypaths)\n",
      "/opt/conda/envs/default/lib/python3.8/site-packages/flax/struct.py:132: FutureWarning: jax.tree_util.register_keypaths is deprecated, and will be removed in a future release. Please use `register_pytree_with_keys()` instead.\n",
      "  jax.tree_util.register_keypaths(data_clz, keypaths)\n"
     ]
    }
   ],
   "source": [
    "from typing import Sequence\n",
    "import flax.linen as nn\n",
    "\n",
    "\n",
    "FEATURES = [30, 15, 8, 1]\n",
    "\n",
    "\n",
    "class MLP(nn.Module):\n",
    "    features: Sequence[int]\n",
    "\n",
    "    @nn.compact\n",
    "    def __call__(self, x):\n",
    "        for feat in self.features[:-1]:\n",
    "            x = nn.relu(nn.Dense(feat)(x))\n",
    "        x = nn.Dense(self.features[-1])(x)\n",
    "        return x"
   ]
  },
  {
   "attachments": {},
   "cell_type": "markdown",
   "metadata": {
    "pycharm": {
     "name": "#%% md\n"
    }
   },
   "source": [
    "Then we define the training method here."
   ]
  },
  {
   "cell_type": "code",
   "execution_count": 4,
   "metadata": {
    "pycharm": {
     "name": "#%%\n"
    }
   },
   "outputs": [],
   "source": [
    "import jax.numpy as jnp\n",
    "\n",
    "\n",
    "def predict(params, x):\n",
    "    # TODO(junfeng): investigate why need to have a duplicated definition in notebook,\n",
    "    # which is not the case in a normal python program.\n",
    "    from typing import Sequence\n",
    "    import flax.linen as nn\n",
    "\n",
    "    FEATURES = [30, 15, 8, 1]\n",
    "\n",
    "    class MLP(nn.Module):\n",
    "        features: Sequence[int]\n",
    "\n",
    "        @nn.compact\n",
    "        def __call__(self, x):\n",
    "            for feat in self.features[:-1]:\n",
    "                x = nn.relu(nn.Dense(feat)(x))\n",
    "            x = nn.Dense(self.features[-1])(x)\n",
    "            return x\n",
    "\n",
    "    return MLP(FEATURES).apply(params, x)\n",
    "\n",
    "\n",
    "def loss_func(params, x, y):\n",
    "    pred = predict(params, x)\n",
    "\n",
    "    def mse(y, pred):\n",
    "        def squared_error(y, y_pred):\n",
    "            return jnp.multiply(y - y_pred, y - y_pred) / 2.0\n",
    "\n",
    "        return jnp.mean(squared_error(y, pred))\n",
    "\n",
    "    return mse(y, pred)\n",
    "\n",
    "\n",
    "def train_auto_grad(x1, x2, y, params, n_batch=10, n_epochs=10, step_size=0.01):\n",
    "    x = jnp.concatenate((x1, x2), axis=1)\n",
    "    xs = jnp.array_split(x, len(x) / n_batch, axis=0)\n",
    "    ys = jnp.array_split(y, len(y) / n_batch, axis=0)\n",
    "\n",
    "    def body_fun(_, loop_carry):\n",
    "        params = loop_carry\n",
    "        for x, y in zip(xs, ys):\n",
    "            _, grads = jax.value_and_grad(loss_func)(params, x, y)\n",
    "            params = jax.tree_util.tree_map(\n",
    "                lambda p, g: p - step_size * g, params, grads\n",
    "            )\n",
    "        return params\n",
    "\n",
    "    params = jax.lax.fori_loop(0, n_epochs, body_fun, params)\n",
    "    return params\n",
    "\n",
    "\n",
    "def model_init(n_batch=10):\n",
    "    model = MLP(FEATURES)\n",
    "    return model.init(jax.random.PRNGKey(1), jnp.ones((n_batch, FEATURES[0])))"
   ]
  },
  {
   "attachments": {},
   "cell_type": "markdown",
   "metadata": {
    "pycharm": {
     "name": "#%% md\n"
    }
   },
   "source": [
    "### Validate the Model\n",
    "\n",
    "We use AUC as the validation metric."
   ]
  },
  {
   "cell_type": "code",
   "execution_count": 5,
   "metadata": {
    "pycharm": {
     "name": "#%%\n"
    }
   },
   "outputs": [],
   "source": [
    "from sklearn.metrics import roc_auc_score\n",
    "\n",
    "\n",
    "def validate_model(params, X_test, y_test):\n",
    "    y_pred = predict(params, X_test)\n",
    "    return roc_auc_score(y_test, y_pred)"
   ]
  },
  {
   "attachments": {},
   "cell_type": "markdown",
   "metadata": {
    "pycharm": {
     "name": "#%% md\n"
    }
   },
   "source": [
    "### BUILD Together\n",
    "\n",
    "Let's put everything together and train a plaintext NN model!"
   ]
  },
  {
   "cell_type": "code",
   "execution_count": 6,
   "metadata": {
    "pycharm": {
     "name": "#%%\n"
    }
   },
   "outputs": [
    {
     "name": "stderr",
     "output_type": "stream",
     "text": [
      "No GPU/TPU found, falling back to CPU. (Set TF_CPP_MIN_LOG_LEVEL=0 and rerun for more info.)\n"
     ]
    },
    {
     "name": "stdout",
     "output_type": "stream",
     "text": [
      "auc=0.9927939731411726\n"
     ]
    }
   ],
   "source": [
    "import jax\n",
    "\n",
    "# Load the data\n",
    "x1, _ = breast_cancer(party_id=1, train=True)\n",
    "x2, y = breast_cancer(party_id=2, train=True)\n",
    "\n",
    "\n",
    "# Hyperparameter\n",
    "n_batch = 10\n",
    "n_epochs = 10\n",
    "step_size = 0.01\n",
    "\n",
    "\n",
    "# Train the model\n",
    "init_params = model_init(n_batch)\n",
    "params = train_auto_grad(x1, x2, y, init_params, n_batch, n_epochs, step_size)\n",
    "\n",
    "# Test the model\n",
    "X_test, y_test = breast_cancer(train=False)\n",
    "auc = validate_model(params, X_test, y_test)\n",
    "print(f'auc={auc}')"
   ]
  },
  {
   "attachments": {},
   "cell_type": "markdown",
   "metadata": {
    "pycharm": {
     "name": "#%% md\n"
    }
   },
   "source": [
    "Must keep the number of AUC in mind, we are going to repeat the training with SPU. Let's do that magic!"
   ]
  },
  {
   "attachments": {},
   "cell_type": "markdown",
   "metadata": {
    "pycharm": {
     "name": "#%% md\n"
    }
   },
   "source": [
    "\n",
    "## Train a Model with SPU"
   ]
  },
  {
   "cell_type": "code",
   "execution_count": 7,
   "metadata": {
    "pycharm": {
     "name": "#%%\n"
    }
   },
   "outputs": [
    {
     "name": "stdout",
     "output_type": "stream",
     "text": [
      "The version of SecretFlow: 1.4.0.dev20240105\n"
     ]
    },
    {
     "name": "stderr",
     "output_type": "stream",
     "text": [
      "2024-01-09 13:00:36,205\tINFO worker.py:1538 -- Started a local Ray instance.\n",
      "\u001B[2m\u001B[36m(_run pid=127705)\u001B[0m INFO:jax._src.xla_bridge:Unable to initialize backend 'cuda': module 'jaxlib.xla_extension' has no attribute 'GpuAllocatorConfig'\n",
      "\u001B[2m\u001B[36m(_run pid=127705)\u001B[0m INFO:jax._src.xla_bridge:Unable to initialize backend 'rocm': module 'jaxlib.xla_extension' has no attribute 'GpuAllocatorConfig'\n",
      "\u001B[2m\u001B[36m(_run pid=127705)\u001B[0m INFO:jax._src.xla_bridge:Unable to initialize backend 'tpu': INVALID_ARGUMENT: TpuPlatform is not available.\n",
      "\u001B[2m\u001B[36m(_run pid=127705)\u001B[0m INFO:jax._src.xla_bridge:Unable to initialize backend 'plugin': xla_extension has no attributes named get_plugin_device_client. Compile TensorFlow with //tensorflow/compiler/xla/python:enable_plugin_device set to true (defaults to false) to enable this.\n",
      "\u001B[2m\u001B[36m(_run pid=127705)\u001B[0m WARNING:jax._src.xla_bridge:No GPU/TPU found, falling back to CPU. (Set TF_CPP_MIN_LOG_LEVEL=0 and rerun for more info.)\n",
      "\u001B[2m\u001B[36m(_run pid=127682)\u001B[0m INFO:jax._src.xla_bridge:Unable to initialize backend 'cuda': module 'jaxlib.xla_extension' has no attribute 'GpuAllocatorConfig'\n",
      "\u001B[2m\u001B[36m(_run pid=127682)\u001B[0m INFO:jax._src.xla_bridge:Unable to initialize backend 'rocm': module 'jaxlib.xla_extension' has no attribute 'GpuAllocatorConfig'\n",
      "\u001B[2m\u001B[36m(_run pid=127682)\u001B[0m INFO:jax._src.xla_bridge:Unable to initialize backend 'tpu': INVALID_ARGUMENT: TpuPlatform is not available.\n",
      "\u001B[2m\u001B[36m(_run pid=127682)\u001B[0m INFO:jax._src.xla_bridge:Unable to initialize backend 'plugin': xla_extension has no attributes named get_plugin_device_client. Compile TensorFlow with //tensorflow/compiler/xla/python:enable_plugin_device set to true (defaults to false) to enable this.\n",
      "\u001B[2m\u001B[36m(_run pid=127682)\u001B[0m WARNING:jax._src.xla_bridge:No GPU/TPU found, falling back to CPU. (Set TF_CPP_MIN_LOG_LEVEL=0 and rerun for more info.)\n",
      "\u001B[2m\u001B[36m(_run pid=127682)\u001B[0m /opt/conda/envs/default/lib/python3.8/site-packages/flax/struct.py:132: FutureWarning: jax.tree_util.register_keypaths is deprecated, and will be removed in a future release. Please use `register_pytree_with_keys()` instead.\n",
      "\u001B[2m\u001B[36m(_run pid=127682)\u001B[0m   jax.tree_util.register_keypaths(data_clz, keypaths)\n"
     ]
    }
   ],
   "source": [
    "import secretflow as sf\n",
    "\n",
    "# Check the version of your SecretFlow\n",
    "print('The version of SecretFlow: {}'.format(sf.__version__))\n",
    "\n",
    "# In case you have a running secretflow runtime already.\n",
    "sf.shutdown()\n",
    "\n",
    "sf.init(['alice', 'bob'], address='local')\n",
    "\n",
    "alice, bob = sf.PYU('alice'), sf.PYU('bob')\n",
    "spu = sf.SPU(sf.utils.testing.cluster_def(['alice', 'bob']))\n",
    "\n",
    "x1, _ = alice(breast_cancer)(party_id=1, train=True)\n",
    "x2, y = bob(breast_cancer)(party_id=2, train=True)\n",
    "init_params = model_init(n_batch)\n",
    "\n",
    "\n",
    "device = spu\n",
    "x1_, x2_, y_ = x1.to(device), x2.to(device), y.to(device)\n",
    "init_params_ = sf.to(alice, init_params).to(device)\n",
    "\n",
    "params_spu = spu(train_auto_grad, static_argnames=['n_batch', 'n_epochs', 'step_size'])(\n",
    "    x1_, x2_, y_, init_params_, n_batch=n_batch, n_epochs=n_epochs, step_size=step_size\n",
    ")"
   ]
  },
  {
   "attachments": {},
   "cell_type": "markdown",
   "metadata": {
    "pycharm": {
     "name": "#%% md\n"
    }
   },
   "source": [
    "Let's check params from SPU program."
   ]
  },
  {
   "cell_type": "code",
   "execution_count": 8,
   "metadata": {
    "pycharm": {
     "name": "#%%\n"
    }
   },
   "outputs": [
    {
     "name": "stdout",
     "output_type": "stream",
     "text": [
      "FrozenDict({\n",
      "    params: {\n",
      "        Dense_0: {\n",
      "            bias: array([ 0.0000000e+00,  0.0000000e+00,  0.0000000e+00, -8.4451437e-03,\n",
      "                    4.7277704e-02,  3.7617981e-04,  0.0000000e+00,  4.5649856e-03,\n",
      "                    0.0000000e+00, -3.4031883e-02, -8.4132552e-03,  0.0000000e+00,\n",
      "                    0.0000000e+00,  5.6682855e-02, -4.8433691e-03,  0.0000000e+00,\n",
      "                    3.5731852e-02,  6.3550174e-03,  2.9712766e-03,  3.2665446e-02,\n",
      "                    0.0000000e+00, -2.1323442e-02, -7.8181922e-03,  0.0000000e+00,\n",
      "                    2.8501809e-02,  0.0000000e+00, -3.0903816e-03,  3.8713217e-05,\n",
      "                    1.4437422e-02,  2.0847902e-02], dtype=float32),\n",
      "            kernel: array([[-0.14871399, -0.23531966, -0.1493772 , -0.01558909, -0.13323145,\n",
      "                     0.19175905, -0.03680335, -0.03745112, -0.14176767,  0.03231008,\n",
      "                     0.126527  , -0.40251398, -0.16895528,  0.21399264, -0.13845314,\n",
      "                     0.10585146, -0.116028  ,  0.38624388,  0.0596592 ,  0.06317499,\n",
      "                     0.07793002, -0.01319626, -0.28805003, -0.09602834,  0.11111298,\n",
      "                    -0.08544238,  0.0754645 , -0.04119568, -0.38267487,  0.23766652],\n",
      "                   [ 0.17794432,  0.22939444, -0.24440876, -0.14850295,  0.3370114 ,\n",
      "                     0.02583419, -0.04215176,  0.41052255,  0.32438686, -0.16436426,\n",
      "                     0.08169028,  0.05258645,  0.31134155,  0.2931767 ,  0.12269615,\n",
      "                    -0.38753128, -0.38534912, -0.06536661, -0.25915563, -0.33227918,\n",
      "                    -0.31588346, -0.29118288, -0.06018965,  0.22978456,  0.10113728,\n",
      "                    -0.0131004 ,  0.1788083 , -0.23216502,  0.38280028,  0.0380592 ],\n",
      "                   [ 0.14288743, -0.02135937,  0.16818418,  0.08982223, -0.38853183,\n",
      "                    -0.04851235,  0.13870293, -0.05801412,  0.2847225 , -0.12711638,\n",
      "                     0.2570215 ,  0.09647745,  0.11669752, -0.18962525, -0.03995334,\n",
      "                    -0.09573793,  0.07307941,  0.14650014,  0.09225564,  0.03891344,\n",
      "                    -0.24625295,  0.03725123, -0.0191496 , -0.2521044 ,  0.17078339,\n",
      "                     0.24981512, -0.00287426, -0.09845662,  0.20796733,  0.08842869],\n",
      "                   [-0.22512461, -0.00447209, -0.04558258, -0.04286547, -0.13055398,\n",
      "                    -0.342715  , -0.00925776,  0.09015702, -0.28249556,  0.22021823,\n",
      "                     0.11645882,  0.0447506 , -0.05022046,  0.29517627, -0.23622905,\n",
      "                     0.05994216,  0.25964022,  0.18784173,  0.14600962,  0.29655713,\n",
      "                     0.03958386,  0.1607072 , -0.11334942, -0.06969583,  0.26477388,\n",
      "                    -0.31787586,  0.08121119,  0.25562373, -0.0590068 ,  0.1953017 ],\n",
      "                   [-0.24255335,  0.0796814 , -0.06769416, -0.1174756 ,  0.18755543,\n",
      "                    -0.06138656, -0.05366787, -0.06935158,  0.07923843,  0.02540362,\n",
      "                    -0.3185805 ,  0.28704095, -0.06028181, -0.30149528, -0.17661636,\n",
      "                     0.07973169,  0.16141285,  0.3279423 ,  0.20514381,  0.30348167,\n",
      "                     0.27109915,  0.276549  ,  0.07070903,  0.20799829, -0.07334302,\n",
      "                    -0.10325597,  0.01552789,  0.3175755 ,  0.31676432, -0.06809765],\n",
      "                   [ 0.07325247,  0.06063734,  0.05307055,  0.17843872,  0.18786643,\n",
      "                     0.17703721,  0.08110298,  0.01481715, -0.04425612,  0.06165445,\n",
      "                     0.2882648 ,  0.05877423,  0.2642675 ,  0.1208673 , -0.021826  ,\n",
      "                    -0.15167004, -0.04630706,  0.00737353,  0.28398228,  0.10079387,\n",
      "                    -0.3035403 , -0.3135135 , -0.17609774,  0.11222892,  0.11561266,\n",
      "                    -0.27606148, -0.0686862 ,  0.06135447,  0.30819786, -0.28001505],\n",
      "                   [-0.25858742, -0.01557118,  0.27712947, -0.3840119 ,  0.39872223,\n",
      "                    -0.1292007 , -0.02737655,  0.17572278,  0.13031279,  0.15869991,\n",
      "                    -0.02626179,  0.2941114 ,  0.03558348,  0.03587033, -0.29661226,\n",
      "                    -0.1697014 ,  0.02999404,  0.16187157, -0.17532946, -0.08768117,\n",
      "                    -0.04855376, -0.10537764,  0.08300756, -0.04356985, -0.25447178,\n",
      "                    -0.09856978, -0.04167299, -0.04678065, -0.33534786, -0.11826634],\n",
      "                   [ 0.27912214, -0.07000907, -0.02482197,  0.04388474, -0.08831032,\n",
      "                    -0.00139716,  0.08730513, -0.24835463,  0.15355726, -0.12888056,\n",
      "                    -0.00434987, -0.00280654, -0.0779365 , -0.10295221,  0.24092263,\n",
      "                    -0.2569998 ,  0.29179442, -0.19479953, -0.27556106,  0.01552372,\n",
      "                     0.12702632,  0.12880218,  0.15365955,  0.14312764,  0.06206776,\n",
      "                    -0.11138317,  0.05906248, -0.11649914,  0.01586542, -0.20324308],\n",
      "                   [ 0.06792215,  0.08562456, -0.09105198,  0.17886126,  0.07519934,\n",
      "                    -0.13828582,  0.33566758, -0.14806125, -0.03185603,  0.3923645 ,\n",
      "                    -0.13354073,  0.19828129,  0.05120739, -0.0460806 , -0.12948762,\n",
      "                    -0.22251473,  0.12676881,  0.39127856, -0.11602698,  0.00092493,\n",
      "                    -0.07845783,  0.17063628,  0.27078637,  0.06742911,  0.07425465,\n",
      "                    -0.00924775, -0.00354195, -0.3685602 , -0.12303342,  0.2205559 ],\n",
      "                   [ 0.02833255, -0.12450694,  0.17980424,  0.15363531,  0.05482808,\n",
      "                     0.1917102 , -0.09493516,  0.06867217, -0.07678868, -0.01939401,\n",
      "                     0.05700712, -0.39339092,  0.05287276,  0.37949058,  0.24640974,\n",
      "                    -0.12122658,  0.03999816, -0.38035646,  0.1954074 , -0.09051426,\n",
      "                     0.32060203,  0.01484738, -0.03493978,  0.11108357, -0.33724403,\n",
      "                    -0.30602393, -0.11325407,  0.159679  ,  0.06750792,  0.10088509],\n",
      "                   [ 0.16804892,  0.19497408, -0.09764463, -0.14558756,  0.1015154 ,\n",
      "                    -0.31742734, -0.11584353, -0.2865643 , -0.10121611, -0.13013038,\n",
      "                     0.1979888 , -0.06929785,  0.00182401, -0.06140102, -0.23813426,\n",
      "                     0.14183137,  0.4120589 , -0.11150962, -0.07696676, -0.03938384,\n",
      "                    -0.05823901, -0.25617266,  0.17550942, -0.05777389,  0.04626945,\n",
      "                     0.12045561,  0.31443766, -0.18237962, -0.16254574, -0.09767349],\n",
      "                   [-0.06191421, -0.1155844 ,  0.0726438 ,  0.12529251,  0.20683457,\n",
      "                     0.15766312, -0.08057442, -0.19450332,  0.02132484,  0.23542906,\n",
      "                    -0.17701548, -0.3511722 , -0.22017696,  0.0313717 ,  0.10099782,\n",
      "                    -0.4008683 , -0.13381521, -0.06594004, -0.141231  , -0.17201558,\n",
      "                    -0.06661722,  0.0994027 , -0.03092405,  0.25938374,  0.06447133,\n",
      "                    -0.25064036, -0.03492746,  0.08023167,  0.2555614 , -0.2408993 ],\n",
      "                   [ 0.0089751 , -0.40074265, -0.0630265 ,  0.06182684,  0.3735701 ,\n",
      "                     0.03176697,  0.27502176, -0.2881164 , -0.20248234,  0.16113214,\n",
      "                    -0.21795334,  0.10631423,  0.00266191, -0.27301705,  0.07528846,\n",
      "                     0.07777505,  0.02632894,  0.09457088, -0.2833836 ,  0.02558233,\n",
      "                     0.17132387,  0.04772921, -0.01300114, -0.09193201,  0.22021306,\n",
      "                    -0.19897453,  0.34152794,  0.08680117, -0.0885341 , -0.00905181],\n",
      "                   [ 0.12034325,  0.12541285, -0.36260542,  0.2237128 , -0.07335898,\n",
      "                     0.10497792,  0.00435905, -0.08325297,  0.2286281 , -0.14954613,\n",
      "                     0.08158816, -0.3141489 ,  0.08761807, -0.05525988,  0.08568217,\n",
      "                    -0.02317639, -0.22309199,  0.02857807,  0.10417743,  0.09758742,\n",
      "                     0.08703597,  0.01554348,  0.17367001,  0.08375281, -0.01751374,\n",
      "                    -0.0653795 ,  0.05047971, -0.22945192,  0.05721831,  0.25090095],\n",
      "                   [-0.39711425,  0.10012019, -0.07080775, -0.16265568, -0.13911578,\n",
      "                     0.16160382,  0.1602145 , -0.0078945 ,  0.05427746,  0.16592924,\n",
      "                     0.22369802,  0.36696285,  0.06149234, -0.04858205,  0.33451793,\n",
      "                    -0.07261233,  0.19389208, -0.0600352 , -0.30302727,  0.17182074,\n",
      "                     0.29064044,  0.21396409,  0.04790883,  0.09809829,  0.10329904,\n",
      "                     0.12731801, -0.05798505,  0.15246147, -0.3666386 ,  0.17798506],\n",
      "                   [ 0.01063947,  0.08888602,  0.2685741 ,  0.34396145,  0.06943248,\n",
      "                     0.30761194, -0.15886995,  0.002647  ,  0.04297216, -0.06384341,\n",
      "                    -0.01198623, -0.10141458,  0.0390074 , -0.02127337,  0.13492529,\n",
      "                    -0.16071658, -0.2763866 , -0.11029261,  0.12214151, -0.25607044,\n",
      "                    -0.08863828,  0.0359699 , -0.17324619,  0.12558362,  0.14787778,\n",
      "                     0.0970176 ,  0.17842567,  0.08070078,  0.07187246,  0.08295521],\n",
      "                   [ 0.14691211,  0.13539682, -0.05013725, -0.2566474 , -0.23767048,\n",
      "                     0.21671404,  0.13727273, -0.03883481,  0.39051494,  0.00476642,\n",
      "                     0.14543658, -0.06966858, -0.15188436,  0.0667825 , -0.24012764,\n",
      "                     0.3115953 ,  0.06627277, -0.25304687, -0.20176578, -0.22605054,\n",
      "                     0.13813484, -0.14101881,  0.3429036 ,  0.1295524 ,  0.28457743,\n",
      "                     0.06187631, -0.22961025,  0.2912134 , -0.08083463, -0.3445445 ],\n",
      "                   [-0.01825674,  0.12697385,  0.11828473, -0.08935878, -0.04363643,\n",
      "                    -0.06176041, -0.11145921, -0.06697071, -0.34101105, -0.2551304 ,\n",
      "                    -0.14840546, -0.2012809 , -0.00368209,  0.05239142,  0.06488031,\n",
      "                     0.08271401,  0.05891094,  0.21343403, -0.1379397 ,  0.30933142,\n",
      "                    -0.09877008, -0.15072913, -0.10378319,  0.03409073,  0.09370099,\n",
      "                    -0.22453101,  0.35971862,  0.2400895 , -0.0308388 , -0.10381861],\n",
      "                   [-0.14539114,  0.17940336,  0.01638718, -0.27063203, -0.02601306,\n",
      "                    -0.03973667, -0.03252296,  0.03152588, -0.15473387, -0.09656377,\n",
      "                     0.04075833,  0.12999703, -0.19559053, -0.17638873,  0.12239657,\n",
      "                    -0.26904342,  0.2714424 , -0.07005237, -0.07336596,  0.03824538,\n",
      "                     0.22631611,  0.30120713,  0.02216683, -0.30002955, -0.06067078,\n",
      "                    -0.07689847, -0.37136936,  0.19664557, -0.10526316, -0.2740894 ],\n",
      "                   [ 0.05383714,  0.03157908, -0.00410651, -0.04451689, -0.1007715 ,\n",
      "                    -0.06426769,  0.31361273, -0.13607042,  0.12432167, -0.10924788,\n",
      "                    -0.03941238,  0.22020288, -0.07174791,  0.08708772,  0.04954608,\n",
      "                     0.36316663,  0.00659099, -0.15839447,  0.09209345, -0.17415547,\n",
      "                    -0.14203098,  0.38341942,  0.02246687,  0.00735356, -0.02806291,\n",
      "                    -0.15888669,  0.03910066, -0.09437944,  0.21786481,  0.01439768],\n",
      "                   [-0.093013  , -0.19803196, -0.31412685,  0.17170627,  0.13317342,\n",
      "                    -0.14113764, -0.21318686, -0.16238143,  0.0943417 ,  0.14660108,\n",
      "                     0.01858082, -0.0221183 , -0.14671399,  0.392777  , -0.20137507,\n",
      "                     0.10903868, -0.02885675, -0.1521019 ,  0.17431213,  0.07787177,\n",
      "                     0.09585002,  0.10286078,  0.18952505, -0.15745284,  0.09723194,\n",
      "                    -0.26545548, -0.05130722,  0.0804038 ,  0.05854781,  0.2478602 ],\n",
      "                   [ 0.05508049,  0.23070964,  0.00277765, -0.05163908, -0.13319314,\n",
      "                     0.17230502, -0.03837845,  0.1723369 , -0.12099533, -0.12201288,\n",
      "                    -0.16572408, -0.08696222, -0.01523115, -0.3166934 ,  0.19612937,\n",
      "                    -0.20850554,  0.3456449 ,  0.25258505,  0.03058533, -0.23635747,\n",
      "                    -0.02455695, -0.07402435,  0.18045601,  0.0800463 ,  0.02340339,\n",
      "                     0.05160186,  0.08303368, -0.10962111,  0.20512357,  0.05485095],\n",
      "                   [-0.29294893,  0.0158273 , -0.00053273,  0.07538936,  0.17627096,\n",
      "                     0.16074753,  0.0059112 , -0.02527507, -0.27194142, -0.2642206 ,\n",
      "                     0.17577408,  0.26843715, -0.16067582,  0.00550754, -0.41349018,\n",
      "                     0.13214995,  0.20718686, -0.09203243, -0.32120806,  0.03001133,\n",
      "                    -0.03515691, -0.11420843,  0.00691305,  0.06026545,  0.31073356,\n",
      "                     0.31373236,  0.15468074,  0.23843397,  0.20546597,  0.16574623],\n",
      "                   [-0.13176121, -0.09717393, -0.21108817,  0.3068897 ,  0.13686793,\n",
      "                     0.2546362 , -0.2318604 ,  0.2653913 , -0.20205683,  0.26761854,\n",
      "                    -0.01473901, -0.17002106, -0.00166056,  0.10116155,  0.2831679 ,\n",
      "                    -0.10187809,  0.02499977,  0.09213197, -0.06187941,  0.05129622,\n",
      "                    -0.13957006,  0.2983256 ,  0.1642478 , -0.20014518,  0.10159896,\n",
      "                    -0.09227319, -0.09285481, -0.24736916,  0.28200024,  0.18463345],\n",
      "                   [-0.19597173, -0.26224336, -0.02397527,  0.14056464, -0.05118136,\n",
      "                     0.09831391,  0.10008648,  0.08763818, -0.20916207, -0.04817778,\n",
      "                     0.11512303, -0.01074605,  0.06285878, -0.14395349,  0.18310112,\n",
      "                     0.18600374, -0.01793544, -0.01051372,  0.29881957,  0.02923441,\n",
      "                     0.15022175, -0.02574198,  0.10514776,  0.32682592, -0.06475691,\n",
      "                    -0.07946987, -0.33096203, -0.33395487,  0.14654098, -0.18609703],\n",
      "                   [-0.04333222,  0.18819539,  0.03159693,  0.11939736, -0.22679476,\n",
      "                     0.0943207 , -0.08721486,  0.25599957, -0.14890689,  0.09946164,\n",
      "                     0.18771924, -0.19527301,  0.08275311, -0.14670579, -0.12542182,\n",
      "                    -0.13777602,  0.09573571, -0.29805326,  0.10540842, -0.11812352,\n",
      "                    -0.23555467, -0.01769881, -0.2976232 ,  0.04321702, -0.04170218,\n",
      "                     0.04330476, -0.1086614 ,  0.35263637,  0.27451837,  0.01663765],\n",
      "                   [ 0.17763095, -0.07081565, -0.1255958 , -0.13399576, -0.22848436,\n",
      "                    -0.20404282,  0.07889004,  0.13384162, -0.31692368, -0.13477235,\n",
      "                    -0.08197711,  0.02778099,  0.02475752,  0.10588098, -0.25831386,\n",
      "                    -0.24312648,  0.03761743,  0.05451228, -0.13535264, -0.10998507,\n",
      "                    -0.31393322,  0.05126177, -0.00060907, -0.15892605, -0.1707863 ,\n",
      "                     0.23628204,  0.08466914,  0.01051675,  0.08872132,  0.16417599],\n",
      "                   [ 0.37543845,  0.06814782,  0.07721338, -0.40397006, -0.05512385,\n",
      "                     0.00878021,  0.33256996,  0.18473423, -0.07991335,  0.20011064,\n",
      "                     0.14145645, -0.15846947, -0.1596188 , -0.18773368, -0.17598425,\n",
      "                    -0.13405162,  0.21313468, -0.13090733,  0.10694379,  0.28709373,\n",
      "                     0.13358122,  0.33037856, -0.26874882, -0.22376873,  0.29355913,\n",
      "                    -0.0348874 ,  0.14831384,  0.12624304, -0.20834139,  0.05822694],\n",
      "                   [ 0.1786205 , -0.12086539, -0.07798681,  0.16461019,  0.13113376,\n",
      "                     0.11193168, -0.02917075, -0.01835175,  0.03707664, -0.3916236 ,\n",
      "                     0.0438028 ,  0.12685025, -0.2031177 ,  0.14990899,  0.08968316,\n",
      "                    -0.14305945,  0.37688762,  0.2545324 ,  0.09407997,  0.3002977 ,\n",
      "                     0.00201203, -0.03300825, -0.31968087,  0.08428498, -0.10359102,\n",
      "                     0.15461805,  0.15203743, -0.00354651, -0.15649006,  0.0319012 ],\n",
      "                   [-0.33499128, -0.18705532,  0.12659647,  0.2714151 , -0.04179843,\n",
      "                    -0.01660363, -0.15886804,  0.14642529,  0.10316479,  0.13912402,\n",
      "                     0.26202345,  0.03827994,  0.17041308,  0.281385  ,  0.0301958 ,\n",
      "                    -0.21716599,  0.05987938,  0.20940782,  0.2781983 , -0.30284625,\n",
      "                     0.21740744,  0.06876218, -0.01624332, -0.09320645,  0.16715516,\n",
      "                    -0.05673492, -0.01679379, -0.33967903,  0.04148197,  0.2417429 ]],\n",
      "                  dtype=float32),\n",
      "        },\n",
      "        Dense_1: {\n",
      "            bias: array([-0.00928332, -0.00438942,  0.06738341,  0.        , -0.01120917,\n",
      "                    0.01074511, -0.02256708, -0.00346462,  0.03708997,  0.0900896 ,\n",
      "                    0.        ,  0.        ,  0.        , -0.01539147,  0.03887202],\n",
      "                  dtype=float32),\n",
      "            kernel: array([[-0.21578984, -0.08009043, -0.34168613, -0.0361702 , -0.04044062,\n",
      "                    -0.1927943 ,  0.07815595,  0.38473648, -0.2709835 ,  0.03089066,\n",
      "                    -0.11207438,  0.12150717,  0.3848398 ,  0.12946524,  0.03025971],\n",
      "                   [ 0.30358258,  0.14899506,  0.02244115,  0.17263442,  0.00111011,\n",
      "                    -0.16067751,  0.17209713, -0.19851246, -0.00883473,  0.06376015,\n",
      "                    -0.09706706, -0.27143684,  0.3290201 ,  0.01247436, -0.20563015],\n",
      "                   [ 0.01422057,  0.25236645,  0.26592228, -0.07877432,  0.02570081,\n",
      "                     0.13746086, -0.30379143, -0.3006696 ,  0.22853018,  0.07396485,\n",
      "                    -0.05445625,  0.06825568, -0.1147591 , -0.04364532, -0.00258724],\n",
      "                   [-0.03808622,  0.3638183 , -0.05992287,  0.16604961, -0.18014555,\n",
      "                     0.17623946, -0.24441266, -0.31743547, -0.06891869, -0.04920378,\n",
      "                     0.13664721, -0.0523686 ,  0.12887284,  0.25823745, -0.0648101 ],\n",
      "                   [ 0.0158176 , -0.00547035,  0.06451046,  0.00376759,  0.05298941,\n",
      "                     0.09622385, -0.33356023,  0.15771128, -0.00316732,  0.3426014 ,\n",
      "                    -0.0192093 , -0.01579043,  0.10246339, -0.02411188,  0.14005005],\n",
      "                   [-0.15425196, -0.18917394, -0.12516876, -0.15351656, -0.20896561,\n",
      "                    -0.03577308,  0.01807143,  0.16850016,  0.0593645 ,  0.03775588,\n",
      "                     0.07395943,  0.03353617,  0.06905574,  0.15163375, -0.26086098],\n",
      "                   [ 0.09053175,  0.31335747, -0.17576236,  0.05338556, -0.19664493,\n",
      "                     0.22920157,  0.21464722,  0.1493361 ,  0.30394968, -0.24031784,\n",
      "                     0.11673151, -0.04494652, -0.03595138,  0.30892205, -0.01469775],\n",
      "                   [-0.0935123 , -0.09242244,  0.29310817,  0.13807979,  0.14410545,\n",
      "                     0.11154774,  0.19201845, -0.22070076,  0.00914794, -0.00838387,\n",
      "                    -0.10840161, -0.04924423,  0.15356652,  0.38943475, -0.15210451],\n",
      "                   [ 0.00290038,  0.18365669,  0.03764611, -0.01739281,  0.18317279,\n",
      "                     0.00409579,  0.09654756,  0.07968089,  0.21979392,  0.22736616,\n",
      "                    -0.15136842,  0.20434377,  0.11873652, -0.33702517,  0.11251152],\n",
      "                   [-0.03700115,  0.05358447, -0.00425881, -0.00428124, -0.20195621,\n",
      "                    -0.12829907,  0.06293514,  0.13846517, -0.17897661, -0.38954085,\n",
      "                    -0.07185909,  0.22984825, -0.11224893,  0.0414518 , -0.38177198],\n",
      "                   [ 0.23527993,  0.16633688, -0.08347444,  0.2034623 , -0.20409594,\n",
      "                    -0.07193291,  0.1120833 ,  0.24517195,  0.23959003, -0.13913585,\n",
      "                    -0.02639589, -0.11256775, -0.2708755 , -0.00493114,  0.13005781],\n",
      "                   [-0.0557088 , -0.3465374 ,  0.29848823, -0.16680802,  0.06142375,\n",
      "                     0.09287459,  0.14722499, -0.12598759, -0.01329686, -0.26824528,\n",
      "                     0.08740366,  0.10008687,  0.126474  ,  0.13801362,  0.25637314],\n",
      "                   [ 0.01379359, -0.19647817,  0.1487906 ,  0.03884296, -0.14404036,\n",
      "                     0.35002947, -0.03261705, -0.11960487, -0.3504191 , -0.09014206,\n",
      "                     0.16814655, -0.17364143, -0.26453283,  0.18936165, -0.30342686],\n",
      "                   [ 0.15264313, -0.1659382 ,  0.28034896, -0.02613993,  0.09317508,\n",
      "                    -0.11453718, -0.02915511,  0.09113984,  0.16308385,  0.16566765,\n",
      "                    -0.16354224, -0.0239345 ,  0.21729939, -0.3755878 ,  0.3643977 ],\n",
      "                   [ 0.27545047, -0.05118337,  0.03051634,  0.38373795,  0.18914245,\n",
      "                    -0.30550474, -0.13651946, -0.09851518, -0.08356339, -0.17306496,\n",
      "                     0.00162853,  0.2703498 , -0.01431669,  0.01418342, -0.2304095 ],\n",
      "                   [-0.11281794, -0.08905558,  0.05266505, -0.03345683,  0.1795441 ,\n",
      "                     0.15272224, -0.05195545,  0.10905784,  0.2167249 , -0.05777529,\n",
      "                     0.29314327, -0.27227783,  0.2271789 , -0.0416695 ,  0.08242023],\n",
      "                   [ 0.11221179,  0.15371773, -0.13823101, -0.18225348, -0.2614    ,\n",
      "                     0.22891787, -0.12165019, -0.20521306,  0.39131486,  0.1977138 ,\n",
      "                     0.00469573, -0.04090644, -0.17770383,  0.2247126 ,  0.24130797],\n",
      "                   [-0.08917224, -0.13332881,  0.11583246, -0.31593603, -0.05461445,\n",
      "                    -0.03294189,  0.17573099, -0.03389843, -0.04562993, -0.00729017,\n",
      "                    -0.20087469, -0.04283047, -0.06482439,  0.00173873,  0.08414239],\n",
      "                   [ 0.10726379,  0.15352641,  0.09634094,  0.01950403, -0.00730225,\n",
      "                    -0.25290015, -0.2346187 ,  0.3561912 ,  0.17616238, -0.18047172,\n",
      "                    -0.25238752, -0.05561563, -0.20358025, -0.13480237,  0.14421605],\n",
      "                   [-0.321292  ,  0.01505679,  0.3207932 ,  0.30846062,  0.0656065 ,\n",
      "                    -0.20671542,  0.07110596,  0.09106274, -0.05796368,  0.06883898,\n",
      "                    -0.24341525,  0.09922644, -0.39771098, -0.1435734 ,  0.18188463],\n",
      "                   [ 0.17828378, -0.3734979 , -0.34489787, -0.18513836, -0.12530549,\n",
      "                    -0.3593558 , -0.21523722,  0.40664414, -0.06089024, -0.12822454,\n",
      "                     0.30890357, -0.05408919,  0.1326272 ,  0.01791927,  0.22214782],\n",
      "                   [-0.15979056, -0.19275308, -0.39843792, -0.13795093,  0.24811043,\n",
      "                    -0.30260295,  0.2533997 ,  0.36626506, -0.04468095,  0.20680591,\n",
      "                     0.10090984, -0.17185582, -0.0115933 ,  0.28760847,  0.07138804],\n",
      "                   [-0.38753942, -0.21487823, -0.349426  , -0.3746059 ,  0.00249283,\n",
      "                    -0.38013476, -0.26022452,  0.06026107, -0.05132043,  0.24081658,\n",
      "                     0.20540601, -0.09037866, -0.16683164,  0.24142437, -0.2669359 ],\n",
      "                   [-0.20973277, -0.0101587 ,  0.16557135,  0.20874728, -0.19013675,\n",
      "                    -0.31780738, -0.03113298, -0.06459363,  0.39771876, -0.26641545,\n",
      "                     0.3113753 , -0.06382816, -0.39697587,  0.10766909,  0.01153809],\n",
      "                   [ 0.18971741,  0.02601422,  0.10644431, -0.21744527, -0.26413256,\n",
      "                     0.15006725,  0.13827564, -0.21841119, -0.06611389,  0.27945757,\n",
      "                    -0.10811286, -0.32185346, -0.03605992,  0.04212932, -0.01747675],\n",
      "                   [ 0.04841596, -0.1742564 ,  0.12262946,  0.32726845, -0.08306259,\n",
      "                    -0.3148705 ,  0.10644473,  0.09955123,  0.07176274, -0.20581172,\n",
      "                     0.04141927, -0.00283223,  0.15970391,  0.19535124, -0.21868774],\n",
      "                   [ 0.18083715,  0.09281988, -0.27907234, -0.32184833,  0.08461116,\n",
      "                    -0.13168141, -0.2221694 ,  0.06936358,  0.10845113, -0.15438794,\n",
      "                    -0.02530034,  0.03963596, -0.01773681,  0.04080664,  0.15702318],\n",
      "                   [ 0.17228594, -0.27421778,  0.03915337, -0.10644263,  0.15347561,\n",
      "                    -0.4077602 , -0.14519481, -0.1972003 ,  0.15163714,  0.08711414,\n",
      "                    -0.01810022,  0.03163131, -0.31662256, -0.08890387, -0.31581807],\n",
      "                   [-0.0976994 , -0.02877451,  0.35823053, -0.27105692,  0.3277493 ,\n",
      "                     0.0807229 ,  0.30246276, -0.19247305, -0.17831796,  0.29237247,\n",
      "                     0.09354727, -0.25247368,  0.12927192,  0.3865862 , -0.39495987],\n",
      "                   [ 0.06277537,  0.08469252, -0.00951549,  0.10955815,  0.09936449,\n",
      "                    -0.19083318,  0.2116159 ,  0.3930412 ,  0.00440568,  0.20088938,\n",
      "                    -0.13770127,  0.27256176, -0.09585688, -0.05922039,  0.33084255]],\n",
      "                  dtype=float32),\n",
      "        },\n",
      "        Dense_2: {\n",
      "            bias: array([-0.01853453,  0.10750304,  0.        , -0.02408609,  0.10219114,\n",
      "                    0.11779818, -0.00741389,  0.        ], dtype=float32),\n",
      "            kernel: array([[ 1.70725256e-01, -9.90791321e-02, -2.29398310e-02,\n",
      "                     1.22194648e-01, -1.06562003e-01, -3.67064029e-02,\n",
      "                     1.41975164e-01,  8.84004533e-02],\n",
      "                   [ 1.80475906e-01,  1.18611172e-01,  5.27172148e-01,\n",
      "                    -1.53576493e-01, -3.86223495e-02, -1.22963965e-01,\n",
      "                     6.26537204e-03,  1.59997195e-02],\n",
      "                   [ 1.44997731e-01,  5.34001887e-01, -3.44355702e-01,\n",
      "                    -9.43373889e-02,  1.35723546e-01, -8.21428001e-03,\n",
      "                     1.19161576e-01, -4.11049873e-01],\n",
      "                   [ 2.49562308e-01,  2.14895070e-01,  3.24747413e-01,\n",
      "                    -4.91989821e-01, -1.14358604e-01, -2.11471766e-02,\n",
      "                     7.69384056e-02,  3.31377953e-01],\n",
      "                   [ 4.12400961e-02, -1.21448129e-01, -3.10940951e-01,\n",
      "                     3.62135917e-01, -2.74279505e-01, -5.16959727e-01,\n",
      "                    -5.41966110e-02,  5.59358776e-01],\n",
      "                   [-4.59979326e-02, -6.31721616e-02,  1.12806559e-01,\n",
      "                     3.72395158e-01,  1.19805962e-01,  2.30253354e-01,\n",
      "                    -1.38900071e-01,  4.47024256e-02],\n",
      "                   [-6.63795918e-02, -3.46704483e-01, -4.84587103e-01,\n",
      "                     1.17089063e-01, -2.02461109e-01, -3.72340679e-01,\n",
      "                     5.67471862e-01, -2.42814660e-01],\n",
      "                   [ 3.36931586e-01, -1.21137276e-01,  3.77372414e-01,\n",
      "                     4.15773571e-01,  4.28524017e-02, -3.28820884e-01,\n",
      "                     4.96313870e-01, -1.31856978e-01],\n",
      "                   [ 3.29436898e-01,  7.28745610e-02,  2.03800440e-01,\n",
      "                     1.12697810e-01,  3.64428341e-01,  1.61250725e-01,\n",
      "                    -2.09109023e-01,  5.50374389e-04],\n",
      "                   [ 1.63456157e-01,  4.27365303e-04, -4.44933087e-01,\n",
      "                    -9.06845927e-02,  3.35955739e-01,  4.89923060e-01,\n",
      "                    -1.45878360e-01, -2.39348367e-01],\n",
      "                   [-2.70905137e-01,  1.98488906e-01,  1.63834617e-01,\n",
      "                    -3.97947073e-01,  8.93427432e-02,  3.55304182e-01,\n",
      "                    -4.33428586e-03, -2.55934328e-01],\n",
      "                   [ 2.71844625e-01, -6.50432259e-02,  5.75310588e-02,\n",
      "                     8.60967785e-02,  4.62493598e-02,  6.84029907e-02,\n",
      "                    -3.49441171e-01,  3.20650488e-01],\n",
      "                   [ 3.87197286e-01,  1.02545783e-01, -3.67730916e-01,\n",
      "                    -1.37638271e-01, -2.77009606e-03, -9.75389779e-03,\n",
      "                    -2.03590691e-02, -3.78600478e-01],\n",
      "                   [ 1.50330022e-01, -1.60095751e-01, -4.73224610e-01,\n",
      "                     2.41277546e-01,  4.34343666e-02, -3.39222372e-01,\n",
      "                     1.99609801e-01, -1.64232552e-01],\n",
      "                   [-9.00829434e-02,  1.48896724e-01, -3.05355638e-02,\n",
      "                     4.30268049e-01, -3.87655228e-01,  5.50715089e-01,\n",
      "                    -9.88793373e-02, -3.92895550e-01]], dtype=float32),\n",
      "        },\n",
      "        Dense_3: {\n",
      "            bias: array([0.23491552], dtype=float32),\n",
      "            kernel: array([[-0.07592528],\n",
      "                   [ 0.6634377 ],\n",
      "                   [ 0.19396022],\n",
      "                   [-0.21857148],\n",
      "                   [ 0.4474389 ],\n",
      "                   [ 0.7258897 ],\n",
      "                   [-0.07620342],\n",
      "                   [-0.20487784]], dtype=float32),\n",
      "        },\n",
      "    },\n",
      "})\n"
     ]
    }
   ],
   "source": [
    "params_spu = spu(train_auto_grad)(x1_, x2_, y_, init_params)\n",
    "params = sf.reveal(params_spu)\n",
    "print(params)"
   ]
  },
  {
   "attachments": {},
   "cell_type": "markdown",
   "metadata": {
    "pycharm": {
     "name": "#%% md\n"
    }
   },
   "source": [
    "Lastly, let's validate the model."
   ]
  },
  {
   "cell_type": "code",
   "execution_count": 9,
   "metadata": {
    "pycharm": {
     "name": "#%%\n"
    }
   },
   "outputs": [
    {
     "name": "stdout",
     "output_type": "stream",
     "text": [
      "auc=0.9927939731411726\n"
     ]
    }
   ],
   "source": [
    "X_test, y_test = breast_cancer(train=False)\n",
    "auc = validate_model(params, X_test, y_test)\n",
    "print(f'auc={auc}')"
   ]
  },
  {
   "attachments": {},
   "cell_type": "markdown",
   "metadata": {
    "pycharm": {
     "name": "#%% md\n"
    }
   },
   "source": [
    "This is the end of the lab."
   ]
  }
 ],
 "metadata": {
  "kernelspec": {
   "name": "default",
   "language": "python",
   "display_name": "default"
  },
  "language_info": {
   "codemirror_mode": {
    "name": "ipython",
    "version": 3
   },
   "file_extension": ".py",
   "mimetype": "text/x-python",
   "name": "python",
   "nbconvert_exporter": "python",
   "pygments_lexer": "ipython3",
   "version": "3.8.15"
  },
  "vscode": {
   "interpreter": {
    "hash": "db45a4cb4cd37a8de684dfb7fcf899b68fccb8bd32d97c5ad13e5de1245c0986"
   }
  }
 },
 "nbformat": 4,
 "nbformat_minor": 2
}